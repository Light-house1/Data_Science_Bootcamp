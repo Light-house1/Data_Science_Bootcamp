{
    "cells": [
        {
            "cell_type": "code",
            "execution_count": 3,
            "metadata": {},
            "outputs": [],
            "source": [
                "import pandas as pd"
            ]
        },
        {
            "cell_type": "code",
            "execution_count": 5,
            "metadata": {},
            "outputs": [
                {
                    "data": {
                        "text/plain": [
                            "0    4\n",
                            "1    7\n",
                            "2   -5\n",
                            "3    3\n",
                            "dtype: int64"
                        ]
                    },
                    "execution_count": 5,
                    "metadata": {},
                    "output_type": "execute_result"
                }
            ],
            "source": [
                "obj = pd.Series([4,7,-5,3])\n",
                "\n",
                "obj"
            ]
        },
        {
            "cell_type": "code",
            "execution_count": 8,
            "metadata": {},
            "outputs": [
                {
                    "name": "stdout",
                    "output_type": "stream",
                    "text": [
                        "RangeIndex(start=0, stop=4, step=1)\n"
                    ]
                }
            ],
            "source": [
                "obj.values\n",
                "print(obj.index)"
            ]
        },
        {
            "cell_type": "code",
            "execution_count": 10,
            "metadata": {},
            "outputs": [
                {
                    "data": {
                        "text/plain": [
                            "Index(['d', 'b', 'a', 'c'], dtype='object')"
                        ]
                    },
                    "execution_count": 10,
                    "metadata": {},
                    "output_type": "execute_result"
                }
            ],
            "source": [
                "obj2 = pd.Series([4,7,-5,3], index = ['d','b','a','c'])\n",
                "obj2.index"
            ]
        },
        {
            "cell_type": "code",
            "execution_count": 13,
            "metadata": {},
            "outputs": [
                {
                    "data": {
                        "text/plain": [
                            "a   -5\n",
                            "d    4\n",
                            "c    3\n",
                            "dtype: int64"
                        ]
                    },
                    "execution_count": 13,
                    "metadata": {},
                    "output_type": "execute_result"
                }
            ],
            "source": [
                "obj2[['a','d','c']]"
            ]
        },
        {
            "cell_type": "code",
            "execution_count": 15,
            "metadata": {},
            "outputs": [
                {
                    "data": {
                        "text/plain": [
                            "True"
                        ]
                    },
                    "execution_count": 15,
                    "metadata": {},
                    "output_type": "execute_result"
                }
            ],
            "source": [
                "'a' in obj2"
            ]
        },
        {
            "cell_type": "code",
            "execution_count": 28,
            "metadata": {},
            "outputs": [
                {
                    "data": {
                        "text/plain": [
                            "Lagos      35000\n",
                            "Texas     71000\n",
                            "Oregon    16000\n",
                            "Utah       5000\n",
                            "dtype: int64"
                        ]
                    },
                    "execution_count": 28,
                    "metadata": {},
                    "output_type": "execute_result"
                }
            ],
            "source": [
                "sdata = {'Lagos': 35000, 'Texas': 71000, 'Oregon': 16000, 'Utah': 5000}\n",
                "obj3 = pd.Series(sdata)\n",
                "obj3"
            ]
        },
        {
            "cell_type": "code",
            "execution_count": 29,
            "metadata": {},
            "outputs": [
                {
                    "data": {
                        "text/plain": [
                            "California        NaN\n",
                            "Lagos          35000.0\n",
                            "Oregon        16000.0\n",
                            "Texas         71000.0\n",
                            "Utah           5000.0\n",
                            "dtype: float64"
                        ]
                    },
                    "execution_count": 29,
                    "metadata": {},
                    "output_type": "execute_result"
                }
            ],
            "source": [
                "states = ['California', 'Lagos', 'Oregon', 'Texas', 'Utah']\n",
                "obj4 = pd.Series(sdata, index=states)\n",
                "obj4\n"
            ]
        },
        {
            "cell_type": "code",
            "execution_count": 34,
            "metadata": {},
            "outputs": [
                {
                    "data": {
                        "text/plain": [
                            "California        NaN\n",
                            "Lagos          65000.0\n",
                            "Oregon        16000.0\n",
                            "Texas         71000.0\n",
                            "Utah           5000.0\n",
                            "dtype: float64"
                        ]
                    },
                    "execution_count": 34,
                    "metadata": {},
                    "output_type": "execute_result"
                }
            ],
            "source": [
                "obj4['Lagos'] = 65000\n",
                "\n",
                "obj4"
            ]
        },
        {
            "cell_type": "code",
            "execution_count": 27,
            "metadata": {},
            "outputs": [
                {
                    "data": {
                        "text/plain": [
                            "California    False\n",
                            "Lagos           True\n",
                            "Oregon         True\n",
                            "Texas          True\n",
                            "Utah           True\n",
                            "dtype: bool"
                        ]
                    },
                    "execution_count": 27,
                    "metadata": {},
                    "output_type": "execute_result"
                }
            ],
            "source": [
                "# pd.isnull(obj3)\n",
                "\n",
                "pd.notnull(obj3)\n"
            ]
        },
        {
            "cell_type": "code",
            "execution_count": 25,
            "metadata": {},
            "outputs": [
                {
                    "data": {
                        "text/plain": [
                            "California     True\n",
                            "Lagos          False\n",
                            "Oregon        False\n",
                            "Texas         False\n",
                            "Utah          False\n",
                            "dtype: bool"
                        ]
                    },
                    "execution_count": 25,
                    "metadata": {},
                    "output_type": "execute_result"
                }
            ],
            "source": [
                "#to find the NaN positions, we could use pd.isnull() and pd.notnull()\n",
                "\n",
                "obj3.isnull() #this is a series instance method\n",
                "# obj3.notnull()  "
            ]
        },
        {
            "cell_type": "markdown",
            "metadata": {},
            "source": [
                "Operations on Series\n",
                "* Addition\n",
                "* Subtraction\n",
                "* Division"
            ]
        },
        {
            "cell_type": "code",
            "execution_count": 35,
            "metadata": {},
            "outputs": [
                {
                    "data": {
                        "text/plain": [
                            "California         NaN\n",
                            "Lagos          100000.0\n",
                            "Oregon         32000.0\n",
                            "Texas         142000.0\n",
                            "Utah           10000.0\n",
                            "dtype: float64"
                        ]
                    },
                    "execution_count": 35,
                    "metadata": {},
                    "output_type": "execute_result"
                }
            ],
            "source": [
                "# Addition\n",
                "obj3 + obj4"
            ]
        },
        {
            "cell_type": "code",
            "execution_count": 36,
            "metadata": {},
            "outputs": [
                {
                    "data": {
                        "text/plain": [
                            "California         NaN\n",
                            "Lagos          0.538462\n",
                            "Oregon        1.000000\n",
                            "Texas         1.000000\n",
                            "Utah          1.000000\n",
                            "dtype: float64"
                        ]
                    },
                    "execution_count": 36,
                    "metadata": {},
                    "output_type": "execute_result"
                }
            ],
            "source": [
                "# Division\n",
                "obj3/obj4"
            ]
        },
        {
            "cell_type": "code",
            "execution_count": 37,
            "metadata": {},
            "outputs": [
                {
                    "data": {
                        "text/plain": [
                            "California    NaN\n",
                            "Lagos          0.0\n",
                            "Oregon        1.0\n",
                            "Texas         1.0\n",
                            "Utah          1.0\n",
                            "dtype: float64"
                        ]
                    },
                    "execution_count": 37,
                    "metadata": {},
                    "output_type": "execute_result"
                }
            ],
            "source": [
                "# integer division\n",
                "obj3//obj4"
            ]
        },
        {
            "cell_type": "code",
            "execution_count": 41,
            "metadata": {},
            "outputs": [
                {
                    "data": {
                        "text/plain": [
                            "state\n",
                            "California        NaN\n",
                            "Lagos          65000.0\n",
                            "Oregon        16000.0\n",
                            "Texas         71000.0\n",
                            "Utah           5000.0\n",
                            "Name: population, dtype: float64"
                        ]
                    },
                    "execution_count": 41,
                    "metadata": {},
                    "output_type": "execute_result"
                }
            ],
            "source": [
                "# Both the Series object itself and its index have a name attribute,\n",
                "obj4.name = 'population'\n",
                "obj4.index.name = 'state'\n",
                "\n",
                "obj4"
            ]
        },
        {
            "cell_type": "markdown",
            "metadata": {},
            "source": [
                "DataFrame\n",
                "\n",
                "A DataFrame represents a tabular, spreadsheet-like data structure containing an ordered\n",
                "collection of columns, each of which can be a different value type (numeric,\n",
                "string, boolean, etc.). The DataFrame has both a row and column index; it can be\n",
                "thought of as a dict of Series (one for all sharing the same index)"
            ]
        },
        {
            "cell_type": "code",
            "execution_count": 68,
            "metadata": {},
            "outputs": [
                {
                    "data": {
                        "text/html": [
                            "<div>\n",
                            "<style scoped>\n",
                            "    .dataframe tbody tr th:only-of-type {\n",
                            "        vertical-align: middle;\n",
                            "    }\n",
                            "\n",
                            "    .dataframe tbody tr th {\n",
                            "        vertical-align: top;\n",
                            "    }\n",
                            "\n",
                            "    .dataframe thead th {\n",
                            "        text-align: right;\n",
                            "    }\n",
                            "</style>\n",
                            "<table border=\"1\" class=\"dataframe\">\n",
                            "  <thead>\n",
                            "    <tr style=\"text-align: right;\">\n",
                            "      <th></th>\n",
                            "      <th>state</th>\n",
                            "      <th>year</th>\n",
                            "      <th>pop</th>\n",
                            "    </tr>\n",
                            "  </thead>\n",
                            "  <tbody>\n",
                            "    <tr>\n",
                            "      <th>0</th>\n",
                            "      <td>Lagos</td>\n",
                            "      <td>2000</td>\n",
                            "      <td>1.5</td>\n",
                            "    </tr>\n",
                            "    <tr>\n",
                            "      <th>1</th>\n",
                            "      <td>Lagos</td>\n",
                            "      <td>2001</td>\n",
                            "      <td>1.7</td>\n",
                            "    </tr>\n",
                            "    <tr>\n",
                            "      <th>2</th>\n",
                            "      <td>Lagos</td>\n",
                            "      <td>2002</td>\n",
                            "      <td>3.6</td>\n",
                            "    </tr>\n",
                            "    <tr>\n",
                            "      <th>3</th>\n",
                            "      <td>Kano</td>\n",
                            "      <td>2001</td>\n",
                            "      <td>2.4</td>\n",
                            "    </tr>\n",
                            "    <tr>\n",
                            "      <th>4</th>\n",
                            "      <td>Kano</td>\n",
                            "      <td>2002</td>\n",
                            "      <td>2.9</td>\n",
                            "    </tr>\n",
                            "  </tbody>\n",
                            "</table>\n",
                            "</div>"
                        ],
                        "text/plain": [
                            "   state  year  pop\n",
                            "0  Lagos  2000  1.5\n",
                            "1  Lagos  2001  1.7\n",
                            "2  Lagos  2002  3.6\n",
                            "3   Kano  2001  2.4\n",
                            "4   Kano  2002  2.9"
                        ]
                    },
                    "execution_count": 68,
                    "metadata": {},
                    "output_type": "execute_result"
                }
            ],
            "source": [
                "data = {'state': ['Lagos', 'Lagos', 'Lagos', 'Kano', 'Kano'],\n",
                "        'year': [2000, 2001, 2002, 2001, 2002],\n",
                "        'pop': [1.5, 1.7, 3.6, 2.4, 2.9]}\n",
                "frame = pd.DataFrame(data)\n",
                "frame"
            ]
        },
        {
            "cell_type": "code",
            "execution_count": 69,
            "metadata": {},
            "outputs": [
                {
                    "data": {
                        "text/html": [
                            "<div>\n",
                            "<style scoped>\n",
                            "    .dataframe tbody tr th:only-of-type {\n",
                            "        vertical-align: middle;\n",
                            "    }\n",
                            "\n",
                            "    .dataframe tbody tr th {\n",
                            "        vertical-align: top;\n",
                            "    }\n",
                            "\n",
                            "    .dataframe thead th {\n",
                            "        text-align: right;\n",
                            "    }\n",
                            "</style>\n",
                            "<table border=\"1\" class=\"dataframe\">\n",
                            "  <thead>\n",
                            "    <tr style=\"text-align: right;\">\n",
                            "      <th></th>\n",
                            "      <th>year</th>\n",
                            "      <th>state</th>\n",
                            "      <th>pop</th>\n",
                            "    </tr>\n",
                            "  </thead>\n",
                            "  <tbody>\n",
                            "    <tr>\n",
                            "      <th>0</th>\n",
                            "      <td>2000</td>\n",
                            "      <td>Lagos</td>\n",
                            "      <td>1.5</td>\n",
                            "    </tr>\n",
                            "    <tr>\n",
                            "      <th>1</th>\n",
                            "      <td>2001</td>\n",
                            "      <td>Lagos</td>\n",
                            "      <td>1.7</td>\n",
                            "    </tr>\n",
                            "    <tr>\n",
                            "      <th>2</th>\n",
                            "      <td>2002</td>\n",
                            "      <td>Lagos</td>\n",
                            "      <td>3.6</td>\n",
                            "    </tr>\n",
                            "    <tr>\n",
                            "      <th>3</th>\n",
                            "      <td>2001</td>\n",
                            "      <td>Kano</td>\n",
                            "      <td>2.4</td>\n",
                            "    </tr>\n",
                            "    <tr>\n",
                            "      <th>4</th>\n",
                            "      <td>2002</td>\n",
                            "      <td>Kano</td>\n",
                            "      <td>2.9</td>\n",
                            "    </tr>\n",
                            "  </tbody>\n",
                            "</table>\n",
                            "</div>"
                        ],
                        "text/plain": [
                            "   year  state  pop\n",
                            "0  2000  Lagos  1.5\n",
                            "1  2001  Lagos  1.7\n",
                            "2  2002  Lagos  3.6\n",
                            "3  2001   Kano  2.4\n",
                            "4  2002   Kano  2.9"
                        ]
                    },
                    "execution_count": 69,
                    "metadata": {},
                    "output_type": "execute_result"
                }
            ],
            "source": [
                "pd.DataFrame(data, columns = ['year', 'state', 'pop'])"
            ]
        },
        {
            "cell_type": "code",
            "execution_count": 70,
            "metadata": {},
            "outputs": [
                {
                    "data": {
                        "text/html": [
                            "<div>\n",
                            "<style scoped>\n",
                            "    .dataframe tbody tr th:only-of-type {\n",
                            "        vertical-align: middle;\n",
                            "    }\n",
                            "\n",
                            "    .dataframe tbody tr th {\n",
                            "        vertical-align: top;\n",
                            "    }\n",
                            "\n",
                            "    .dataframe thead th {\n",
                            "        text-align: right;\n",
                            "    }\n",
                            "</style>\n",
                            "<table border=\"1\" class=\"dataframe\">\n",
                            "  <thead>\n",
                            "    <tr style=\"text-align: right;\">\n",
                            "      <th></th>\n",
                            "      <th>year</th>\n",
                            "      <th>state</th>\n",
                            "      <th>pop</th>\n",
                            "      <th>debt</th>\n",
                            "    </tr>\n",
                            "  </thead>\n",
                            "  <tbody>\n",
                            "    <tr>\n",
                            "      <th>one</th>\n",
                            "      <td>2000</td>\n",
                            "      <td>Lagos</td>\n",
                            "      <td>1.5</td>\n",
                            "      <td>NaN</td>\n",
                            "    </tr>\n",
                            "    <tr>\n",
                            "      <th>two</th>\n",
                            "      <td>2001</td>\n",
                            "      <td>Lagos</td>\n",
                            "      <td>1.7</td>\n",
                            "      <td>NaN</td>\n",
                            "    </tr>\n",
                            "    <tr>\n",
                            "      <th>three</th>\n",
                            "      <td>2002</td>\n",
                            "      <td>Lagos</td>\n",
                            "      <td>3.6</td>\n",
                            "      <td>NaN</td>\n",
                            "    </tr>\n",
                            "    <tr>\n",
                            "      <th>four</th>\n",
                            "      <td>2001</td>\n",
                            "      <td>Kano</td>\n",
                            "      <td>2.4</td>\n",
                            "      <td>NaN</td>\n",
                            "    </tr>\n",
                            "    <tr>\n",
                            "      <th>five</th>\n",
                            "      <td>2002</td>\n",
                            "      <td>Kano</td>\n",
                            "      <td>2.9</td>\n",
                            "      <td>NaN</td>\n",
                            "    </tr>\n",
                            "  </tbody>\n",
                            "</table>\n",
                            "</div>"
                        ],
                        "text/plain": [
                            "       year  state  pop debt\n",
                            "one    2000  Lagos  1.5  NaN\n",
                            "two    2001  Lagos  1.7  NaN\n",
                            "three  2002  Lagos  3.6  NaN\n",
                            "four   2001   Kano  2.4  NaN\n",
                            "five   2002   Kano  2.9  NaN"
                        ]
                    },
                    "execution_count": 70,
                    "metadata": {},
                    "output_type": "execute_result"
                }
            ],
            "source": [
                "frame2 = pd.DataFrame(data, columns=['year', 'state', 'pop', 'debt'],\n",
                "                   index=['one', 'two', 'three', 'four', 'five'])\n",
                "frame2"
            ]
        },
        {
            "cell_type": "code",
            "execution_count": 71,
            "metadata": {},
            "outputs": [
                {
                    "data": {
                        "text/plain": [
                            "Index(['year', 'state', 'pop', 'debt'], dtype='object')"
                        ]
                    },
                    "execution_count": 71,
                    "metadata": {},
                    "output_type": "execute_result"
                }
            ],
            "source": [
                "frame2.columns"
            ]
        },
        {
            "cell_type": "code",
            "execution_count": 72,
            "metadata": {},
            "outputs": [
                {
                    "data": {
                        "text/plain": [
                            "one      Lagos\n",
                            "two      Lagos\n",
                            "three    Lagos\n",
                            "four      Kano\n",
                            "five      Kano\n",
                            "Name: state, dtype: object"
                        ]
                    },
                    "execution_count": 72,
                    "metadata": {},
                    "output_type": "execute_result"
                }
            ],
            "source": [
                "# A column in a DataFrame can be retrieved as a Series either by dict-like notation or by\n",
                "# attribute:\n",
                "frame2.state\n",
                "# print(frame2['year'])\n",
                "# print(frame2.year)\n"
            ]
        },
        {
            "cell_type": "code",
            "execution_count": 73,
            "metadata": {},
            "outputs": [
                {
                    "data": {
                        "text/html": [
                            "<div>\n",
                            "<style scoped>\n",
                            "    .dataframe tbody tr th:only-of-type {\n",
                            "        vertical-align: middle;\n",
                            "    }\n",
                            "\n",
                            "    .dataframe tbody tr th {\n",
                            "        vertical-align: top;\n",
                            "    }\n",
                            "\n",
                            "    .dataframe thead th {\n",
                            "        text-align: right;\n",
                            "    }\n",
                            "</style>\n",
                            "<table border=\"1\" class=\"dataframe\">\n",
                            "  <thead>\n",
                            "    <tr style=\"text-align: right;\">\n",
                            "      <th></th>\n",
                            "      <th>year</th>\n",
                            "      <th>state</th>\n",
                            "      <th>pop</th>\n",
                            "      <th>debt</th>\n",
                            "    </tr>\n",
                            "  </thead>\n",
                            "  <tbody>\n",
                            "    <tr>\n",
                            "      <th>one</th>\n",
                            "      <td>2000</td>\n",
                            "      <td>Lagos</td>\n",
                            "      <td>1.5</td>\n",
                            "      <td>0</td>\n",
                            "    </tr>\n",
                            "    <tr>\n",
                            "      <th>two</th>\n",
                            "      <td>2001</td>\n",
                            "      <td>Lagos</td>\n",
                            "      <td>1.7</td>\n",
                            "      <td>1</td>\n",
                            "    </tr>\n",
                            "    <tr>\n",
                            "      <th>three</th>\n",
                            "      <td>2002</td>\n",
                            "      <td>Lagos</td>\n",
                            "      <td>3.6</td>\n",
                            "      <td>2</td>\n",
                            "    </tr>\n",
                            "    <tr>\n",
                            "      <th>four</th>\n",
                            "      <td>2001</td>\n",
                            "      <td>Kano</td>\n",
                            "      <td>2.4</td>\n",
                            "      <td>3</td>\n",
                            "    </tr>\n",
                            "    <tr>\n",
                            "      <th>five</th>\n",
                            "      <td>2002</td>\n",
                            "      <td>Kano</td>\n",
                            "      <td>2.9</td>\n",
                            "      <td>4</td>\n",
                            "    </tr>\n",
                            "  </tbody>\n",
                            "</table>\n",
                            "</div>"
                        ],
                        "text/plain": [
                            "       year  state  pop  debt\n",
                            "one    2000  Lagos  1.5     0\n",
                            "two    2001  Lagos  1.7     1\n",
                            "three  2002  Lagos  3.6     2\n",
                            "four   2001   Kano  2.4     3\n",
                            "five   2002   Kano  2.9     4"
                        ]
                    },
                    "execution_count": 73,
                    "metadata": {},
                    "output_type": "execute_result"
                }
            ],
            "source": [
                "# Columns can be modified by assignment. For example, the empty 'debt' column could\n",
                "# be assigned a scalar value or an array of values:\n",
                "import numpy as np\n",
                "frame2['debt'] = np.arange(5)\n",
                "frame2\n"
            ]
        },
        {
            "cell_type": "code",
            "execution_count": 74,
            "metadata": {},
            "outputs": [
                {
                    "data": {
                        "text/html": [
                            "<div>\n",
                            "<style scoped>\n",
                            "    .dataframe tbody tr th:only-of-type {\n",
                            "        vertical-align: middle;\n",
                            "    }\n",
                            "\n",
                            "    .dataframe tbody tr th {\n",
                            "        vertical-align: top;\n",
                            "    }\n",
                            "\n",
                            "    .dataframe thead th {\n",
                            "        text-align: right;\n",
                            "    }\n",
                            "</style>\n",
                            "<table border=\"1\" class=\"dataframe\">\n",
                            "  <thead>\n",
                            "    <tr style=\"text-align: right;\">\n",
                            "      <th></th>\n",
                            "      <th>year</th>\n",
                            "      <th>state</th>\n",
                            "      <th>pop</th>\n",
                            "      <th>debt</th>\n",
                            "    </tr>\n",
                            "  </thead>\n",
                            "  <tbody>\n",
                            "    <tr>\n",
                            "      <th>one</th>\n",
                            "      <td>2000</td>\n",
                            "      <td>Lagos</td>\n",
                            "      <td>1.5</td>\n",
                            "      <td>NaN</td>\n",
                            "    </tr>\n",
                            "    <tr>\n",
                            "      <th>two</th>\n",
                            "      <td>2001</td>\n",
                            "      <td>Lagos</td>\n",
                            "      <td>1.7</td>\n",
                            "      <td>900.0</td>\n",
                            "    </tr>\n",
                            "    <tr>\n",
                            "      <th>three</th>\n",
                            "      <td>2002</td>\n",
                            "      <td>Lagos</td>\n",
                            "      <td>3.6</td>\n",
                            "      <td>210.0</td>\n",
                            "    </tr>\n",
                            "    <tr>\n",
                            "      <th>four</th>\n",
                            "      <td>2001</td>\n",
                            "      <td>Kano</td>\n",
                            "      <td>2.4</td>\n",
                            "      <td>322.0</td>\n",
                            "    </tr>\n",
                            "    <tr>\n",
                            "      <th>five</th>\n",
                            "      <td>2002</td>\n",
                            "      <td>Kano</td>\n",
                            "      <td>2.9</td>\n",
                            "      <td>NaN</td>\n",
                            "    </tr>\n",
                            "  </tbody>\n",
                            "</table>\n",
                            "</div>"
                        ],
                        "text/plain": [
                            "       year  state  pop   debt\n",
                            "one    2000  Lagos  1.5    NaN\n",
                            "two    2001  Lagos  1.7  900.0\n",
                            "three  2002  Lagos  3.6  210.0\n",
                            "four   2001   Kano  2.4  322.0\n",
                            "five   2002   Kano  2.9    NaN"
                        ]
                    },
                    "execution_count": 74,
                    "metadata": {},
                    "output_type": "execute_result"
                }
            ],
            "source": [
                "frame2['debt'] = pd.Series([900,210,322], index = ['two','three', 'four'])\n",
                "frame2"
            ]
        },
        {
            "cell_type": "code",
            "execution_count": 75,
            "metadata": {},
            "outputs": [
                {
                    "data": {
                        "text/html": [
                            "<div>\n",
                            "<style scoped>\n",
                            "    .dataframe tbody tr th:only-of-type {\n",
                            "        vertical-align: middle;\n",
                            "    }\n",
                            "\n",
                            "    .dataframe tbody tr th {\n",
                            "        vertical-align: top;\n",
                            "    }\n",
                            "\n",
                            "    .dataframe thead th {\n",
                            "        text-align: right;\n",
                            "    }\n",
                            "</style>\n",
                            "<table border=\"1\" class=\"dataframe\">\n",
                            "  <thead>\n",
                            "    <tr style=\"text-align: right;\">\n",
                            "      <th></th>\n",
                            "      <th>state</th>\n",
                            "      <th>year</th>\n",
                            "      <th>pop</th>\n",
                            "    </tr>\n",
                            "  </thead>\n",
                            "  <tbody>\n",
                            "    <tr>\n",
                            "      <th>1</th>\n",
                            "      <td>Lagos</td>\n",
                            "      <td>2000</td>\n",
                            "      <td>1.5</td>\n",
                            "    </tr>\n",
                            "    <tr>\n",
                            "      <th>2</th>\n",
                            "      <td>Lagos</td>\n",
                            "      <td>2001</td>\n",
                            "      <td>1.7</td>\n",
                            "    </tr>\n",
                            "    <tr>\n",
                            "      <th>3</th>\n",
                            "      <td>Lagos</td>\n",
                            "      <td>2002</td>\n",
                            "      <td>3.6</td>\n",
                            "    </tr>\n",
                            "    <tr>\n",
                            "      <th>4</th>\n",
                            "      <td>Kano</td>\n",
                            "      <td>2001</td>\n",
                            "      <td>2.4</td>\n",
                            "    </tr>\n",
                            "    <tr>\n",
                            "      <th>5</th>\n",
                            "      <td>Kano</td>\n",
                            "      <td>2002</td>\n",
                            "      <td>2.9</td>\n",
                            "    </tr>\n",
                            "  </tbody>\n",
                            "</table>\n",
                            "</div>"
                        ],
                        "text/plain": [
                            "   state  year  pop\n",
                            "1  Lagos  2000  1.5\n",
                            "2  Lagos  2001  1.7\n",
                            "3  Lagos  2002  3.6\n",
                            "4   Kano  2001  2.4\n",
                            "5   Kano  2002  2.9"
                        ]
                    },
                    "execution_count": 75,
                    "metadata": {},
                    "output_type": "execute_result"
                }
            ],
            "source": [
                "frame2 = pd.DataFrame(data, index =([1,2,3,4,5]))\n",
                "frame2"
            ]
        },
        {
            "cell_type": "code",
            "execution_count": 76,
            "metadata": {},
            "outputs": [
                {
                    "data": {
                        "text/html": [
                            "<div>\n",
                            "<style scoped>\n",
                            "    .dataframe tbody tr th:only-of-type {\n",
                            "        vertical-align: middle;\n",
                            "    }\n",
                            "\n",
                            "    .dataframe tbody tr th {\n",
                            "        vertical-align: top;\n",
                            "    }\n",
                            "\n",
                            "    .dataframe thead th {\n",
                            "        text-align: right;\n",
                            "    }\n",
                            "</style>\n",
                            "<table border=\"1\" class=\"dataframe\">\n",
                            "  <thead>\n",
                            "    <tr style=\"text-align: right;\">\n",
                            "      <th></th>\n",
                            "      <th>state</th>\n",
                            "      <th>year</th>\n",
                            "      <th>pop</th>\n",
                            "      <th>western</th>\n",
                            "    </tr>\n",
                            "  </thead>\n",
                            "  <tbody>\n",
                            "    <tr>\n",
                            "      <th>1</th>\n",
                            "      <td>Lagos</td>\n",
                            "      <td>2000</td>\n",
                            "      <td>1.5</td>\n",
                            "      <td>True</td>\n",
                            "    </tr>\n",
                            "    <tr>\n",
                            "      <th>2</th>\n",
                            "      <td>Lagos</td>\n",
                            "      <td>2001</td>\n",
                            "      <td>1.7</td>\n",
                            "      <td>True</td>\n",
                            "    </tr>\n",
                            "    <tr>\n",
                            "      <th>3</th>\n",
                            "      <td>Lagos</td>\n",
                            "      <td>2002</td>\n",
                            "      <td>3.6</td>\n",
                            "      <td>True</td>\n",
                            "    </tr>\n",
                            "    <tr>\n",
                            "      <th>4</th>\n",
                            "      <td>Kano</td>\n",
                            "      <td>2001</td>\n",
                            "      <td>2.4</td>\n",
                            "      <td>False</td>\n",
                            "    </tr>\n",
                            "    <tr>\n",
                            "      <th>5</th>\n",
                            "      <td>Kano</td>\n",
                            "      <td>2002</td>\n",
                            "      <td>2.9</td>\n",
                            "      <td>False</td>\n",
                            "    </tr>\n",
                            "  </tbody>\n",
                            "</table>\n",
                            "</div>"
                        ],
                        "text/plain": [
                            "   state  year  pop  western\n",
                            "1  Lagos  2000  1.5     True\n",
                            "2  Lagos  2001  1.7     True\n",
                            "3  Lagos  2002  3.6     True\n",
                            "4   Kano  2001  2.4    False\n",
                            "5   Kano  2002  2.9    False"
                        ]
                    },
                    "execution_count": 76,
                    "metadata": {},
                    "output_type": "execute_result"
                }
            ],
            "source": [
                "# Assigning a column that doesn’t exist will create a new column. The del keyword will delete columns as with a dict:\n",
                "frame2['western'] = frame2.state =='Lagos'\n",
                "frame2"
            ]
        },
        {
            "cell_type": "code",
            "execution_count": 77,
            "metadata": {},
            "outputs": [
                {
                    "data": {
                        "text/plain": [
                            "Index(['state', 'year', 'pop'], dtype='object')"
                        ]
                    },
                    "execution_count": 77,
                    "metadata": {},
                    "output_type": "execute_result"
                }
            ],
            "source": [
                "del frame2['western']\n",
                "\n",
                "frame2.columns"
            ]
        },
        {
            "cell_type": "code",
            "execution_count": 81,
            "metadata": {},
            "outputs": [
                {
                    "data": {
                        "text/html": [
                            "<div>\n",
                            "<style scoped>\n",
                            "    .dataframe tbody tr th:only-of-type {\n",
                            "        vertical-align: middle;\n",
                            "    }\n",
                            "\n",
                            "    .dataframe tbody tr th {\n",
                            "        vertical-align: top;\n",
                            "    }\n",
                            "\n",
                            "    .dataframe thead th {\n",
                            "        text-align: right;\n",
                            "    }\n",
                            "</style>\n",
                            "<table border=\"1\" class=\"dataframe\">\n",
                            "  <thead>\n",
                            "    <tr style=\"text-align: right;\">\n",
                            "      <th></th>\n",
                            "      <th>Kano</th>\n",
                            "      <th>Lagos</th>\n",
                            "    </tr>\n",
                            "  </thead>\n",
                            "  <tbody>\n",
                            "    <tr>\n",
                            "      <th>2000</th>\n",
                            "      <td>NaN</td>\n",
                            "      <td>1.5</td>\n",
                            "    </tr>\n",
                            "    <tr>\n",
                            "      <th>2001</th>\n",
                            "      <td>2.4</td>\n",
                            "      <td>1.7</td>\n",
                            "    </tr>\n",
                            "    <tr>\n",
                            "      <th>2002</th>\n",
                            "      <td>2.9</td>\n",
                            "      <td>3.6</td>\n",
                            "    </tr>\n",
                            "  </tbody>\n",
                            "</table>\n",
                            "</div>"
                        ],
                        "text/plain": [
                            "      Kano  Lagos\n",
                            "2000   NaN    1.5\n",
                            "2001   2.4    1.7\n",
                            "2002   2.9    3.6"
                        ]
                    },
                    "execution_count": 81,
                    "metadata": {},
                    "output_type": "execute_result"
                }
            ],
            "source": [
                "pop = {'Kano' : {2001: 2.4, 2002 : 2.9}, 'Lagos' : \n",
                "{2000 : 1.5, 2001: 1.7, 2002 : 3.6}}\n",
                "\n",
                "frame3 = pd.DataFrame(pop, index = [2000,2001,2002])\n",
                "frame3"
            ]
        },
        {
            "cell_type": "code",
            "execution_count": 82,
            "metadata": {},
            "outputs": [
                {
                    "data": {
                        "text/html": [
                            "<div>\n",
                            "<style scoped>\n",
                            "    .dataframe tbody tr th:only-of-type {\n",
                            "        vertical-align: middle;\n",
                            "    }\n",
                            "\n",
                            "    .dataframe tbody tr th {\n",
                            "        vertical-align: top;\n",
                            "    }\n",
                            "\n",
                            "    .dataframe thead th {\n",
                            "        text-align: right;\n",
                            "    }\n",
                            "</style>\n",
                            "<table border=\"1\" class=\"dataframe\">\n",
                            "  <thead>\n",
                            "    <tr style=\"text-align: right;\">\n",
                            "      <th></th>\n",
                            "      <th>2000</th>\n",
                            "      <th>2001</th>\n",
                            "      <th>2002</th>\n",
                            "    </tr>\n",
                            "  </thead>\n",
                            "  <tbody>\n",
                            "    <tr>\n",
                            "      <th>Kano</th>\n",
                            "      <td>NaN</td>\n",
                            "      <td>2.4</td>\n",
                            "      <td>2.9</td>\n",
                            "    </tr>\n",
                            "    <tr>\n",
                            "      <th>Lagos</th>\n",
                            "      <td>1.5</td>\n",
                            "      <td>1.7</td>\n",
                            "      <td>3.6</td>\n",
                            "    </tr>\n",
                            "  </tbody>\n",
                            "</table>\n",
                            "</div>"
                        ],
                        "text/plain": [
                            "       2000  2001  2002\n",
                            "Kano    NaN   2.4   2.9\n",
                            "Lagos   1.5   1.7   3.6"
                        ]
                    },
                    "execution_count": 82,
                    "metadata": {},
                    "output_type": "execute_result"
                }
            ],
            "source": [
                "# transpose the result:\n",
                "frame3.T"
            ]
        },
        {
            "cell_type": "code",
            "execution_count": 85,
            "metadata": {},
            "outputs": [
                {
                    "data": {
                        "text/html": [
                            "<div>\n",
                            "<style scoped>\n",
                            "    .dataframe tbody tr th:only-of-type {\n",
                            "        vertical-align: middle;\n",
                            "    }\n",
                            "\n",
                            "    .dataframe tbody tr th {\n",
                            "        vertical-align: top;\n",
                            "    }\n",
                            "\n",
                            "    .dataframe thead th {\n",
                            "        text-align: right;\n",
                            "    }\n",
                            "</style>\n",
                            "<table border=\"1\" class=\"dataframe\">\n",
                            "  <thead>\n",
                            "    <tr style=\"text-align: right;\">\n",
                            "      <th>States</th>\n",
                            "      <th>Kano</th>\n",
                            "      <th>Lagos</th>\n",
                            "    </tr>\n",
                            "    <tr>\n",
                            "      <th>year</th>\n",
                            "      <th></th>\n",
                            "      <th></th>\n",
                            "    </tr>\n",
                            "  </thead>\n",
                            "  <tbody>\n",
                            "    <tr>\n",
                            "      <th>2000</th>\n",
                            "      <td>NaN</td>\n",
                            "      <td>1.5</td>\n",
                            "    </tr>\n",
                            "    <tr>\n",
                            "      <th>2001</th>\n",
                            "      <td>2.4</td>\n",
                            "      <td>1.7</td>\n",
                            "    </tr>\n",
                            "    <tr>\n",
                            "      <th>2002</th>\n",
                            "      <td>2.9</td>\n",
                            "      <td>3.6</td>\n",
                            "    </tr>\n",
                            "  </tbody>\n",
                            "</table>\n",
                            "</div>"
                        ],
                        "text/plain": [
                            "States  Kano  Lagos\n",
                            "year               \n",
                            "2000     NaN    1.5\n",
                            "2001     2.4    1.7\n",
                            "2002     2.9    3.6"
                        ]
                    },
                    "execution_count": 85,
                    "metadata": {},
                    "output_type": "execute_result"
                }
            ],
            "source": [
                "frame3.index.name = 'year'; frame3.columns.name = 'States'\n",
                "frame3"
            ]
        },
        {
            "cell_type": "code",
            "execution_count": 90,
            "metadata": {},
            "outputs": [
                {
                    "data": {
                        "text/plain": [
                            "array([['Lagos', 2000, 1.5],\n",
                            "       ['Lagos', 2001, 1.7],\n",
                            "       ['Lagos', 2002, 3.6],\n",
                            "       ['Kano', 2001, 2.4],\n",
                            "       ['Kano', 2002, 2.9]], dtype=object)"
                        ]
                    },
                    "execution_count": 90,
                    "metadata": {},
                    "output_type": "execute_result"
                }
            ],
            "source": [
                "frame2.values "
            ]
        },
        {
            "cell_type": "markdown",
            "metadata": {},
            "source": [
                "Index Objects\n",
                "\n",
                "pandas’s Index objects are responsible for holding the axis labels and other metadata (like the axis name or names)."
            ]
        },
        {
            "cell_type": "code",
            "execution_count": 91,
            "metadata": {},
            "outputs": [
                {
                    "data": {
                        "text/plain": [
                            "a    0\n",
                            "b    1\n",
                            "c    2\n",
                            "dtype: int64"
                        ]
                    },
                    "execution_count": 91,
                    "metadata": {},
                    "output_type": "execute_result"
                }
            ],
            "source": [
                "obj = pd.Series(range(3), index=['a', 'b', 'c'])\n",
                "obj\n"
            ]
        },
        {
            "cell_type": "code",
            "execution_count": 93,
            "metadata": {},
            "outputs": [
                {
                    "data": {
                        "text/plain": [
                            "Index(['a', 'b', 'c'], dtype='object')"
                        ]
                    },
                    "execution_count": 93,
                    "metadata": {},
                    "output_type": "execute_result"
                }
            ],
            "source": [
                "a_index = obj.index\n",
                "a_index"
            ]
        },
        {
            "cell_type": "code",
            "execution_count": 95,
            "metadata": {},
            "outputs": [],
            "source": [
                "# Index objects are immutable and thus can’t be modified by the user:\n",
                "# a_index[1] ='d'\n"
            ]
        },
        {
            "cell_type": "code",
            "execution_count": 96,
            "metadata": {},
            "outputs": [
                {
                    "data": {
                        "text/plain": [
                            "0    1.5\n",
                            "1   -2.5\n",
                            "2    0.0\n",
                            "dtype: float64"
                        ]
                    },
                    "execution_count": 96,
                    "metadata": {},
                    "output_type": "execute_result"
                }
            ],
            "source": [
                "# Immutability is important so that Index objects can be safely shared among data structures:\n",
                "b_index = pd.Index(np.arange(3))\n",
                "\n",
                "obj2 = pd.Series([1.5,-2.5,0], index = b_index)\n",
                "\n",
                "obj2"
            ]
        },
        {
            "cell_type": "code",
            "execution_count": 97,
            "metadata": {},
            "outputs": [
                {
                    "data": {
                        "text/plain": [
                            "True"
                        ]
                    },
                    "execution_count": 97,
                    "metadata": {},
                    "output_type": "execute_result"
                }
            ],
            "source": [
                "obj2.index is b_index"
            ]
        },
        {
            "cell_type": "markdown",
            "metadata": {},
            "source": [
                "Reindexing\n",
                "\n",
                "A critical method on pandas objects is reindex, which means to create a new object with the data conformed to a new index."
            ]
        },
        {
            "cell_type": "code",
            "execution_count": 100,
            "metadata": {},
            "outputs": [
                {
                    "data": {
                        "text/plain": [
                            "d    4.5\n",
                            "b    7.2\n",
                            "a   -5.3\n",
                            "c    3.6\n",
                            "dtype: float64"
                        ]
                    },
                    "execution_count": 100,
                    "metadata": {},
                    "output_type": "execute_result"
                }
            ],
            "source": [
                "obj = pd.Series([4.5, 7.2, -5.3, 3.6], index=['d', 'b', 'a', 'c'])\n",
                "obj"
            ]
        },
        {
            "cell_type": "code",
            "execution_count": 101,
            "metadata": {},
            "outputs": [
                {
                    "data": {
                        "text/plain": [
                            "a   -5.3\n",
                            "b    7.2\n",
                            "c    3.6\n",
                            "d    4.5\n",
                            "e    NaN\n",
                            "dtype: float64"
                        ]
                    },
                    "execution_count": 101,
                    "metadata": {},
                    "output_type": "execute_result"
                }
            ],
            "source": [
                "obj2 = obj.reindex(['a', 'b', 'c', 'd', 'e'])\n",
                "obj2"
            ]
        },
        {
            "cell_type": "code",
            "execution_count": 103,
            "metadata": {},
            "outputs": [
                {
                    "data": {
                        "text/plain": [
                            "a   -5.3\n",
                            "b    7.2\n",
                            "c    3.6\n",
                            "d    4.5\n",
                            "e    0.0\n",
                            "dtype: float64"
                        ]
                    },
                    "execution_count": 103,
                    "metadata": {},
                    "output_type": "execute_result"
                }
            ],
            "source": [
                "obj2 = obj.reindex(['a', 'b', 'c', 'd', 'e'], fill_value=0)\n",
                "obj2"
            ]
        },
        {
            "cell_type": "markdown",
            "metadata": {},
            "source": [
                "Dropping entries from an axis\n",
                "\n",
                "the drop method will return a new object with the indicated value or values deleted from an axis:"
            ]
        },
        {
            "cell_type": "code",
            "execution_count": 105,
            "metadata": {},
            "outputs": [
                {
                    "data": {
                        "text/plain": [
                            "a    0.0\n",
                            "b    1.0\n",
                            "c    2.0\n",
                            "d    3.0\n",
                            "e    4.0\n",
                            "dtype: float64"
                        ]
                    },
                    "execution_count": 105,
                    "metadata": {},
                    "output_type": "execute_result"
                }
            ],
            "source": [
                "obj = pd.Series(np.arange(5.), index=['a', 'b', 'c', 'd', 'e'])\n",
                "obj"
            ]
        },
        {
            "cell_type": "code",
            "execution_count": 106,
            "metadata": {},
            "outputs": [
                {
                    "data": {
                        "text/plain": [
                            "a    0.0\n",
                            "b    1.0\n",
                            "d    3.0\n",
                            "e    4.0\n",
                            "dtype: float64"
                        ]
                    },
                    "execution_count": 106,
                    "metadata": {},
                    "output_type": "execute_result"
                }
            ],
            "source": [
                "new_obj = obj.drop('c')\n",
                "\n",
                "new_obj"
            ]
        },
        {
            "cell_type": "code",
            "execution_count": 107,
            "metadata": {},
            "outputs": [
                {
                    "data": {
                        "text/plain": [
                            "a    0.0\n",
                            "b    1.0\n",
                            "e    4.0\n",
                            "dtype: float64"
                        ]
                    },
                    "execution_count": 107,
                    "metadata": {},
                    "output_type": "execute_result"
                }
            ],
            "source": [
                "obj.drop(['d','c'])"
            ]
        },
        {
            "cell_type": "code",
            "execution_count": 121,
            "metadata": {},
            "outputs": [
                {
                    "data": {
                        "text/html": [
                            "<div>\n",
                            "<style scoped>\n",
                            "    .dataframe tbody tr th:only-of-type {\n",
                            "        vertical-align: middle;\n",
                            "    }\n",
                            "\n",
                            "    .dataframe tbody tr th {\n",
                            "        vertical-align: top;\n",
                            "    }\n",
                            "\n",
                            "    .dataframe thead th {\n",
                            "        text-align: right;\n",
                            "    }\n",
                            "</style>\n",
                            "<table border=\"1\" class=\"dataframe\">\n",
                            "  <thead>\n",
                            "    <tr style=\"text-align: right;\">\n",
                            "      <th></th>\n",
                            "      <th>1</th>\n",
                            "      <th>2</th>\n",
                            "      <th>3</th>\n",
                            "      <th>4</th>\n",
                            "    </tr>\n",
                            "  </thead>\n",
                            "  <tbody>\n",
                            "    <tr>\n",
                            "      <th>Lagos</th>\n",
                            "      <td>0</td>\n",
                            "      <td>1</td>\n",
                            "      <td>2</td>\n",
                            "      <td>3</td>\n",
                            "    </tr>\n",
                            "    <tr>\n",
                            "      <th>Abuja</th>\n",
                            "      <td>4</td>\n",
                            "      <td>5</td>\n",
                            "      <td>6</td>\n",
                            "      <td>7</td>\n",
                            "    </tr>\n",
                            "    <tr>\n",
                            "      <th>Niger</th>\n",
                            "      <td>8</td>\n",
                            "      <td>9</td>\n",
                            "      <td>10</td>\n",
                            "      <td>11</td>\n",
                            "    </tr>\n",
                            "    <tr>\n",
                            "      <th>Jigawa</th>\n",
                            "      <td>12</td>\n",
                            "      <td>13</td>\n",
                            "      <td>14</td>\n",
                            "      <td>15</td>\n",
                            "    </tr>\n",
                            "  </tbody>\n",
                            "</table>\n",
                            "</div>"
                        ],
                        "text/plain": [
                            "          1   2   3   4\n",
                            "Lagos     0   1   2   3\n",
                            " Abuja    4   5   6   7\n",
                            " Niger    8   9  10  11\n",
                            " Jigawa  12  13  14  15"
                        ]
                    },
                    "execution_count": 121,
                    "metadata": {},
                    "output_type": "execute_result"
                }
            ],
            "source": [
                "data = pd.DataFrame(np.arange(16).reshape((4,4)), index = ['Lagos, Abuja, Niger, Jigawa'.split(',')], columns= ['1', '2', '3', '4'])\n",
                "data"
            ]
        },
        {
            "cell_type": "code",
            "execution_count": 122,
            "metadata": {},
            "outputs": [
                {
                    "name": "stderr",
                    "output_type": "stream",
                    "text": [
                        "C:\\Users\\Magic\\AppData\\Local\\Temp\\ipykernel_532\\2939136471.py:1: PerformanceWarning: dropping on a non-lexsorted multi-index without a level parameter may impact performance.\n",
                        "  data.drop(['Lagos'])\n"
                    ]
                },
                {
                    "data": {
                        "text/html": [
                            "<div>\n",
                            "<style scoped>\n",
                            "    .dataframe tbody tr th:only-of-type {\n",
                            "        vertical-align: middle;\n",
                            "    }\n",
                            "\n",
                            "    .dataframe tbody tr th {\n",
                            "        vertical-align: top;\n",
                            "    }\n",
                            "\n",
                            "    .dataframe thead th {\n",
                            "        text-align: right;\n",
                            "    }\n",
                            "</style>\n",
                            "<table border=\"1\" class=\"dataframe\">\n",
                            "  <thead>\n",
                            "    <tr style=\"text-align: right;\">\n",
                            "      <th></th>\n",
                            "      <th>1</th>\n",
                            "      <th>2</th>\n",
                            "      <th>3</th>\n",
                            "      <th>4</th>\n",
                            "    </tr>\n",
                            "  </thead>\n",
                            "  <tbody>\n",
                            "    <tr>\n",
                            "      <th>Abuja</th>\n",
                            "      <td>4</td>\n",
                            "      <td>5</td>\n",
                            "      <td>6</td>\n",
                            "      <td>7</td>\n",
                            "    </tr>\n",
                            "    <tr>\n",
                            "      <th>Niger</th>\n",
                            "      <td>8</td>\n",
                            "      <td>9</td>\n",
                            "      <td>10</td>\n",
                            "      <td>11</td>\n",
                            "    </tr>\n",
                            "    <tr>\n",
                            "      <th>Jigawa</th>\n",
                            "      <td>12</td>\n",
                            "      <td>13</td>\n",
                            "      <td>14</td>\n",
                            "      <td>15</td>\n",
                            "    </tr>\n",
                            "  </tbody>\n",
                            "</table>\n",
                            "</div>"
                        ],
                        "text/plain": [
                            "          1   2   3   4\n",
                            " Abuja    4   5   6   7\n",
                            " Niger    8   9  10  11\n",
                            " Jigawa  12  13  14  15"
                        ]
                    },
                    "execution_count": 122,
                    "metadata": {},
                    "output_type": "execute_result"
                }
            ],
            "source": [
                "data.drop(['Lagos'])"
            ]
        },
        {
            "cell_type": "code",
            "execution_count": 123,
            "metadata": {},
            "outputs": [
                {
                    "data": {
                        "text/html": [
                            "<div>\n",
                            "<style scoped>\n",
                            "    .dataframe tbody tr th:only-of-type {\n",
                            "        vertical-align: middle;\n",
                            "    }\n",
                            "\n",
                            "    .dataframe tbody tr th {\n",
                            "        vertical-align: top;\n",
                            "    }\n",
                            "\n",
                            "    .dataframe thead th {\n",
                            "        text-align: right;\n",
                            "    }\n",
                            "</style>\n",
                            "<table border=\"1\" class=\"dataframe\">\n",
                            "  <thead>\n",
                            "    <tr style=\"text-align: right;\">\n",
                            "      <th></th>\n",
                            "      <th>1</th>\n",
                            "      <th>2</th>\n",
                            "      <th>3</th>\n",
                            "      <th>4</th>\n",
                            "    </tr>\n",
                            "  </thead>\n",
                            "  <tbody>\n",
                            "    <tr>\n",
                            "      <th>Lagos</th>\n",
                            "      <td>0</td>\n",
                            "      <td>1</td>\n",
                            "      <td>2</td>\n",
                            "      <td>3</td>\n",
                            "    </tr>\n",
                            "    <tr>\n",
                            "      <th>Abuja</th>\n",
                            "      <td>4</td>\n",
                            "      <td>5</td>\n",
                            "      <td>6</td>\n",
                            "      <td>7</td>\n",
                            "    </tr>\n",
                            "    <tr>\n",
                            "      <th>Niger</th>\n",
                            "      <td>8</td>\n",
                            "      <td>9</td>\n",
                            "      <td>10</td>\n",
                            "      <td>11</td>\n",
                            "    </tr>\n",
                            "    <tr>\n",
                            "      <th>Jigawa</th>\n",
                            "      <td>12</td>\n",
                            "      <td>13</td>\n",
                            "      <td>14</td>\n",
                            "      <td>15</td>\n",
                            "    </tr>\n",
                            "  </tbody>\n",
                            "</table>\n",
                            "</div>"
                        ],
                        "text/plain": [
                            "          1   2   3   4\n",
                            "Lagos     0   1   2   3\n",
                            " Abuja    4   5   6   7\n",
                            " Niger    8   9  10  11\n",
                            " Jigawa  12  13  14  15"
                        ]
                    },
                    "execution_count": 123,
                    "metadata": {},
                    "output_type": "execute_result"
                }
            ],
            "source": [
                "data"
            ]
        },
        {
            "cell_type": "code",
            "execution_count": 127,
            "metadata": {},
            "outputs": [
                {
                    "data": {
                        "text/html": [
                            "<div>\n",
                            "<style scoped>\n",
                            "    .dataframe tbody tr th:only-of-type {\n",
                            "        vertical-align: middle;\n",
                            "    }\n",
                            "\n",
                            "    .dataframe tbody tr th {\n",
                            "        vertical-align: top;\n",
                            "    }\n",
                            "\n",
                            "    .dataframe thead th {\n",
                            "        text-align: right;\n",
                            "    }\n",
                            "</style>\n",
                            "<table border=\"1\" class=\"dataframe\">\n",
                            "  <thead>\n",
                            "    <tr style=\"text-align: right;\">\n",
                            "      <th></th>\n",
                            "      <th>1</th>\n",
                            "      <th>3</th>\n",
                            "      <th>4</th>\n",
                            "    </tr>\n",
                            "  </thead>\n",
                            "  <tbody>\n",
                            "    <tr>\n",
                            "      <th>Lagos</th>\n",
                            "      <td>0</td>\n",
                            "      <td>2</td>\n",
                            "      <td>3</td>\n",
                            "    </tr>\n",
                            "    <tr>\n",
                            "      <th>Abuja</th>\n",
                            "      <td>4</td>\n",
                            "      <td>6</td>\n",
                            "      <td>7</td>\n",
                            "    </tr>\n",
                            "    <tr>\n",
                            "      <th>Niger</th>\n",
                            "      <td>8</td>\n",
                            "      <td>10</td>\n",
                            "      <td>11</td>\n",
                            "    </tr>\n",
                            "    <tr>\n",
                            "      <th>Jigawa</th>\n",
                            "      <td>12</td>\n",
                            "      <td>14</td>\n",
                            "      <td>15</td>\n",
                            "    </tr>\n",
                            "  </tbody>\n",
                            "</table>\n",
                            "</div>"
                        ],
                        "text/plain": [
                            "          1   3   4\n",
                            "Lagos     0   2   3\n",
                            " Abuja    4   6   7\n",
                            " Niger    8  10  11\n",
                            " Jigawa  12  14  15"
                        ]
                    },
                    "execution_count": 127,
                    "metadata": {},
                    "output_type": "execute_result"
                }
            ],
            "source": [
                "# data.drop(columns= '2')\n",
                "data.drop(['2'], axis = 1)"
            ]
        },
        {
            "cell_type": "markdown",
            "metadata": {},
            "source": [
                "Indexing, selection, and filtering"
            ]
        },
        {
            "cell_type": "code",
            "execution_count": 132,
            "metadata": {},
            "outputs": [
                {
                    "name": "stdout",
                    "output_type": "stream",
                    "text": [
                        "Lagos       1\n",
                        " Abuja      5\n",
                        " Niger      9\n",
                        " Jigawa    13\n",
                        "Name: 2, dtype: int32\n"
                    ]
                },
                {
                    "data": {
                        "text/html": [
                            "<div>\n",
                            "<style scoped>\n",
                            "    .dataframe tbody tr th:only-of-type {\n",
                            "        vertical-align: middle;\n",
                            "    }\n",
                            "\n",
                            "    .dataframe tbody tr th {\n",
                            "        vertical-align: top;\n",
                            "    }\n",
                            "\n",
                            "    .dataframe thead th {\n",
                            "        text-align: right;\n",
                            "    }\n",
                            "</style>\n",
                            "<table border=\"1\" class=\"dataframe\">\n",
                            "  <thead>\n",
                            "    <tr style=\"text-align: right;\">\n",
                            "      <th></th>\n",
                            "      <th>2</th>\n",
                            "      <th>4</th>\n",
                            "    </tr>\n",
                            "  </thead>\n",
                            "  <tbody>\n",
                            "    <tr>\n",
                            "      <th>Lagos</th>\n",
                            "      <td>1</td>\n",
                            "      <td>3</td>\n",
                            "    </tr>\n",
                            "    <tr>\n",
                            "      <th>Abuja</th>\n",
                            "      <td>5</td>\n",
                            "      <td>7</td>\n",
                            "    </tr>\n",
                            "    <tr>\n",
                            "      <th>Niger</th>\n",
                            "      <td>9</td>\n",
                            "      <td>11</td>\n",
                            "    </tr>\n",
                            "    <tr>\n",
                            "      <th>Jigawa</th>\n",
                            "      <td>13</td>\n",
                            "      <td>15</td>\n",
                            "    </tr>\n",
                            "  </tbody>\n",
                            "</table>\n",
                            "</div>"
                        ],
                        "text/plain": [
                            "          2   4\n",
                            "Lagos     1   3\n",
                            " Abuja    5   7\n",
                            " Niger    9  11\n",
                            " Jigawa  13  15"
                        ]
                    },
                    "execution_count": 132,
                    "metadata": {},
                    "output_type": "execute_result"
                }
            ],
            "source": [
                "# Indexing\n",
                "print(data['2'])\n",
                "data[['2','4']]"
            ]
        },
        {
            "cell_type": "code",
            "execution_count": 133,
            "metadata": {},
            "outputs": [
                {
                    "data": {
                        "text/html": [
                            "<div>\n",
                            "<style scoped>\n",
                            "    .dataframe tbody tr th:only-of-type {\n",
                            "        vertical-align: middle;\n",
                            "    }\n",
                            "\n",
                            "    .dataframe tbody tr th {\n",
                            "        vertical-align: top;\n",
                            "    }\n",
                            "\n",
                            "    .dataframe thead th {\n",
                            "        text-align: right;\n",
                            "    }\n",
                            "</style>\n",
                            "<table border=\"1\" class=\"dataframe\">\n",
                            "  <thead>\n",
                            "    <tr style=\"text-align: right;\">\n",
                            "      <th></th>\n",
                            "      <th>1</th>\n",
                            "      <th>2</th>\n",
                            "      <th>3</th>\n",
                            "      <th>4</th>\n",
                            "    </tr>\n",
                            "  </thead>\n",
                            "  <tbody>\n",
                            "    <tr>\n",
                            "      <th>Lagos</th>\n",
                            "      <td>0</td>\n",
                            "      <td>1</td>\n",
                            "      <td>2</td>\n",
                            "      <td>3</td>\n",
                            "    </tr>\n",
                            "    <tr>\n",
                            "      <th>Abuja</th>\n",
                            "      <td>4</td>\n",
                            "      <td>5</td>\n",
                            "      <td>6</td>\n",
                            "      <td>7</td>\n",
                            "    </tr>\n",
                            "  </tbody>\n",
                            "</table>\n",
                            "</div>"
                        ],
                        "text/plain": [
                            "        1  2  3  4\n",
                            "Lagos   0  1  2  3\n",
                            " Abuja  4  5  6  7"
                        ]
                    },
                    "execution_count": 133,
                    "metadata": {},
                    "output_type": "execute_result"
                }
            ],
            "source": [
                "data[:2]"
            ]
        },
        {
            "cell_type": "code",
            "execution_count": 135,
            "metadata": {},
            "outputs": [
                {
                    "data": {
                        "text/html": [
                            "<div>\n",
                            "<style scoped>\n",
                            "    .dataframe tbody tr th:only-of-type {\n",
                            "        vertical-align: middle;\n",
                            "    }\n",
                            "\n",
                            "    .dataframe tbody tr th {\n",
                            "        vertical-align: top;\n",
                            "    }\n",
                            "\n",
                            "    .dataframe thead th {\n",
                            "        text-align: right;\n",
                            "    }\n",
                            "</style>\n",
                            "<table border=\"1\" class=\"dataframe\">\n",
                            "  <thead>\n",
                            "    <tr style=\"text-align: right;\">\n",
                            "      <th></th>\n",
                            "      <th>1</th>\n",
                            "      <th>2</th>\n",
                            "      <th>3</th>\n",
                            "      <th>4</th>\n",
                            "    </tr>\n",
                            "  </thead>\n",
                            "  <tbody>\n",
                            "    <tr>\n",
                            "      <th>Lagos</th>\n",
                            "      <td>0</td>\n",
                            "      <td>1</td>\n",
                            "      <td>2</td>\n",
                            "      <td>3</td>\n",
                            "    </tr>\n",
                            "    <tr>\n",
                            "      <th>Abuja</th>\n",
                            "      <td>4</td>\n",
                            "      <td>5</td>\n",
                            "      <td>6</td>\n",
                            "      <td>7</td>\n",
                            "    </tr>\n",
                            "    <tr>\n",
                            "      <th>Niger</th>\n",
                            "      <td>8</td>\n",
                            "      <td>9</td>\n",
                            "      <td>10</td>\n",
                            "      <td>11</td>\n",
                            "    </tr>\n",
                            "    <tr>\n",
                            "      <th>Jigawa</th>\n",
                            "      <td>12</td>\n",
                            "      <td>13</td>\n",
                            "      <td>14</td>\n",
                            "      <td>15</td>\n",
                            "    </tr>\n",
                            "  </tbody>\n",
                            "</table>\n",
                            "</div>"
                        ],
                        "text/plain": [
                            "          1   2   3   4\n",
                            "Lagos     0   1   2   3\n",
                            " Abuja    4   5   6   7\n",
                            " Niger    8   9  10  11\n",
                            " Jigawa  12  13  14  15"
                        ]
                    },
                    "execution_count": 135,
                    "metadata": {},
                    "output_type": "execute_result"
                }
            ],
            "source": [
                "data"
            ]
        },
        {
            "cell_type": "code",
            "execution_count": 146,
            "metadata": {},
            "outputs": [
                {
                    "data": {
                        "text/html": [
                            "<div>\n",
                            "<style scoped>\n",
                            "    .dataframe tbody tr th:only-of-type {\n",
                            "        vertical-align: middle;\n",
                            "    }\n",
                            "\n",
                            "    .dataframe tbody tr th {\n",
                            "        vertical-align: top;\n",
                            "    }\n",
                            "\n",
                            "    .dataframe thead th {\n",
                            "        text-align: right;\n",
                            "    }\n",
                            "</style>\n",
                            "<table border=\"1\" class=\"dataframe\">\n",
                            "  <thead>\n",
                            "    <tr style=\"text-align: right;\">\n",
                            "      <th></th>\n",
                            "      <th>1</th>\n",
                            "      <th>2</th>\n",
                            "      <th>3</th>\n",
                            "      <th>4</th>\n",
                            "    </tr>\n",
                            "  </thead>\n",
                            "  <tbody>\n",
                            "    <tr>\n",
                            "      <th>Lagos</th>\n",
                            "      <td>0</td>\n",
                            "      <td>1</td>\n",
                            "      <td>2</td>\n",
                            "      <td>3</td>\n",
                            "    </tr>\n",
                            "    <tr>\n",
                            "      <th>Abuja</th>\n",
                            "      <td>4</td>\n",
                            "      <td>5</td>\n",
                            "      <td>0</td>\n",
                            "      <td>0</td>\n",
                            "    </tr>\n",
                            "    <tr>\n",
                            "      <th>Niger</th>\n",
                            "      <td>0</td>\n",
                            "      <td>0</td>\n",
                            "      <td>0</td>\n",
                            "      <td>0</td>\n",
                            "    </tr>\n",
                            "    <tr>\n",
                            "      <th>Jigawa</th>\n",
                            "      <td>0</td>\n",
                            "      <td>0</td>\n",
                            "      <td>0</td>\n",
                            "      <td>0</td>\n",
                            "    </tr>\n",
                            "  </tbody>\n",
                            "</table>\n",
                            "</div>"
                        ],
                        "text/plain": [
                            "         1  2  3  4\n",
                            "Lagos    0  1  2  3\n",
                            " Abuja   4  5  0  0\n",
                            " Niger   0  0  0  0\n",
                            " Jigawa  0  0  0  0"
                        ]
                    },
                    "execution_count": 146,
                    "metadata": {},
                    "output_type": "execute_result"
                }
            ],
            "source": [
                "data[data > 5] = 0\n",
                "data"
            ]
        },
        {
            "cell_type": "code",
            "execution_count": 144,
            "metadata": {},
            "outputs": [
                {
                    "data": {
                        "text/html": [
                            "<div>\n",
                            "<style scoped>\n",
                            "    .dataframe tbody tr th:only-of-type {\n",
                            "        vertical-align: middle;\n",
                            "    }\n",
                            "\n",
                            "    .dataframe tbody tr th {\n",
                            "        vertical-align: top;\n",
                            "    }\n",
                            "\n",
                            "    .dataframe thead th {\n",
                            "        text-align: right;\n",
                            "    }\n",
                            "</style>\n",
                            "<table border=\"1\" class=\"dataframe\">\n",
                            "  <thead>\n",
                            "    <tr style=\"text-align: right;\">\n",
                            "      <th></th>\n",
                            "      <th>1</th>\n",
                            "      <th>2</th>\n",
                            "      <th>3</th>\n",
                            "      <th>4</th>\n",
                            "    </tr>\n",
                            "  </thead>\n",
                            "  <tbody>\n",
                            "    <tr>\n",
                            "      <th>Abuja</th>\n",
                            "      <td>4</td>\n",
                            "      <td>5</td>\n",
                            "      <td>6</td>\n",
                            "      <td>7</td>\n",
                            "    </tr>\n",
                            "    <tr>\n",
                            "      <th>Niger</th>\n",
                            "      <td>8</td>\n",
                            "      <td>9</td>\n",
                            "      <td>10</td>\n",
                            "      <td>11</td>\n",
                            "    </tr>\n",
                            "    <tr>\n",
                            "      <th>Jigawa</th>\n",
                            "      <td>12</td>\n",
                            "      <td>13</td>\n",
                            "      <td>14</td>\n",
                            "      <td>15</td>\n",
                            "    </tr>\n",
                            "  </tbody>\n",
                            "</table>\n",
                            "</div>"
                        ],
                        "text/plain": [
                            "          1   2   3   4\n",
                            " Abuja    4   5   6   7\n",
                            " Niger    8   9  10  11\n",
                            " Jigawa  12  13  14  15"
                        ]
                    },
                    "execution_count": 144,
                    "metadata": {},
                    "output_type": "execute_result"
                }
            ],
            "source": [
                "data[data['2'] >= 5]"
            ]
        },
        {
            "cell_type": "code",
            "execution_count": 7,
            "metadata": {},
            "outputs": [
                {
                    "data": {
                        "text/html": [
                            "<div>\n",
                            "<style scoped>\n",
                            "    .dataframe tbody tr th:only-of-type {\n",
                            "        vertical-align: middle;\n",
                            "    }\n",
                            "\n",
                            "    .dataframe tbody tr th {\n",
                            "        vertical-align: top;\n",
                            "    }\n",
                            "\n",
                            "    .dataframe thead th {\n",
                            "        text-align: right;\n",
                            "    }\n",
                            "</style>\n",
                            "<table border=\"1\" class=\"dataframe\">\n",
                            "  <thead>\n",
                            "    <tr style=\"text-align: right;\">\n",
                            "      <th></th>\n",
                            "      <th>Year</th>\n",
                            "      <th>Industry_aggregation_NZSIOC</th>\n",
                            "      <th>Industry_code_NZSIOC</th>\n",
                            "      <th>Industry_name_NZSIOC</th>\n",
                            "      <th>Units</th>\n",
                            "      <th>Variable_code</th>\n",
                            "      <th>Variable_name</th>\n",
                            "      <th>Variable_category</th>\n",
                            "      <th>Value</th>\n",
                            "      <th>Industry_code_ANZSIC06</th>\n",
                            "    </tr>\n",
                            "  </thead>\n",
                            "  <tbody>\n",
                            "    <tr>\n",
                            "      <th>0</th>\n",
                            "      <td>2020</td>\n",
                            "      <td>Level 1</td>\n",
                            "      <td>99999</td>\n",
                            "      <td>All industries</td>\n",
                            "      <td>Dollars (millions)</td>\n",
                            "      <td>H01</td>\n",
                            "      <td>Total income</td>\n",
                            "      <td>Financial performance</td>\n",
                            "      <td>733,258</td>\n",
                            "      <td>ANZSIC06 divisions A-S (excluding classes K633...</td>\n",
                            "    </tr>\n",
                            "    <tr>\n",
                            "      <th>1</th>\n",
                            "      <td>2020</td>\n",
                            "      <td>Level 1</td>\n",
                            "      <td>99999</td>\n",
                            "      <td>All industries</td>\n",
                            "      <td>Dollars (millions)</td>\n",
                            "      <td>H04</td>\n",
                            "      <td>Sales, government funding, grants and subsidies</td>\n",
                            "      <td>Financial performance</td>\n",
                            "      <td>660,630</td>\n",
                            "      <td>ANZSIC06 divisions A-S (excluding classes K633...</td>\n",
                            "    </tr>\n",
                            "    <tr>\n",
                            "      <th>2</th>\n",
                            "      <td>2020</td>\n",
                            "      <td>Level 1</td>\n",
                            "      <td>99999</td>\n",
                            "      <td>All industries</td>\n",
                            "      <td>Dollars (millions)</td>\n",
                            "      <td>H05</td>\n",
                            "      <td>Interest, dividends and donations</td>\n",
                            "      <td>Financial performance</td>\n",
                            "      <td>54,342</td>\n",
                            "      <td>ANZSIC06 divisions A-S (excluding classes K633...</td>\n",
                            "    </tr>\n",
                            "    <tr>\n",
                            "      <th>3</th>\n",
                            "      <td>2020</td>\n",
                            "      <td>Level 1</td>\n",
                            "      <td>99999</td>\n",
                            "      <td>All industries</td>\n",
                            "      <td>Dollars (millions)</td>\n",
                            "      <td>H07</td>\n",
                            "      <td>Non-operating income</td>\n",
                            "      <td>Financial performance</td>\n",
                            "      <td>18,285</td>\n",
                            "      <td>ANZSIC06 divisions A-S (excluding classes K633...</td>\n",
                            "    </tr>\n",
                            "    <tr>\n",
                            "      <th>4</th>\n",
                            "      <td>2020</td>\n",
                            "      <td>Level 1</td>\n",
                            "      <td>99999</td>\n",
                            "      <td>All industries</td>\n",
                            "      <td>Dollars (millions)</td>\n",
                            "      <td>H08</td>\n",
                            "      <td>Total expenditure</td>\n",
                            "      <td>Financial performance</td>\n",
                            "      <td>654,872</td>\n",
                            "      <td>ANZSIC06 divisions A-S (excluding classes K633...</td>\n",
                            "    </tr>\n",
                            "    <tr>\n",
                            "      <th>5</th>\n",
                            "      <td>2020</td>\n",
                            "      <td>Level 1</td>\n",
                            "      <td>99999</td>\n",
                            "      <td>All industries</td>\n",
                            "      <td>Dollars (millions)</td>\n",
                            "      <td>H09</td>\n",
                            "      <td>Interest and donations</td>\n",
                            "      <td>Financial performance</td>\n",
                            "      <td>32,730</td>\n",
                            "      <td>ANZSIC06 divisions A-S (excluding classes K633...</td>\n",
                            "    </tr>\n",
                            "    <tr>\n",
                            "      <th>6</th>\n",
                            "      <td>2020</td>\n",
                            "      <td>Level 1</td>\n",
                            "      <td>99999</td>\n",
                            "      <td>All industries</td>\n",
                            "      <td>Dollars (millions)</td>\n",
                            "      <td>H10</td>\n",
                            "      <td>Indirect taxes</td>\n",
                            "      <td>Financial performance</td>\n",
                            "      <td>7,509</td>\n",
                            "      <td>ANZSIC06 divisions A-S (excluding classes K633...</td>\n",
                            "    </tr>\n",
                            "    <tr>\n",
                            "      <th>7</th>\n",
                            "      <td>2020</td>\n",
                            "      <td>Level 1</td>\n",
                            "      <td>99999</td>\n",
                            "      <td>All industries</td>\n",
                            "      <td>Dollars (millions)</td>\n",
                            "      <td>H11</td>\n",
                            "      <td>Depreciation</td>\n",
                            "      <td>Financial performance</td>\n",
                            "      <td>26,821</td>\n",
                            "      <td>ANZSIC06 divisions A-S (excluding classes K633...</td>\n",
                            "    </tr>\n",
                            "    <tr>\n",
                            "      <th>8</th>\n",
                            "      <td>2020</td>\n",
                            "      <td>Level 1</td>\n",
                            "      <td>99999</td>\n",
                            "      <td>All industries</td>\n",
                            "      <td>Dollars (millions)</td>\n",
                            "      <td>H12</td>\n",
                            "      <td>Salaries and wages paid</td>\n",
                            "      <td>Financial performance</td>\n",
                            "      <td>119,387</td>\n",
                            "      <td>ANZSIC06 divisions A-S (excluding classes K633...</td>\n",
                            "    </tr>\n",
                            "    <tr>\n",
                            "      <th>9</th>\n",
                            "      <td>2020</td>\n",
                            "      <td>Level 1</td>\n",
                            "      <td>99999</td>\n",
                            "      <td>All industries</td>\n",
                            "      <td>Dollars (millions)</td>\n",
                            "      <td>H13</td>\n",
                            "      <td>Redundancy and severance</td>\n",
                            "      <td>Financial performance</td>\n",
                            "      <td>305</td>\n",
                            "      <td>ANZSIC06 divisions A-S (excluding classes K633...</td>\n",
                            "    </tr>\n",
                            "  </tbody>\n",
                            "</table>\n",
                            "</div>"
                        ],
                        "text/plain": [
                            "   Year Industry_aggregation_NZSIOC Industry_code_NZSIOC Industry_name_NZSIOC  \\\n",
                            "0  2020                     Level 1                99999       All industries   \n",
                            "1  2020                     Level 1                99999       All industries   \n",
                            "2  2020                     Level 1                99999       All industries   \n",
                            "3  2020                     Level 1                99999       All industries   \n",
                            "4  2020                     Level 1                99999       All industries   \n",
                            "5  2020                     Level 1                99999       All industries   \n",
                            "6  2020                     Level 1                99999       All industries   \n",
                            "7  2020                     Level 1                99999       All industries   \n",
                            "8  2020                     Level 1                99999       All industries   \n",
                            "9  2020                     Level 1                99999       All industries   \n",
                            "\n",
                            "                Units Variable_code  \\\n",
                            "0  Dollars (millions)           H01   \n",
                            "1  Dollars (millions)           H04   \n",
                            "2  Dollars (millions)           H05   \n",
                            "3  Dollars (millions)           H07   \n",
                            "4  Dollars (millions)           H08   \n",
                            "5  Dollars (millions)           H09   \n",
                            "6  Dollars (millions)           H10   \n",
                            "7  Dollars (millions)           H11   \n",
                            "8  Dollars (millions)           H12   \n",
                            "9  Dollars (millions)           H13   \n",
                            "\n",
                            "                                     Variable_name      Variable_category  \\\n",
                            "0                                     Total income  Financial performance   \n",
                            "1  Sales, government funding, grants and subsidies  Financial performance   \n",
                            "2                Interest, dividends and donations  Financial performance   \n",
                            "3                             Non-operating income  Financial performance   \n",
                            "4                                Total expenditure  Financial performance   \n",
                            "5                           Interest and donations  Financial performance   \n",
                            "6                                   Indirect taxes  Financial performance   \n",
                            "7                                     Depreciation  Financial performance   \n",
                            "8                          Salaries and wages paid  Financial performance   \n",
                            "9                         Redundancy and severance  Financial performance   \n",
                            "\n",
                            "     Value                             Industry_code_ANZSIC06  \n",
                            "0  733,258  ANZSIC06 divisions A-S (excluding classes K633...  \n",
                            "1  660,630  ANZSIC06 divisions A-S (excluding classes K633...  \n",
                            "2   54,342  ANZSIC06 divisions A-S (excluding classes K633...  \n",
                            "3   18,285  ANZSIC06 divisions A-S (excluding classes K633...  \n",
                            "4  654,872  ANZSIC06 divisions A-S (excluding classes K633...  \n",
                            "5   32,730  ANZSIC06 divisions A-S (excluding classes K633...  \n",
                            "6    7,509  ANZSIC06 divisions A-S (excluding classes K633...  \n",
                            "7   26,821  ANZSIC06 divisions A-S (excluding classes K633...  \n",
                            "8  119,387  ANZSIC06 divisions A-S (excluding classes K633...  \n",
                            "9      305  ANZSIC06 divisions A-S (excluding classes K633...  "
                        ]
                    },
                    "execution_count": 7,
                    "metadata": {},
                    "output_type": "execute_result"
                }
            ],
            "source": [
                "import pandas as pd\n",
                "survey = pd.read_csv('survey.csv')\n",
                "survey.head(10)\n",
                "\n"
            ]
        },
        {
            "cell_type": "code",
            "execution_count": 9,
            "metadata": {},
            "outputs": [
                {
                    "data": {
                        "text/plain": [
                            "(37080, 10)"
                        ]
                    },
                    "execution_count": 9,
                    "metadata": {},
                    "output_type": "execute_result"
                }
            ],
            "source": [
                "survey.shape"
            ]
        },
        {
            "cell_type": "code",
            "execution_count": 10,
            "metadata": {},
            "outputs": [
                {
                    "data": {
                        "text/plain": [
                            "Year                            int64\n",
                            "Industry_aggregation_NZSIOC    object\n",
                            "Industry_code_NZSIOC           object\n",
                            "Industry_name_NZSIOC           object\n",
                            "Units                          object\n",
                            "Variable_code                  object\n",
                            "Variable_name                  object\n",
                            "Variable_category              object\n",
                            "Value                          object\n",
                            "Industry_code_ANZSIC06         object\n",
                            "dtype: object"
                        ]
                    },
                    "execution_count": 10,
                    "metadata": {},
                    "output_type": "execute_result"
                }
            ],
            "source": [
                "survey.dtypes"
            ]
        },
        {
            "cell_type": "code",
            "execution_count": 11,
            "metadata": {},
            "outputs": [
                {
                    "data": {
                        "text/html": [
                            "<div>\n",
                            "<style scoped>\n",
                            "    .dataframe tbody tr th:only-of-type {\n",
                            "        vertical-align: middle;\n",
                            "    }\n",
                            "\n",
                            "    .dataframe tbody tr th {\n",
                            "        vertical-align: top;\n",
                            "    }\n",
                            "\n",
                            "    .dataframe thead th {\n",
                            "        text-align: right;\n",
                            "    }\n",
                            "</style>\n",
                            "<table border=\"1\" class=\"dataframe\">\n",
                            "  <thead>\n",
                            "    <tr style=\"text-align: right;\">\n",
                            "      <th></th>\n",
                            "      <th>Year</th>\n",
                            "      <th>Industry_aggregation_NZSIOC</th>\n",
                            "      <th>Industry_code_NZSIOC</th>\n",
                            "      <th>Industry_name_NZSIOC</th>\n",
                            "      <th>Units</th>\n",
                            "      <th>Variable_code</th>\n",
                            "      <th>Variable_name</th>\n",
                            "      <th>Variable_category</th>\n",
                            "      <th>Value</th>\n",
                            "      <th>Industry_code_ANZSIC06</th>\n",
                            "    </tr>\n",
                            "  </thead>\n",
                            "  <tbody>\n",
                            "    <tr>\n",
                            "      <th>37077</th>\n",
                            "      <td>2013</td>\n",
                            "      <td>Level 3</td>\n",
                            "      <td>ZZ11</td>\n",
                            "      <td>Food product manufacturing</td>\n",
                            "      <td>Percentage</td>\n",
                            "      <td>H39</td>\n",
                            "      <td>Return on equity</td>\n",
                            "      <td>Financial ratios</td>\n",
                            "      <td>12</td>\n",
                            "      <td>ANZSIC06 groups C111, C112, C113, C114, C115, ...</td>\n",
                            "    </tr>\n",
                            "    <tr>\n",
                            "      <th>37078</th>\n",
                            "      <td>2013</td>\n",
                            "      <td>Level 3</td>\n",
                            "      <td>ZZ11</td>\n",
                            "      <td>Food product manufacturing</td>\n",
                            "      <td>Percentage</td>\n",
                            "      <td>H40</td>\n",
                            "      <td>Return on total assets</td>\n",
                            "      <td>Financial ratios</td>\n",
                            "      <td>5</td>\n",
                            "      <td>ANZSIC06 groups C111, C112, C113, C114, C115, ...</td>\n",
                            "    </tr>\n",
                            "    <tr>\n",
                            "      <th>37079</th>\n",
                            "      <td>2013</td>\n",
                            "      <td>Level 3</td>\n",
                            "      <td>ZZ11</td>\n",
                            "      <td>Food product manufacturing</td>\n",
                            "      <td>Percentage</td>\n",
                            "      <td>H41</td>\n",
                            "      <td>Liabilities structure</td>\n",
                            "      <td>Financial ratios</td>\n",
                            "      <td>46</td>\n",
                            "      <td>ANZSIC06 groups C111, C112, C113, C114, C115, ...</td>\n",
                            "    </tr>\n",
                            "  </tbody>\n",
                            "</table>\n",
                            "</div>"
                        ],
                        "text/plain": [
                            "       Year Industry_aggregation_NZSIOC Industry_code_NZSIOC  \\\n",
                            "37077  2013                     Level 3                 ZZ11   \n",
                            "37078  2013                     Level 3                 ZZ11   \n",
                            "37079  2013                     Level 3                 ZZ11   \n",
                            "\n",
                            "             Industry_name_NZSIOC       Units Variable_code  \\\n",
                            "37077  Food product manufacturing  Percentage           H39   \n",
                            "37078  Food product manufacturing  Percentage           H40   \n",
                            "37079  Food product manufacturing  Percentage           H41   \n",
                            "\n",
                            "                Variable_name Variable_category Value  \\\n",
                            "37077        Return on equity  Financial ratios    12   \n",
                            "37078  Return on total assets  Financial ratios     5   \n",
                            "37079   Liabilities structure  Financial ratios    46   \n",
                            "\n",
                            "                                  Industry_code_ANZSIC06  \n",
                            "37077  ANZSIC06 groups C111, C112, C113, C114, C115, ...  \n",
                            "37078  ANZSIC06 groups C111, C112, C113, C114, C115, ...  \n",
                            "37079  ANZSIC06 groups C111, C112, C113, C114, C115, ...  "
                        ]
                    },
                    "execution_count": 11,
                    "metadata": {},
                    "output_type": "execute_result"
                }
            ],
            "source": [
                "survey.tail(3)"
            ]
        },
        {
            "cell_type": "code",
            "execution_count": null,
            "metadata": {},
            "outputs": [],
            "source": []
        },
        {
            "cell_type": "code",
            "execution_count": 35,
            "metadata": {},
            "outputs": [],
            "source": [
                "ff = pd.read_csv('https://raw.githubusercontent.com/dphi-official/Datasets/master/exam_scores.csv')\n"
            ]
        },
        {
            "cell_type": "code",
            "execution_count": 36,
            "metadata": {},
            "outputs": [],
            "source": [
                "ff.to_csv('exams_score.csv', index=False)"
            ]
        },
        {
            "cell_type": "code",
            "execution_count": 37,
            "metadata": {},
            "outputs": [],
            "source": [
                "df = pd.read_csv('exams_score.csv')"
            ]
        },
        {
            "cell_type": "code",
            "execution_count": 38,
            "metadata": {},
            "outputs": [
                {
                    "data": {
                        "text/html": [
                            "<div>\n",
                            "<style scoped>\n",
                            "    .dataframe tbody tr th:only-of-type {\n",
                            "        vertical-align: middle;\n",
                            "    }\n",
                            "\n",
                            "    .dataframe tbody tr th {\n",
                            "        vertical-align: top;\n",
                            "    }\n",
                            "\n",
                            "    .dataframe thead th {\n",
                            "        text-align: right;\n",
                            "    }\n",
                            "</style>\n",
                            "<table border=\"1\" class=\"dataframe\">\n",
                            "  <thead>\n",
                            "    <tr style=\"text-align: right;\">\n",
                            "      <th></th>\n",
                            "      <th>gender</th>\n",
                            "      <th>race/ethnicity</th>\n",
                            "      <th>parental level of education</th>\n",
                            "      <th>lunch</th>\n",
                            "      <th>test preparation course</th>\n",
                            "      <th>math score</th>\n",
                            "      <th>reading score</th>\n",
                            "      <th>writing score</th>\n",
                            "    </tr>\n",
                            "  </thead>\n",
                            "  <tbody>\n",
                            "    <tr>\n",
                            "      <th>0</th>\n",
                            "      <td>male</td>\n",
                            "      <td>group B</td>\n",
                            "      <td>bachelor's degree</td>\n",
                            "      <td>standard</td>\n",
                            "      <td>none</td>\n",
                            "      <td>74</td>\n",
                            "      <td>68</td>\n",
                            "      <td>67</td>\n",
                            "    </tr>\n",
                            "    <tr>\n",
                            "      <th>1</th>\n",
                            "      <td>female</td>\n",
                            "      <td>group C</td>\n",
                            "      <td>some college</td>\n",
                            "      <td>standard</td>\n",
                            "      <td>completed</td>\n",
                            "      <td>58</td>\n",
                            "      <td>68</td>\n",
                            "      <td>66</td>\n",
                            "    </tr>\n",
                            "    <tr>\n",
                            "      <th>2</th>\n",
                            "      <td>male</td>\n",
                            "      <td>group C</td>\n",
                            "      <td>some college</td>\n",
                            "      <td>free/reduced</td>\n",
                            "      <td>none</td>\n",
                            "      <td>66</td>\n",
                            "      <td>65</td>\n",
                            "      <td>65</td>\n",
                            "    </tr>\n",
                            "    <tr>\n",
                            "      <th>3</th>\n",
                            "      <td>female</td>\n",
                            "      <td>group D</td>\n",
                            "      <td>bachelor's degree</td>\n",
                            "      <td>free/reduced</td>\n",
                            "      <td>none</td>\n",
                            "      <td>74</td>\n",
                            "      <td>75</td>\n",
                            "      <td>73</td>\n",
                            "    </tr>\n",
                            "    <tr>\n",
                            "      <th>4</th>\n",
                            "      <td>male</td>\n",
                            "      <td>group D</td>\n",
                            "      <td>some college</td>\n",
                            "      <td>standard</td>\n",
                            "      <td>none</td>\n",
                            "      <td>78</td>\n",
                            "      <td>77</td>\n",
                            "      <td>71</td>\n",
                            "    </tr>\n",
                            "  </tbody>\n",
                            "</table>\n",
                            "</div>"
                        ],
                        "text/plain": [
                            "   gender race/ethnicity parental level of education         lunch  \\\n",
                            "0    male        group B           bachelor's degree      standard   \n",
                            "1  female        group C                some college      standard   \n",
                            "2    male        group C                some college  free/reduced   \n",
                            "3  female        group D           bachelor's degree  free/reduced   \n",
                            "4    male        group D                some college      standard   \n",
                            "\n",
                            "  test preparation course  math score  reading score  writing score  \n",
                            "0                    none          74             68             67  \n",
                            "1               completed          58             68             66  \n",
                            "2                    none          66             65             65  \n",
                            "3                    none          74             75             73  \n",
                            "4                    none          78             77             71  "
                        ]
                    },
                    "execution_count": 38,
                    "metadata": {},
                    "output_type": "execute_result"
                }
            ],
            "source": [
                "df.head()"
            ]
        },
        {
            "cell_type": "code",
            "execution_count": 59,
            "metadata": {},
            "outputs": [
                {
                    "data": {
                        "text/plain": [
                            "0        standard\n",
                            "1        standard\n",
                            "2    free/reduced\n",
                            "3    free/reduced\n",
                            "Name: lunch, dtype: object"
                        ]
                    },
                    "execution_count": 59,
                    "metadata": {},
                    "output_type": "execute_result"
                }
            ],
            "source": [
                "df['lunch'].head(4)"
            ]
        },
        {
            "cell_type": "code",
            "execution_count": 67,
            "metadata": {},
            "outputs": [
                {
                    "data": {
                        "text/plain": [
                            "0       True\n",
                            "1      False\n",
                            "2       True\n",
                            "3      False\n",
                            "4       True\n",
                            "       ...  \n",
                            "995    False\n",
                            "996    False\n",
                            "997    False\n",
                            "998    False\n",
                            "999     True\n",
                            "Name: gender, Length: 1000, dtype: bool"
                        ]
                    },
                    "execution_count": 67,
                    "metadata": {},
                    "output_type": "execute_result"
                }
            ],
            "source": [
                "# # this conditional indexing\n",
                "df['gender']=='male'"
            ]
        },
        {
            "cell_type": "code",
            "execution_count": 68,
            "metadata": {},
            "outputs": [
                {
                    "data": {
                        "text/html": [
                            "<div>\n",
                            "<style scoped>\n",
                            "    .dataframe tbody tr th:only-of-type {\n",
                            "        vertical-align: middle;\n",
                            "    }\n",
                            "\n",
                            "    .dataframe tbody tr th {\n",
                            "        vertical-align: top;\n",
                            "    }\n",
                            "\n",
                            "    .dataframe thead th {\n",
                            "        text-align: right;\n",
                            "    }\n",
                            "</style>\n",
                            "<table border=\"1\" class=\"dataframe\">\n",
                            "  <thead>\n",
                            "    <tr style=\"text-align: right;\">\n",
                            "      <th></th>\n",
                            "      <th>gender</th>\n",
                            "      <th>race/ethnicity</th>\n",
                            "      <th>parental level of education</th>\n",
                            "      <th>lunch</th>\n",
                            "      <th>test preparation course</th>\n",
                            "      <th>math score</th>\n",
                            "      <th>reading score</th>\n",
                            "      <th>writing score</th>\n",
                            "    </tr>\n",
                            "  </thead>\n",
                            "  <tbody>\n",
                            "    <tr>\n",
                            "      <th>0</th>\n",
                            "      <td>male</td>\n",
                            "      <td>group B</td>\n",
                            "      <td>bachelor's degree</td>\n",
                            "      <td>standard</td>\n",
                            "      <td>none</td>\n",
                            "      <td>74</td>\n",
                            "      <td>68</td>\n",
                            "      <td>67</td>\n",
                            "    </tr>\n",
                            "    <tr>\n",
                            "      <th>2</th>\n",
                            "      <td>male</td>\n",
                            "      <td>group C</td>\n",
                            "      <td>some college</td>\n",
                            "      <td>free/reduced</td>\n",
                            "      <td>none</td>\n",
                            "      <td>66</td>\n",
                            "      <td>65</td>\n",
                            "      <td>65</td>\n",
                            "    </tr>\n",
                            "    <tr>\n",
                            "      <th>4</th>\n",
                            "      <td>male</td>\n",
                            "      <td>group D</td>\n",
                            "      <td>some college</td>\n",
                            "      <td>standard</td>\n",
                            "      <td>none</td>\n",
                            "      <td>78</td>\n",
                            "      <td>77</td>\n",
                            "      <td>71</td>\n",
                            "    </tr>\n",
                            "    <tr>\n",
                            "      <th>7</th>\n",
                            "      <td>male</td>\n",
                            "      <td>group E</td>\n",
                            "      <td>some high school</td>\n",
                            "      <td>free/reduced</td>\n",
                            "      <td>none</td>\n",
                            "      <td>54</td>\n",
                            "      <td>50</td>\n",
                            "      <td>48</td>\n",
                            "    </tr>\n",
                            "    <tr>\n",
                            "      <th>8</th>\n",
                            "      <td>male</td>\n",
                            "      <td>group C</td>\n",
                            "      <td>some high school</td>\n",
                            "      <td>standard</td>\n",
                            "      <td>completed</td>\n",
                            "      <td>65</td>\n",
                            "      <td>58</td>\n",
                            "      <td>55</td>\n",
                            "    </tr>\n",
                            "  </tbody>\n",
                            "</table>\n",
                            "</div>"
                        ],
                        "text/plain": [
                            "  gender race/ethnicity parental level of education         lunch  \\\n",
                            "0   male        group B           bachelor's degree      standard   \n",
                            "2   male        group C                some college  free/reduced   \n",
                            "4   male        group D                some college      standard   \n",
                            "7   male        group E            some high school  free/reduced   \n",
                            "8   male        group C            some high school      standard   \n",
                            "\n",
                            "  test preparation course  math score  reading score  writing score  \n",
                            "0                    none          74             68             67  \n",
                            "2                    none          66             65             65  \n",
                            "4                    none          78             77             71  \n",
                            "7                    none          54             50             48  \n",
                            "8               completed          65             58             55  "
                        ]
                    },
                    "execution_count": 68,
                    "metadata": {},
                    "output_type": "execute_result"
                }
            ],
            "source": [
                "# this conditional indexing, Get all the columns of the row that satisfies the condition\n",
                "df[df['gender']=='male'].head()"
            ]
        },
        {
            "cell_type": "code",
            "execution_count": 49,
            "metadata": {},
            "outputs": [
                {
                    "data": {
                        "text/html": [
                            "<div>\n",
                            "<style scoped>\n",
                            "    .dataframe tbody tr th:only-of-type {\n",
                            "        vertical-align: middle;\n",
                            "    }\n",
                            "\n",
                            "    .dataframe tbody tr th {\n",
                            "        vertical-align: top;\n",
                            "    }\n",
                            "\n",
                            "    .dataframe thead th {\n",
                            "        text-align: right;\n",
                            "    }\n",
                            "</style>\n",
                            "<table border=\"1\" class=\"dataframe\">\n",
                            "  <thead>\n",
                            "    <tr style=\"text-align: right;\">\n",
                            "      <th></th>\n",
                            "      <th>gender</th>\n",
                            "      <th>reading score</th>\n",
                            "    </tr>\n",
                            "  </thead>\n",
                            "  <tbody>\n",
                            "    <tr>\n",
                            "      <th>0</th>\n",
                            "      <td>male</td>\n",
                            "      <td>68</td>\n",
                            "    </tr>\n",
                            "    <tr>\n",
                            "      <th>1</th>\n",
                            "      <td>female</td>\n",
                            "      <td>68</td>\n",
                            "    </tr>\n",
                            "    <tr>\n",
                            "      <th>2</th>\n",
                            "      <td>male</td>\n",
                            "      <td>65</td>\n",
                            "    </tr>\n",
                            "    <tr>\n",
                            "      <th>3</th>\n",
                            "      <td>female</td>\n",
                            "      <td>75</td>\n",
                            "    </tr>\n",
                            "    <tr>\n",
                            "      <th>4</th>\n",
                            "      <td>male</td>\n",
                            "      <td>77</td>\n",
                            "    </tr>\n",
                            "    <tr>\n",
                            "      <th>...</th>\n",
                            "      <td>...</td>\n",
                            "      <td>...</td>\n",
                            "    </tr>\n",
                            "    <tr>\n",
                            "      <th>995</th>\n",
                            "      <td>female</td>\n",
                            "      <td>77</td>\n",
                            "    </tr>\n",
                            "    <tr>\n",
                            "      <th>996</th>\n",
                            "      <td>female</td>\n",
                            "      <td>81</td>\n",
                            "    </tr>\n",
                            "    <tr>\n",
                            "      <th>997</th>\n",
                            "      <td>female</td>\n",
                            "      <td>67</td>\n",
                            "    </tr>\n",
                            "    <tr>\n",
                            "      <th>998</th>\n",
                            "      <td>female</td>\n",
                            "      <td>68</td>\n",
                            "    </tr>\n",
                            "    <tr>\n",
                            "      <th>999</th>\n",
                            "      <td>male</td>\n",
                            "      <td>57</td>\n",
                            "    </tr>\n",
                            "  </tbody>\n",
                            "</table>\n",
                            "<p>1000 rows × 2 columns</p>\n",
                            "</div>"
                        ],
                        "text/plain": [
                            "     gender  reading score\n",
                            "0      male             68\n",
                            "1    female             68\n",
                            "2      male             65\n",
                            "3    female             75\n",
                            "4      male             77\n",
                            "..      ...            ...\n",
                            "995  female             77\n",
                            "996  female             81\n",
                            "997  female             67\n",
                            "998  female             68\n",
                            "999    male             57\n",
                            "\n",
                            "[1000 rows x 2 columns]"
                        ]
                    },
                    "execution_count": 49,
                    "metadata": {},
                    "output_type": "execute_result"
                }
            ],
            "source": [
                "# the columns can be indexed this way\n",
                "df[['gender','reading score']]"
            ]
        },
        {
            "cell_type": "markdown",
            "metadata": {},
            "source": [
                "Index-Based Selection\n",
                "\n",
                "* Index-based selection is to select data based on its numerical position in DataFrame.\n",
                "* iloc is used for selecting data based on numerical position.\n",
                "* the syntax is df.iloc[ ]"
            ]
        },
        {
            "cell_type": "code",
            "execution_count": 42,
            "metadata": {},
            "outputs": [
                {
                    "data": {
                        "text/plain": [
                            "'male'"
                        ]
                    },
                    "execution_count": 42,
                    "metadata": {},
                    "output_type": "execute_result"
                }
            ],
            "source": [
                "# this selects the first row and first element in the first column\n",
                "df.iloc[0,0]"
            ]
        },
        {
            "cell_type": "code",
            "execution_count": 43,
            "metadata": {},
            "outputs": [
                {
                    "data": {
                        "text/html": [
                            "<div>\n",
                            "<style scoped>\n",
                            "    .dataframe tbody tr th:only-of-type {\n",
                            "        vertical-align: middle;\n",
                            "    }\n",
                            "\n",
                            "    .dataframe tbody tr th {\n",
                            "        vertical-align: top;\n",
                            "    }\n",
                            "\n",
                            "    .dataframe thead th {\n",
                            "        text-align: right;\n",
                            "    }\n",
                            "</style>\n",
                            "<table border=\"1\" class=\"dataframe\">\n",
                            "  <thead>\n",
                            "    <tr style=\"text-align: right;\">\n",
                            "      <th></th>\n",
                            "      <th>gender</th>\n",
                            "      <th>race/ethnicity</th>\n",
                            "      <th>parental level of education</th>\n",
                            "      <th>lunch</th>\n",
                            "      <th>test preparation course</th>\n",
                            "      <th>math score</th>\n",
                            "      <th>reading score</th>\n",
                            "      <th>writing score</th>\n",
                            "    </tr>\n",
                            "  </thead>\n",
                            "  <tbody>\n",
                            "    <tr>\n",
                            "      <th>0</th>\n",
                            "      <td>male</td>\n",
                            "      <td>group B</td>\n",
                            "      <td>bachelor's degree</td>\n",
                            "      <td>standard</td>\n",
                            "      <td>none</td>\n",
                            "      <td>74</td>\n",
                            "      <td>68</td>\n",
                            "      <td>67</td>\n",
                            "    </tr>\n",
                            "    <tr>\n",
                            "      <th>1</th>\n",
                            "      <td>female</td>\n",
                            "      <td>group C</td>\n",
                            "      <td>some college</td>\n",
                            "      <td>standard</td>\n",
                            "      <td>completed</td>\n",
                            "      <td>58</td>\n",
                            "      <td>68</td>\n",
                            "      <td>66</td>\n",
                            "    </tr>\n",
                            "    <tr>\n",
                            "      <th>2</th>\n",
                            "      <td>male</td>\n",
                            "      <td>group C</td>\n",
                            "      <td>some college</td>\n",
                            "      <td>free/reduced</td>\n",
                            "      <td>none</td>\n",
                            "      <td>66</td>\n",
                            "      <td>65</td>\n",
                            "      <td>65</td>\n",
                            "    </tr>\n",
                            "  </tbody>\n",
                            "</table>\n",
                            "</div>"
                        ],
                        "text/plain": [
                            "   gender race/ethnicity parental level of education         lunch  \\\n",
                            "0    male        group B           bachelor's degree      standard   \n",
                            "1  female        group C                some college      standard   \n",
                            "2    male        group C                some college  free/reduced   \n",
                            "\n",
                            "  test preparation course  math score  reading score  writing score  \n",
                            "0                    none          74             68             67  \n",
                            "1               completed          58             68             66  \n",
                            "2                    none          66             65             65  "
                        ]
                    },
                    "execution_count": 43,
                    "metadata": {},
                    "output_type": "execute_result"
                }
            ],
            "source": [
                "# this selects from row0 to row2\n",
                "df.iloc[0:3]"
            ]
        },
        {
            "cell_type": "code",
            "execution_count": 44,
            "metadata": {},
            "outputs": [
                {
                    "data": {
                        "text/plain": [
                            "0    74\n",
                            "1    58\n",
                            "2    66\n",
                            "3    74\n",
                            "Name: math score, dtype: int64"
                        ]
                    },
                    "execution_count": 44,
                    "metadata": {},
                    "output_type": "execute_result"
                }
            ],
            "source": [
                "# this selects from row0 to row3 and column 4\n",
                "df.iloc[0:4,5]"
            ]
        },
        {
            "cell_type": "code",
            "execution_count": 45,
            "metadata": {},
            "outputs": [
                {
                    "data": {
                        "text/html": [
                            "<div>\n",
                            "<style scoped>\n",
                            "    .dataframe tbody tr th:only-of-type {\n",
                            "        vertical-align: middle;\n",
                            "    }\n",
                            "\n",
                            "    .dataframe tbody tr th {\n",
                            "        vertical-align: top;\n",
                            "    }\n",
                            "\n",
                            "    .dataframe thead th {\n",
                            "        text-align: right;\n",
                            "    }\n",
                            "</style>\n",
                            "<table border=\"1\" class=\"dataframe\">\n",
                            "  <thead>\n",
                            "    <tr style=\"text-align: right;\">\n",
                            "      <th></th>\n",
                            "      <th>gender</th>\n",
                            "      <th>race/ethnicity</th>\n",
                            "      <th>parental level of education</th>\n",
                            "      <th>lunch</th>\n",
                            "    </tr>\n",
                            "  </thead>\n",
                            "  <tbody>\n",
                            "    <tr>\n",
                            "      <th>0</th>\n",
                            "      <td>male</td>\n",
                            "      <td>group B</td>\n",
                            "      <td>bachelor's degree</td>\n",
                            "      <td>standard</td>\n",
                            "    </tr>\n",
                            "    <tr>\n",
                            "      <th>1</th>\n",
                            "      <td>female</td>\n",
                            "      <td>group C</td>\n",
                            "      <td>some college</td>\n",
                            "      <td>standard</td>\n",
                            "    </tr>\n",
                            "    <tr>\n",
                            "      <th>2</th>\n",
                            "      <td>male</td>\n",
                            "      <td>group C</td>\n",
                            "      <td>some college</td>\n",
                            "      <td>free/reduced</td>\n",
                            "    </tr>\n",
                            "    <tr>\n",
                            "      <th>3</th>\n",
                            "      <td>female</td>\n",
                            "      <td>group D</td>\n",
                            "      <td>bachelor's degree</td>\n",
                            "      <td>free/reduced</td>\n",
                            "    </tr>\n",
                            "    <tr>\n",
                            "      <th>4</th>\n",
                            "      <td>male</td>\n",
                            "      <td>group D</td>\n",
                            "      <td>some college</td>\n",
                            "      <td>standard</td>\n",
                            "    </tr>\n",
                            "  </tbody>\n",
                            "</table>\n",
                            "</div>"
                        ],
                        "text/plain": [
                            "   gender race/ethnicity parental level of education         lunch\n",
                            "0    male        group B           bachelor's degree      standard\n",
                            "1  female        group C                some college      standard\n",
                            "2    male        group C                some college  free/reduced\n",
                            "3  female        group D           bachelor's degree  free/reduced\n",
                            "4    male        group D                some college      standard"
                        ]
                    },
                    "execution_count": 45,
                    "metadata": {},
                    "output_type": "execute_result"
                }
            ],
            "source": [
                "df.iloc[[0,1,2,3,4], :4]"
            ]
        },
        {
            "cell_type": "markdown",
            "metadata": {},
            "source": [
                "Label-Based Selection\n",
                "\n",
                "This function selects data by the label of the rows and columns. The df.loc indexer selects data in a different way than just the indexing operator. It can select subsets of rows or columns. It can also simultaneously select subsets of rows and columns."
            ]
        },
        {
            "cell_type": "code",
            "execution_count": 53,
            "metadata": {},
            "outputs": [
                {
                    "data": {
                        "text/plain": [
                            "gender                                      male\n",
                            "race/ethnicity                           group B\n",
                            "parental level of education    bachelor's degree\n",
                            "lunch                                   standard\n",
                            "test preparation course                     none\n",
                            "math score                                    74\n",
                            "reading score                                 68\n",
                            "writing score                                 67\n",
                            "Name: 0, dtype: object"
                        ]
                    },
                    "execution_count": 53,
                    "metadata": {},
                    "output_type": "execute_result"
                }
            ],
            "source": [
                "# In order to select a single row using .loc[], we put a single row label in a .loc function.\n",
                "df.loc[0]"
            ]
        },
        {
            "cell_type": "code",
            "execution_count": 54,
            "metadata": {},
            "outputs": [
                {
                    "data": {
                        "text/html": [
                            "<div>\n",
                            "<style scoped>\n",
                            "    .dataframe tbody tr th:only-of-type {\n",
                            "        vertical-align: middle;\n",
                            "    }\n",
                            "\n",
                            "    .dataframe tbody tr th {\n",
                            "        vertical-align: top;\n",
                            "    }\n",
                            "\n",
                            "    .dataframe thead th {\n",
                            "        text-align: right;\n",
                            "    }\n",
                            "</style>\n",
                            "<table border=\"1\" class=\"dataframe\">\n",
                            "  <thead>\n",
                            "    <tr style=\"text-align: right;\">\n",
                            "      <th></th>\n",
                            "      <th>gender</th>\n",
                            "      <th>race/ethnicity</th>\n",
                            "      <th>parental level of education</th>\n",
                            "      <th>lunch</th>\n",
                            "      <th>test preparation course</th>\n",
                            "      <th>math score</th>\n",
                            "      <th>reading score</th>\n",
                            "      <th>writing score</th>\n",
                            "    </tr>\n",
                            "  </thead>\n",
                            "  <tbody>\n",
                            "    <tr>\n",
                            "      <th>0</th>\n",
                            "      <td>male</td>\n",
                            "      <td>group B</td>\n",
                            "      <td>bachelor's degree</td>\n",
                            "      <td>standard</td>\n",
                            "      <td>none</td>\n",
                            "      <td>74</td>\n",
                            "      <td>68</td>\n",
                            "      <td>67</td>\n",
                            "    </tr>\n",
                            "    <tr>\n",
                            "      <th>3</th>\n",
                            "      <td>female</td>\n",
                            "      <td>group D</td>\n",
                            "      <td>bachelor's degree</td>\n",
                            "      <td>free/reduced</td>\n",
                            "      <td>none</td>\n",
                            "      <td>74</td>\n",
                            "      <td>75</td>\n",
                            "      <td>73</td>\n",
                            "    </tr>\n",
                            "  </tbody>\n",
                            "</table>\n",
                            "</div>"
                        ],
                        "text/plain": [
                            "   gender race/ethnicity parental level of education         lunch  \\\n",
                            "0    male        group B           bachelor's degree      standard   \n",
                            "3  female        group D           bachelor's degree  free/reduced   \n",
                            "\n",
                            "  test preparation course  math score  reading score  writing score  \n",
                            "0                    none          74             68             67  \n",
                            "3                    none          74             75             73  "
                        ]
                    },
                    "execution_count": 54,
                    "metadata": {},
                    "output_type": "execute_result"
                }
            ],
            "source": [
                "# In order to select multiple rows, we put all the row labels in a list and pass that to .loc function.\n",
                "df.loc[[0,3]]"
            ]
        },
        {
            "cell_type": "code",
            "execution_count": 56,
            "metadata": {},
            "outputs": [
                {
                    "data": {
                        "text/plain": [
                            "0    74\n",
                            "1    58\n",
                            "2    66\n",
                            "3    74\n",
                            "4    78\n",
                            "Name: math score, dtype: int64"
                        ]
                    },
                    "execution_count": 56,
                    "metadata": {},
                    "output_type": "execute_result"
                }
            ],
            "source": [
                "# to select some rows in a columns\n",
                "df.loc[0:4,'math score']"
            ]
        },
        {
            "cell_type": "code",
            "execution_count": 57,
            "metadata": {},
            "outputs": [
                {
                    "data": {
                        "text/html": [
                            "<div>\n",
                            "<style scoped>\n",
                            "    .dataframe tbody tr th:only-of-type {\n",
                            "        vertical-align: middle;\n",
                            "    }\n",
                            "\n",
                            "    .dataframe tbody tr th {\n",
                            "        vertical-align: top;\n",
                            "    }\n",
                            "\n",
                            "    .dataframe thead th {\n",
                            "        text-align: right;\n",
                            "    }\n",
                            "</style>\n",
                            "<table border=\"1\" class=\"dataframe\">\n",
                            "  <thead>\n",
                            "    <tr style=\"text-align: right;\">\n",
                            "      <th></th>\n",
                            "      <th>math score</th>\n",
                            "      <th>race/ethnicity</th>\n",
                            "    </tr>\n",
                            "  </thead>\n",
                            "  <tbody>\n",
                            "    <tr>\n",
                            "      <th>0</th>\n",
                            "      <td>74</td>\n",
                            "      <td>group B</td>\n",
                            "    </tr>\n",
                            "    <tr>\n",
                            "      <th>1</th>\n",
                            "      <td>58</td>\n",
                            "      <td>group C</td>\n",
                            "    </tr>\n",
                            "    <tr>\n",
                            "      <th>2</th>\n",
                            "      <td>66</td>\n",
                            "      <td>group C</td>\n",
                            "    </tr>\n",
                            "    <tr>\n",
                            "      <th>3</th>\n",
                            "      <td>74</td>\n",
                            "      <td>group D</td>\n",
                            "    </tr>\n",
                            "    <tr>\n",
                            "      <th>4</th>\n",
                            "      <td>78</td>\n",
                            "      <td>group D</td>\n",
                            "    </tr>\n",
                            "  </tbody>\n",
                            "</table>\n",
                            "</div>"
                        ],
                        "text/plain": [
                            "   math score race/ethnicity\n",
                            "0          74        group B\n",
                            "1          58        group C\n",
                            "2          66        group C\n",
                            "3          74        group D\n",
                            "4          78        group D"
                        ]
                    },
                    "execution_count": 57,
                    "metadata": {},
                    "output_type": "execute_result"
                }
            ],
            "source": [
                "# to select some rows in a some columns\n",
                "df.loc[0:4,['math score', 'race/ethnicity']]"
            ]
        },
        {
            "cell_type": "markdown",
            "metadata": {},
            "source": [
                "Summary"
            ]
        },
        {
            "cell_type": "code",
            "execution_count": 95,
            "metadata": {},
            "outputs": [
                {
                    "data": {
                        "text/html": [
                            "<div>\n",
                            "<style scoped>\n",
                            "    .dataframe tbody tr th:only-of-type {\n",
                            "        vertical-align: middle;\n",
                            "    }\n",
                            "\n",
                            "    .dataframe tbody tr th {\n",
                            "        vertical-align: top;\n",
                            "    }\n",
                            "\n",
                            "    .dataframe thead th {\n",
                            "        text-align: right;\n",
                            "    }\n",
                            "</style>\n",
                            "<table border=\"1\" class=\"dataframe\">\n",
                            "  <thead>\n",
                            "    <tr style=\"text-align: right;\">\n",
                            "      <th></th>\n",
                            "      <th>math score</th>\n",
                            "      <th>reading score</th>\n",
                            "      <th>writing score</th>\n",
                            "    </tr>\n",
                            "  </thead>\n",
                            "  <tbody>\n",
                            "    <tr>\n",
                            "      <th>count</th>\n",
                            "      <td>1000.000000</td>\n",
                            "      <td>1000.00000</td>\n",
                            "      <td>1000.000000</td>\n",
                            "    </tr>\n",
                            "    <tr>\n",
                            "      <th>mean</th>\n",
                            "      <td>67.128000</td>\n",
                            "      <td>70.17400</td>\n",
                            "      <td>68.973000</td>\n",
                            "    </tr>\n",
                            "    <tr>\n",
                            "      <th>std</th>\n",
                            "      <td>14.815367</td>\n",
                            "      <td>14.85599</td>\n",
                            "      <td>15.109155</td>\n",
                            "    </tr>\n",
                            "    <tr>\n",
                            "      <th>min</th>\n",
                            "      <td>15.000000</td>\n",
                            "      <td>18.00000</td>\n",
                            "      <td>10.000000</td>\n",
                            "    </tr>\n",
                            "    <tr>\n",
                            "      <th>25%</th>\n",
                            "      <td>58.000000</td>\n",
                            "      <td>60.00000</td>\n",
                            "      <td>59.000000</td>\n",
                            "    </tr>\n",
                            "    <tr>\n",
                            "      <th>50%</th>\n",
                            "      <td>67.000000</td>\n",
                            "      <td>70.00000</td>\n",
                            "      <td>69.000000</td>\n",
                            "    </tr>\n",
                            "    <tr>\n",
                            "      <th>75%</th>\n",
                            "      <td>78.000000</td>\n",
                            "      <td>81.00000</td>\n",
                            "      <td>80.000000</td>\n",
                            "    </tr>\n",
                            "    <tr>\n",
                            "      <th>max</th>\n",
                            "      <td>100.000000</td>\n",
                            "      <td>100.00000</td>\n",
                            "      <td>100.000000</td>\n",
                            "    </tr>\n",
                            "  </tbody>\n",
                            "</table>\n",
                            "</div>"
                        ],
                        "text/plain": [
                            "        math score  reading score  writing score\n",
                            "count  1000.000000     1000.00000    1000.000000\n",
                            "mean     67.128000       70.17400      68.973000\n",
                            "std      14.815367       14.85599      15.109155\n",
                            "min      15.000000       18.00000      10.000000\n",
                            "25%      58.000000       60.00000      59.000000\n",
                            "50%      67.000000       70.00000      69.000000\n",
                            "75%      78.000000       81.00000      80.000000\n",
                            "max     100.000000      100.00000     100.000000"
                        ]
                    },
                    "execution_count": 95,
                    "metadata": {},
                    "output_type": "execute_result"
                }
            ],
            "source": [
                "df.describe()"
            ]
        },
        {
            "cell_type": "code",
            "execution_count": 96,
            "metadata": {},
            "outputs": [
                {
                    "data": {
                        "text/html": [
                            "<div>\n",
                            "<style scoped>\n",
                            "    .dataframe tbody tr th:only-of-type {\n",
                            "        vertical-align: middle;\n",
                            "    }\n",
                            "\n",
                            "    .dataframe tbody tr th {\n",
                            "        vertical-align: top;\n",
                            "    }\n",
                            "\n",
                            "    .dataframe thead th {\n",
                            "        text-align: right;\n",
                            "    }\n",
                            "</style>\n",
                            "<table border=\"1\" class=\"dataframe\">\n",
                            "  <thead>\n",
                            "    <tr style=\"text-align: right;\">\n",
                            "      <th></th>\n",
                            "      <th>gender</th>\n",
                            "      <th>race/ethnicity</th>\n",
                            "      <th>parental level of education</th>\n",
                            "      <th>lunch</th>\n",
                            "      <th>test preparation course</th>\n",
                            "    </tr>\n",
                            "  </thead>\n",
                            "  <tbody>\n",
                            "    <tr>\n",
                            "      <th>count</th>\n",
                            "      <td>1000</td>\n",
                            "      <td>1000</td>\n",
                            "      <td>1000</td>\n",
                            "      <td>1000</td>\n",
                            "      <td>1000</td>\n",
                            "    </tr>\n",
                            "    <tr>\n",
                            "      <th>unique</th>\n",
                            "      <td>2</td>\n",
                            "      <td>5</td>\n",
                            "      <td>6</td>\n",
                            "      <td>2</td>\n",
                            "      <td>2</td>\n",
                            "    </tr>\n",
                            "    <tr>\n",
                            "      <th>top</th>\n",
                            "      <td>female</td>\n",
                            "      <td>group C</td>\n",
                            "      <td>some college</td>\n",
                            "      <td>standard</td>\n",
                            "      <td>none</td>\n",
                            "    </tr>\n",
                            "    <tr>\n",
                            "      <th>freq</th>\n",
                            "      <td>502</td>\n",
                            "      <td>294</td>\n",
                            "      <td>226</td>\n",
                            "      <td>649</td>\n",
                            "      <td>654</td>\n",
                            "    </tr>\n",
                            "  </tbody>\n",
                            "</table>\n",
                            "</div>"
                        ],
                        "text/plain": [
                            "        gender race/ethnicity parental level of education     lunch  \\\n",
                            "count     1000           1000                        1000      1000   \n",
                            "unique       2              5                           6         2   \n",
                            "top     female        group C                some college  standard   \n",
                            "freq       502            294                         226       649   \n",
                            "\n",
                            "       test preparation course  \n",
                            "count                     1000  \n",
                            "unique                       2  \n",
                            "top                       none  \n",
                            "freq                       654  "
                        ]
                    },
                    "execution_count": 96,
                    "metadata": {},
                    "output_type": "execute_result"
                }
            ],
            "source": [
                "df.describe(include= 'object')\n"
            ]
        },
        {
            "cell_type": "code",
            "execution_count": 97,
            "metadata": {},
            "outputs": [
                {
                    "data": {
                        "text/html": [
                            "<div>\n",
                            "<style scoped>\n",
                            "    .dataframe tbody tr th:only-of-type {\n",
                            "        vertical-align: middle;\n",
                            "    }\n",
                            "\n",
                            "    .dataframe tbody tr th {\n",
                            "        vertical-align: top;\n",
                            "    }\n",
                            "\n",
                            "    .dataframe thead th {\n",
                            "        text-align: right;\n",
                            "    }\n",
                            "</style>\n",
                            "<table border=\"1\" class=\"dataframe\">\n",
                            "  <thead>\n",
                            "    <tr style=\"text-align: right;\">\n",
                            "      <th></th>\n",
                            "      <th>gender</th>\n",
                            "      <th>race/ethnicity</th>\n",
                            "      <th>parental level of education</th>\n",
                            "      <th>lunch</th>\n",
                            "      <th>test preparation course</th>\n",
                            "      <th>math score</th>\n",
                            "      <th>reading score</th>\n",
                            "      <th>writing score</th>\n",
                            "    </tr>\n",
                            "  </thead>\n",
                            "  <tbody>\n",
                            "    <tr>\n",
                            "      <th>count</th>\n",
                            "      <td>1000</td>\n",
                            "      <td>1000</td>\n",
                            "      <td>1000</td>\n",
                            "      <td>1000</td>\n",
                            "      <td>1000</td>\n",
                            "      <td>1000.000000</td>\n",
                            "      <td>1000.00000</td>\n",
                            "      <td>1000.000000</td>\n",
                            "    </tr>\n",
                            "    <tr>\n",
                            "      <th>unique</th>\n",
                            "      <td>2</td>\n",
                            "      <td>5</td>\n",
                            "      <td>6</td>\n",
                            "      <td>2</td>\n",
                            "      <td>2</td>\n",
                            "      <td>NaN</td>\n",
                            "      <td>NaN</td>\n",
                            "      <td>NaN</td>\n",
                            "    </tr>\n",
                            "    <tr>\n",
                            "      <th>top</th>\n",
                            "      <td>female</td>\n",
                            "      <td>group C</td>\n",
                            "      <td>some college</td>\n",
                            "      <td>standard</td>\n",
                            "      <td>none</td>\n",
                            "      <td>NaN</td>\n",
                            "      <td>NaN</td>\n",
                            "      <td>NaN</td>\n",
                            "    </tr>\n",
                            "    <tr>\n",
                            "      <th>freq</th>\n",
                            "      <td>502</td>\n",
                            "      <td>294</td>\n",
                            "      <td>226</td>\n",
                            "      <td>649</td>\n",
                            "      <td>654</td>\n",
                            "      <td>NaN</td>\n",
                            "      <td>NaN</td>\n",
                            "      <td>NaN</td>\n",
                            "    </tr>\n",
                            "    <tr>\n",
                            "      <th>mean</th>\n",
                            "      <td>NaN</td>\n",
                            "      <td>NaN</td>\n",
                            "      <td>NaN</td>\n",
                            "      <td>NaN</td>\n",
                            "      <td>NaN</td>\n",
                            "      <td>67.128000</td>\n",
                            "      <td>70.17400</td>\n",
                            "      <td>68.973000</td>\n",
                            "    </tr>\n",
                            "    <tr>\n",
                            "      <th>std</th>\n",
                            "      <td>NaN</td>\n",
                            "      <td>NaN</td>\n",
                            "      <td>NaN</td>\n",
                            "      <td>NaN</td>\n",
                            "      <td>NaN</td>\n",
                            "      <td>14.815367</td>\n",
                            "      <td>14.85599</td>\n",
                            "      <td>15.109155</td>\n",
                            "    </tr>\n",
                            "    <tr>\n",
                            "      <th>min</th>\n",
                            "      <td>NaN</td>\n",
                            "      <td>NaN</td>\n",
                            "      <td>NaN</td>\n",
                            "      <td>NaN</td>\n",
                            "      <td>NaN</td>\n",
                            "      <td>15.000000</td>\n",
                            "      <td>18.00000</td>\n",
                            "      <td>10.000000</td>\n",
                            "    </tr>\n",
                            "    <tr>\n",
                            "      <th>25%</th>\n",
                            "      <td>NaN</td>\n",
                            "      <td>NaN</td>\n",
                            "      <td>NaN</td>\n",
                            "      <td>NaN</td>\n",
                            "      <td>NaN</td>\n",
                            "      <td>58.000000</td>\n",
                            "      <td>60.00000</td>\n",
                            "      <td>59.000000</td>\n",
                            "    </tr>\n",
                            "    <tr>\n",
                            "      <th>50%</th>\n",
                            "      <td>NaN</td>\n",
                            "      <td>NaN</td>\n",
                            "      <td>NaN</td>\n",
                            "      <td>NaN</td>\n",
                            "      <td>NaN</td>\n",
                            "      <td>67.000000</td>\n",
                            "      <td>70.00000</td>\n",
                            "      <td>69.000000</td>\n",
                            "    </tr>\n",
                            "    <tr>\n",
                            "      <th>75%</th>\n",
                            "      <td>NaN</td>\n",
                            "      <td>NaN</td>\n",
                            "      <td>NaN</td>\n",
                            "      <td>NaN</td>\n",
                            "      <td>NaN</td>\n",
                            "      <td>78.000000</td>\n",
                            "      <td>81.00000</td>\n",
                            "      <td>80.000000</td>\n",
                            "    </tr>\n",
                            "    <tr>\n",
                            "      <th>max</th>\n",
                            "      <td>NaN</td>\n",
                            "      <td>NaN</td>\n",
                            "      <td>NaN</td>\n",
                            "      <td>NaN</td>\n",
                            "      <td>NaN</td>\n",
                            "      <td>100.000000</td>\n",
                            "      <td>100.00000</td>\n",
                            "      <td>100.000000</td>\n",
                            "    </tr>\n",
                            "  </tbody>\n",
                            "</table>\n",
                            "</div>"
                        ],
                        "text/plain": [
                            "        gender race/ethnicity parental level of education     lunch  \\\n",
                            "count     1000           1000                        1000      1000   \n",
                            "unique       2              5                           6         2   \n",
                            "top     female        group C                some college  standard   \n",
                            "freq       502            294                         226       649   \n",
                            "mean       NaN            NaN                         NaN       NaN   \n",
                            "std        NaN            NaN                         NaN       NaN   \n",
                            "min        NaN            NaN                         NaN       NaN   \n",
                            "25%        NaN            NaN                         NaN       NaN   \n",
                            "50%        NaN            NaN                         NaN       NaN   \n",
                            "75%        NaN            NaN                         NaN       NaN   \n",
                            "max        NaN            NaN                         NaN       NaN   \n",
                            "\n",
                            "       test preparation course   math score  reading score  writing score  \n",
                            "count                     1000  1000.000000     1000.00000    1000.000000  \n",
                            "unique                       2          NaN            NaN            NaN  \n",
                            "top                       none          NaN            NaN            NaN  \n",
                            "freq                       654          NaN            NaN            NaN  \n",
                            "mean                       NaN    67.128000       70.17400      68.973000  \n",
                            "std                        NaN    14.815367       14.85599      15.109155  \n",
                            "min                        NaN    15.000000       18.00000      10.000000  \n",
                            "25%                        NaN    58.000000       60.00000      59.000000  \n",
                            "50%                        NaN    67.000000       70.00000      69.000000  \n",
                            "75%                        NaN    78.000000       81.00000      80.000000  \n",
                            "max                        NaN   100.000000      100.00000     100.000000  "
                        ]
                    },
                    "execution_count": 97,
                    "metadata": {},
                    "output_type": "execute_result"
                }
            ],
            "source": [
                "df.describe(include='all')\n"
            ]
        },
        {
            "cell_type": "markdown",
            "metadata": {},
            "source": [
                "\n",
                "\n",
                "Let's see what information about the data is returned in the above table:\n",
                "\n",
                "    count - the count of non-null entries in the particular column. For example, gender column has 1000 non-null entries.\n",
                "    unique - the count of unique values in a column. Only for categorical columns. For example, gender column has 2 unique values - male and female.\n",
                "    top - this is also for only categorical columns. This tells us which category is occurring maximum number of times. For example in gender column 'female' is occurring maximum number of times.\n",
                "    freq - this is again for categorical columns only. This tells you the number of occurrences of the top category in that column. For example, 'female' in gender column is occurring 502 times.\n",
                "    mean - the mean value of the numerical column. For example, the mean math score is 67.128.\n",
                "    std - this is the standard deviation of the numerical column. This tells you about the variation in the data. Don't worry if you don't know about it.\n",
                "    min - the minimum value in the numerical column. For example, the minimum math score is 15.0\n",
                "    25% - the 25th percentile (or 1st quartile) value in the numerical column. For example, the 25th percentile value for math score is 58.0.\n",
                "    50% - the 50th percentile (or 2nd quartile or the median) value in the numerical column. For example, the median math score is 67.0.\n",
                "    75% - the 75th percentile (or 3rd quartile) value in the numerical column. For example, the 75th percentile value for math score is 78.0.\n",
                "    max - the maximum value in the numerical column. For example, the maximum math score is 100.0.\n",
                "    NaN values means that for a particular column, a particular summary value is not available. For example, gender (a categorical column), does not have mean value or median value as these are the properties of a numerical column only.\n",
                "\n"
            ]
        },
        {
            "cell_type": "code",
            "execution_count": 98,
            "metadata": {},
            "outputs": [
                {
                    "data": {
                        "text/plain": [
                            "array(['male', 'female'], dtype=object)"
                        ]
                    },
                    "execution_count": 98,
                    "metadata": {},
                    "output_type": "execute_result"
                }
            ],
            "source": [
                "df.gender.unique()"
            ]
        },
        {
            "cell_type": "code",
            "execution_count": 106,
            "metadata": {},
            "outputs": [
                {
                    "data": {
                        "text/plain": [
                            "67.128"
                        ]
                    },
                    "execution_count": 106,
                    "metadata": {},
                    "output_type": "execute_result"
                }
            ],
            "source": [
                "df['math score'].mean()\n"
            ]
        },
        {
            "cell_type": "markdown",
            "metadata": {},
            "source": [
                "Sorting"
            ]
        },
        {
            "cell_type": "code",
            "execution_count": 123,
            "metadata": {},
            "outputs": [
                {
                    "data": {
                        "text/html": [
                            "<div>\n",
                            "<style scoped>\n",
                            "    .dataframe tbody tr th:only-of-type {\n",
                            "        vertical-align: middle;\n",
                            "    }\n",
                            "\n",
                            "    .dataframe tbody tr th {\n",
                            "        vertical-align: top;\n",
                            "    }\n",
                            "\n",
                            "    .dataframe thead th {\n",
                            "        text-align: right;\n",
                            "    }\n",
                            "</style>\n",
                            "<table border=\"1\" class=\"dataframe\">\n",
                            "  <thead>\n",
                            "    <tr style=\"text-align: right;\">\n",
                            "      <th></th>\n",
                            "      <th>gender</th>\n",
                            "      <th>race/ethnicity</th>\n",
                            "      <th>parental level of education</th>\n",
                            "      <th>lunch</th>\n",
                            "      <th>test preparation course</th>\n",
                            "      <th>math score</th>\n",
                            "      <th>reading score</th>\n",
                            "      <th>writing score</th>\n",
                            "    </tr>\n",
                            "  </thead>\n",
                            "  <tbody>\n",
                            "    <tr>\n",
                            "      <th>949</th>\n",
                            "      <td>male</td>\n",
                            "      <td>group C</td>\n",
                            "      <td>high school</td>\n",
                            "      <td>free/reduced</td>\n",
                            "      <td>none</td>\n",
                            "      <td>15</td>\n",
                            "      <td>18</td>\n",
                            "      <td>10</td>\n",
                            "    </tr>\n",
                            "    <tr>\n",
                            "      <th>854</th>\n",
                            "      <td>male</td>\n",
                            "      <td>group C</td>\n",
                            "      <td>high school</td>\n",
                            "      <td>free/reduced</td>\n",
                            "      <td>none</td>\n",
                            "      <td>18</td>\n",
                            "      <td>30</td>\n",
                            "      <td>18</td>\n",
                            "    </tr>\n",
                            "    <tr>\n",
                            "      <th>891</th>\n",
                            "      <td>female</td>\n",
                            "      <td>group C</td>\n",
                            "      <td>high school</td>\n",
                            "      <td>free/reduced</td>\n",
                            "      <td>none</td>\n",
                            "      <td>23</td>\n",
                            "      <td>31</td>\n",
                            "      <td>27</td>\n",
                            "    </tr>\n",
                            "    <tr>\n",
                            "      <th>349</th>\n",
                            "      <td>male</td>\n",
                            "      <td>group B</td>\n",
                            "      <td>some high school</td>\n",
                            "      <td>free/reduced</td>\n",
                            "      <td>none</td>\n",
                            "      <td>25</td>\n",
                            "      <td>31</td>\n",
                            "      <td>30</td>\n",
                            "    </tr>\n",
                            "    <tr>\n",
                            "      <th>739</th>\n",
                            "      <td>female</td>\n",
                            "      <td>group E</td>\n",
                            "      <td>some high school</td>\n",
                            "      <td>free/reduced</td>\n",
                            "      <td>none</td>\n",
                            "      <td>25</td>\n",
                            "      <td>35</td>\n",
                            "      <td>38</td>\n",
                            "    </tr>\n",
                            "  </tbody>\n",
                            "</table>\n",
                            "</div>"
                        ],
                        "text/plain": [
                            "     gender race/ethnicity parental level of education         lunch  \\\n",
                            "949    male        group C                 high school  free/reduced   \n",
                            "854    male        group C                 high school  free/reduced   \n",
                            "891  female        group C                 high school  free/reduced   \n",
                            "349    male        group B            some high school  free/reduced   \n",
                            "739  female        group E            some high school  free/reduced   \n",
                            "\n",
                            "    test preparation course  math score  reading score  writing score  \n",
                            "949                    none          15             18             10  \n",
                            "854                    none          18             30             18  \n",
                            "891                    none          23             31             27  \n",
                            "349                    none          25             31             30  \n",
                            "739                    none          25             35             38  "
                        ]
                    },
                    "execution_count": 123,
                    "metadata": {},
                    "output_type": "execute_result"
                }
            ],
            "source": [
                "df.sort_values(by= 'math score').head()"
            ]
        },
        {
            "cell_type": "code",
            "execution_count": 124,
            "metadata": {},
            "outputs": [
                {
                    "data": {
                        "text/html": [
                            "<div>\n",
                            "<style scoped>\n",
                            "    .dataframe tbody tr th:only-of-type {\n",
                            "        vertical-align: middle;\n",
                            "    }\n",
                            "\n",
                            "    .dataframe tbody tr th {\n",
                            "        vertical-align: top;\n",
                            "    }\n",
                            "\n",
                            "    .dataframe thead th {\n",
                            "        text-align: right;\n",
                            "    }\n",
                            "</style>\n",
                            "<table border=\"1\" class=\"dataframe\">\n",
                            "  <thead>\n",
                            "    <tr style=\"text-align: right;\">\n",
                            "      <th></th>\n",
                            "      <th>gender</th>\n",
                            "      <th>race/ethnicity</th>\n",
                            "      <th>parental level of education</th>\n",
                            "      <th>lunch</th>\n",
                            "      <th>test preparation course</th>\n",
                            "      <th>math score</th>\n",
                            "      <th>reading score</th>\n",
                            "      <th>writing score</th>\n",
                            "    </tr>\n",
                            "  </thead>\n",
                            "  <tbody>\n",
                            "    <tr>\n",
                            "      <th>91</th>\n",
                            "      <td>male</td>\n",
                            "      <td>group D</td>\n",
                            "      <td>associate's degree</td>\n",
                            "      <td>standard</td>\n",
                            "      <td>none</td>\n",
                            "      <td>100</td>\n",
                            "      <td>94</td>\n",
                            "      <td>96</td>\n",
                            "    </tr>\n",
                            "    <tr>\n",
                            "      <th>776</th>\n",
                            "      <td>male</td>\n",
                            "      <td>group E</td>\n",
                            "      <td>associate's degree</td>\n",
                            "      <td>standard</td>\n",
                            "      <td>completed</td>\n",
                            "      <td>100</td>\n",
                            "      <td>100</td>\n",
                            "      <td>100</td>\n",
                            "    </tr>\n",
                            "    <tr>\n",
                            "      <th>588</th>\n",
                            "      <td>male</td>\n",
                            "      <td>group D</td>\n",
                            "      <td>some college</td>\n",
                            "      <td>standard</td>\n",
                            "      <td>completed</td>\n",
                            "      <td>100</td>\n",
                            "      <td>85</td>\n",
                            "      <td>91</td>\n",
                            "    </tr>\n",
                            "    <tr>\n",
                            "      <th>128</th>\n",
                            "      <td>male</td>\n",
                            "      <td>group A</td>\n",
                            "      <td>associate's degree</td>\n",
                            "      <td>standard</td>\n",
                            "      <td>completed</td>\n",
                            "      <td>100</td>\n",
                            "      <td>97</td>\n",
                            "      <td>94</td>\n",
                            "    </tr>\n",
                            "    <tr>\n",
                            "      <th>565</th>\n",
                            "      <td>male</td>\n",
                            "      <td>group E</td>\n",
                            "      <td>bachelor's degree</td>\n",
                            "      <td>standard</td>\n",
                            "      <td>completed</td>\n",
                            "      <td>100</td>\n",
                            "      <td>100</td>\n",
                            "      <td>100</td>\n",
                            "    </tr>\n",
                            "  </tbody>\n",
                            "</table>\n",
                            "</div>"
                        ],
                        "text/plain": [
                            "    gender race/ethnicity parental level of education     lunch  \\\n",
                            "91    male        group D          associate's degree  standard   \n",
                            "776   male        group E          associate's degree  standard   \n",
                            "588   male        group D                some college  standard   \n",
                            "128   male        group A          associate's degree  standard   \n",
                            "565   male        group E           bachelor's degree  standard   \n",
                            "\n",
                            "    test preparation course  math score  reading score  writing score  \n",
                            "91                     none         100             94             96  \n",
                            "776               completed         100            100            100  \n",
                            "588               completed         100             85             91  \n",
                            "128               completed         100             97             94  \n",
                            "565               completed         100            100            100  "
                        ]
                    },
                    "execution_count": 124,
                    "metadata": {},
                    "output_type": "execute_result"
                }
            ],
            "source": [
                "df.sort_values(by='math score', ascending= False).head()\n"
            ]
        },
        {
            "cell_type": "markdown",
            "metadata": {},
            "source": [
                "Checking and Filling Missing Data\n",
                "* If in any row or column in a DataFrame, a value is not available, it is said to be a missing value.\n",
                "* So, defining missing data: Missing data (or missing values) is defined as the data values that are not stored in a column or row.\n",
                "* Pandas provides isnull(), isna() functions to detect missing values. Both of them do the same thing."
            ]
        },
        {
            "cell_type": "code",
            "execution_count": 130,
            "metadata": {},
            "outputs": [
                {
                    "data": {
                        "text/html": [
                            "<div>\n",
                            "<style scoped>\n",
                            "    .dataframe tbody tr th:only-of-type {\n",
                            "        vertical-align: middle;\n",
                            "    }\n",
                            "\n",
                            "    .dataframe tbody tr th {\n",
                            "        vertical-align: top;\n",
                            "    }\n",
                            "\n",
                            "    .dataframe thead th {\n",
                            "        text-align: right;\n",
                            "    }\n",
                            "</style>\n",
                            "<table border=\"1\" class=\"dataframe\">\n",
                            "  <thead>\n",
                            "    <tr style=\"text-align: right;\">\n",
                            "      <th></th>\n",
                            "      <th>gender</th>\n",
                            "      <th>race/ethnicity</th>\n",
                            "      <th>parental level of education</th>\n",
                            "      <th>lunch</th>\n",
                            "      <th>test preparation course</th>\n",
                            "      <th>math score</th>\n",
                            "      <th>reading score</th>\n",
                            "      <th>writing score</th>\n",
                            "    </tr>\n",
                            "  </thead>\n",
                            "  <tbody>\n",
                            "    <tr>\n",
                            "      <th>0</th>\n",
                            "      <td>False</td>\n",
                            "      <td>False</td>\n",
                            "      <td>False</td>\n",
                            "      <td>False</td>\n",
                            "      <td>False</td>\n",
                            "      <td>False</td>\n",
                            "      <td>False</td>\n",
                            "      <td>False</td>\n",
                            "    </tr>\n",
                            "    <tr>\n",
                            "      <th>1</th>\n",
                            "      <td>False</td>\n",
                            "      <td>False</td>\n",
                            "      <td>False</td>\n",
                            "      <td>False</td>\n",
                            "      <td>False</td>\n",
                            "      <td>False</td>\n",
                            "      <td>False</td>\n",
                            "      <td>False</td>\n",
                            "    </tr>\n",
                            "    <tr>\n",
                            "      <th>2</th>\n",
                            "      <td>False</td>\n",
                            "      <td>False</td>\n",
                            "      <td>False</td>\n",
                            "      <td>False</td>\n",
                            "      <td>False</td>\n",
                            "      <td>False</td>\n",
                            "      <td>False</td>\n",
                            "      <td>False</td>\n",
                            "    </tr>\n",
                            "    <tr>\n",
                            "      <th>3</th>\n",
                            "      <td>False</td>\n",
                            "      <td>False</td>\n",
                            "      <td>False</td>\n",
                            "      <td>False</td>\n",
                            "      <td>False</td>\n",
                            "      <td>False</td>\n",
                            "      <td>False</td>\n",
                            "      <td>False</td>\n",
                            "    </tr>\n",
                            "    <tr>\n",
                            "      <th>4</th>\n",
                            "      <td>False</td>\n",
                            "      <td>False</td>\n",
                            "      <td>False</td>\n",
                            "      <td>False</td>\n",
                            "      <td>False</td>\n",
                            "      <td>False</td>\n",
                            "      <td>False</td>\n",
                            "      <td>False</td>\n",
                            "    </tr>\n",
                            "    <tr>\n",
                            "      <th>...</th>\n",
                            "      <td>...</td>\n",
                            "      <td>...</td>\n",
                            "      <td>...</td>\n",
                            "      <td>...</td>\n",
                            "      <td>...</td>\n",
                            "      <td>...</td>\n",
                            "      <td>...</td>\n",
                            "      <td>...</td>\n",
                            "    </tr>\n",
                            "    <tr>\n",
                            "      <th>995</th>\n",
                            "      <td>False</td>\n",
                            "      <td>False</td>\n",
                            "      <td>False</td>\n",
                            "      <td>False</td>\n",
                            "      <td>False</td>\n",
                            "      <td>False</td>\n",
                            "      <td>False</td>\n",
                            "      <td>False</td>\n",
                            "    </tr>\n",
                            "    <tr>\n",
                            "      <th>996</th>\n",
                            "      <td>False</td>\n",
                            "      <td>False</td>\n",
                            "      <td>False</td>\n",
                            "      <td>False</td>\n",
                            "      <td>False</td>\n",
                            "      <td>False</td>\n",
                            "      <td>False</td>\n",
                            "      <td>False</td>\n",
                            "    </tr>\n",
                            "    <tr>\n",
                            "      <th>997</th>\n",
                            "      <td>False</td>\n",
                            "      <td>False</td>\n",
                            "      <td>False</td>\n",
                            "      <td>False</td>\n",
                            "      <td>False</td>\n",
                            "      <td>False</td>\n",
                            "      <td>False</td>\n",
                            "      <td>False</td>\n",
                            "    </tr>\n",
                            "    <tr>\n",
                            "      <th>998</th>\n",
                            "      <td>False</td>\n",
                            "      <td>False</td>\n",
                            "      <td>False</td>\n",
                            "      <td>False</td>\n",
                            "      <td>False</td>\n",
                            "      <td>False</td>\n",
                            "      <td>False</td>\n",
                            "      <td>False</td>\n",
                            "    </tr>\n",
                            "    <tr>\n",
                            "      <th>999</th>\n",
                            "      <td>False</td>\n",
                            "      <td>False</td>\n",
                            "      <td>False</td>\n",
                            "      <td>False</td>\n",
                            "      <td>False</td>\n",
                            "      <td>False</td>\n",
                            "      <td>False</td>\n",
                            "      <td>False</td>\n",
                            "    </tr>\n",
                            "  </tbody>\n",
                            "</table>\n",
                            "<p>1000 rows × 8 columns</p>\n",
                            "</div>"
                        ],
                        "text/plain": [
                            "     gender  race/ethnicity  parental level of education  lunch  \\\n",
                            "0     False           False                        False  False   \n",
                            "1     False           False                        False  False   \n",
                            "2     False           False                        False  False   \n",
                            "3     False           False                        False  False   \n",
                            "4     False           False                        False  False   \n",
                            "..      ...             ...                          ...    ...   \n",
                            "995   False           False                        False  False   \n",
                            "996   False           False                        False  False   \n",
                            "997   False           False                        False  False   \n",
                            "998   False           False                        False  False   \n",
                            "999   False           False                        False  False   \n",
                            "\n",
                            "     test preparation course  math score  reading score  writing score  \n",
                            "0                      False       False          False          False  \n",
                            "1                      False       False          False          False  \n",
                            "2                      False       False          False          False  \n",
                            "3                      False       False          False          False  \n",
                            "4                      False       False          False          False  \n",
                            "..                       ...         ...            ...            ...  \n",
                            "995                    False       False          False          False  \n",
                            "996                    False       False          False          False  \n",
                            "997                    False       False          False          False  \n",
                            "998                    False       False          False          False  \n",
                            "999                    False       False          False          False  \n",
                            "\n",
                            "[1000 rows x 8 columns]"
                        ]
                    },
                    "execution_count": 130,
                    "metadata": {},
                    "output_type": "execute_result"
                }
            ],
            "source": [
                "df.isna()"
            ]
        },
        {
            "cell_type": "code",
            "execution_count": 131,
            "metadata": {},
            "outputs": [
                {
                    "data": {
                        "text/plain": [
                            "gender                         0\n",
                            "race/ethnicity                 0\n",
                            "parental level of education    0\n",
                            "lunch                          0\n",
                            "test preparation course        0\n",
                            "math score                     0\n",
                            "reading score                  0\n",
                            "writing score                  0\n",
                            "dtype: int64"
                        ]
                    },
                    "execution_count": 131,
                    "metadata": {},
                    "output_type": "execute_result"
                }
            ],
            "source": [
                "df.isna().sum()\n"
            ]
        },
        {
            "cell_type": "markdown",
            "metadata": {},
            "source": [
                "* Pandas also provides fillna() method to fill the missing values. fillna() provides many different strategies to fill missing values."
            ]
        },
        {
            "cell_type": "code",
            "execution_count": null,
            "metadata": {},
            "outputs": [],
            "source": []
        },
        {
            "cell_type": "code",
            "execution_count": null,
            "metadata": {},
            "outputs": [],
            "source": []
        },
        {
            "cell_type": "code",
            "execution_count": 69,
            "metadata": {},
            "outputs": [],
            "source": [
                "dphi = pd.read_csv('https://raw.githubusercontent.com/dphi-official/Datasets/master/Standard_Metropolitan_Areas_Data-data.csv')\n"
            ]
        },
        {
            "cell_type": "code",
            "execution_count": 71,
            "metadata": {},
            "outputs": [
                {
                    "data": {
                        "text/html": [
                            "<div>\n",
                            "<style scoped>\n",
                            "    .dataframe tbody tr th:only-of-type {\n",
                            "        vertical-align: middle;\n",
                            "    }\n",
                            "\n",
                            "    .dataframe tbody tr th {\n",
                            "        vertical-align: top;\n",
                            "    }\n",
                            "\n",
                            "    .dataframe thead th {\n",
                            "        text-align: right;\n",
                            "    }\n",
                            "</style>\n",
                            "<table border=\"1\" class=\"dataframe\">\n",
                            "  <thead>\n",
                            "    <tr style=\"text-align: right;\">\n",
                            "      <th></th>\n",
                            "      <th>land_area</th>\n",
                            "      <th>percent_city</th>\n",
                            "      <th>percent_senior</th>\n",
                            "      <th>physicians</th>\n",
                            "      <th>hospital_beds</th>\n",
                            "      <th>graduates</th>\n",
                            "      <th>work_force</th>\n",
                            "      <th>income</th>\n",
                            "      <th>region</th>\n",
                            "      <th>crime_rate</th>\n",
                            "    </tr>\n",
                            "  </thead>\n",
                            "  <tbody>\n",
                            "    <tr>\n",
                            "      <th>0</th>\n",
                            "      <td>1384</td>\n",
                            "      <td>78.1</td>\n",
                            "      <td>12.3</td>\n",
                            "      <td>25627</td>\n",
                            "      <td>69678</td>\n",
                            "      <td>50.1</td>\n",
                            "      <td>4083.9</td>\n",
                            "      <td>72100</td>\n",
                            "      <td>1</td>\n",
                            "      <td>75.55</td>\n",
                            "    </tr>\n",
                            "    <tr>\n",
                            "      <th>1</th>\n",
                            "      <td>3719</td>\n",
                            "      <td>43.9</td>\n",
                            "      <td>9.4</td>\n",
                            "      <td>13326</td>\n",
                            "      <td>43292</td>\n",
                            "      <td>53.9</td>\n",
                            "      <td>3305.9</td>\n",
                            "      <td>54542</td>\n",
                            "      <td>2</td>\n",
                            "      <td>56.03</td>\n",
                            "    </tr>\n",
                            "    <tr>\n",
                            "      <th>2</th>\n",
                            "      <td>3553</td>\n",
                            "      <td>37.4</td>\n",
                            "      <td>10.7</td>\n",
                            "      <td>9724</td>\n",
                            "      <td>33731</td>\n",
                            "      <td>50.6</td>\n",
                            "      <td>2066.3</td>\n",
                            "      <td>33216</td>\n",
                            "      <td>1</td>\n",
                            "      <td>41.32</td>\n",
                            "    </tr>\n",
                            "    <tr>\n",
                            "      <th>3</th>\n",
                            "      <td>3916</td>\n",
                            "      <td>29.9</td>\n",
                            "      <td>8.8</td>\n",
                            "      <td>6402</td>\n",
                            "      <td>24167</td>\n",
                            "      <td>52.2</td>\n",
                            "      <td>1966.7</td>\n",
                            "      <td>32906</td>\n",
                            "      <td>2</td>\n",
                            "      <td>67.38</td>\n",
                            "    </tr>\n",
                            "    <tr>\n",
                            "      <th>4</th>\n",
                            "      <td>2480</td>\n",
                            "      <td>31.5</td>\n",
                            "      <td>10.5</td>\n",
                            "      <td>8502</td>\n",
                            "      <td>16751</td>\n",
                            "      <td>66.1</td>\n",
                            "      <td>1514.5</td>\n",
                            "      <td>26573</td>\n",
                            "      <td>4</td>\n",
                            "      <td>80.19</td>\n",
                            "    </tr>\n",
                            "    <tr>\n",
                            "      <th>5</th>\n",
                            "      <td>2815</td>\n",
                            "      <td>23.1</td>\n",
                            "      <td>6.7</td>\n",
                            "      <td>7340</td>\n",
                            "      <td>16941</td>\n",
                            "      <td>68.3</td>\n",
                            "      <td>1541.9</td>\n",
                            "      <td>25663</td>\n",
                            "      <td>3</td>\n",
                            "      <td>58.48</td>\n",
                            "    </tr>\n",
                            "    <tr>\n",
                            "      <th>6</th>\n",
                            "      <td>8360</td>\n",
                            "      <td>46.3</td>\n",
                            "      <td>8.2</td>\n",
                            "      <td>4047</td>\n",
                            "      <td>14347</td>\n",
                            "      <td>53.6</td>\n",
                            "      <td>1321.2</td>\n",
                            "      <td>18350</td>\n",
                            "      <td>3</td>\n",
                            "      <td>72.25</td>\n",
                            "    </tr>\n",
                            "    <tr>\n",
                            "      <th>7</th>\n",
                            "      <td>6794</td>\n",
                            "      <td>60.1</td>\n",
                            "      <td>6.3</td>\n",
                            "      <td>4562</td>\n",
                            "      <td>14333</td>\n",
                            "      <td>51.7</td>\n",
                            "      <td>1272.7</td>\n",
                            "      <td>18221</td>\n",
                            "      <td>3</td>\n",
                            "      <td>64.88</td>\n",
                            "    </tr>\n",
                            "    <tr>\n",
                            "      <th>8</th>\n",
                            "      <td>3049</td>\n",
                            "      <td>19.5</td>\n",
                            "      <td>12.1</td>\n",
                            "      <td>4005</td>\n",
                            "      <td>21149</td>\n",
                            "      <td>53.4</td>\n",
                            "      <td>967.5</td>\n",
                            "      <td>15826</td>\n",
                            "      <td>1</td>\n",
                            "      <td>30.51</td>\n",
                            "    </tr>\n",
                            "    <tr>\n",
                            "      <th>9</th>\n",
                            "      <td>4647</td>\n",
                            "      <td>31.5</td>\n",
                            "      <td>9.2</td>\n",
                            "      <td>3916</td>\n",
                            "      <td>12815</td>\n",
                            "      <td>65.1</td>\n",
                            "      <td>1032.2</td>\n",
                            "      <td>14542</td>\n",
                            "      <td>2</td>\n",
                            "      <td>55.30</td>\n",
                            "    </tr>\n",
                            "    <tr>\n",
                            "      <th>10</th>\n",
                            "      <td>1008</td>\n",
                            "      <td>16.6</td>\n",
                            "      <td>10.3</td>\n",
                            "      <td>4006</td>\n",
                            "      <td>16704</td>\n",
                            "      <td>55.9</td>\n",
                            "      <td>935.5</td>\n",
                            "      <td>15953</td>\n",
                            "      <td>1</td>\n",
                            "      <td>54.16</td>\n",
                            "    </tr>\n",
                            "  </tbody>\n",
                            "</table>\n",
                            "</div>"
                        ],
                        "text/plain": [
                            "    land_area  percent_city  percent_senior  physicians  hospital_beds  \\\n",
                            "0        1384          78.1            12.3       25627          69678   \n",
                            "1        3719          43.9             9.4       13326          43292   \n",
                            "2        3553          37.4            10.7        9724          33731   \n",
                            "3        3916          29.9             8.8        6402          24167   \n",
                            "4        2480          31.5            10.5        8502          16751   \n",
                            "5        2815          23.1             6.7        7340          16941   \n",
                            "6        8360          46.3             8.2        4047          14347   \n",
                            "7        6794          60.1             6.3        4562          14333   \n",
                            "8        3049          19.5            12.1        4005          21149   \n",
                            "9        4647          31.5             9.2        3916          12815   \n",
                            "10       1008          16.6            10.3        4006          16704   \n",
                            "\n",
                            "    graduates  work_force  income  region  crime_rate  \n",
                            "0        50.1      4083.9   72100       1       75.55  \n",
                            "1        53.9      3305.9   54542       2       56.03  \n",
                            "2        50.6      2066.3   33216       1       41.32  \n",
                            "3        52.2      1966.7   32906       2       67.38  \n",
                            "4        66.1      1514.5   26573       4       80.19  \n",
                            "5        68.3      1541.9   25663       3       58.48  \n",
                            "6        53.6      1321.2   18350       3       72.25  \n",
                            "7        51.7      1272.7   18221       3       64.88  \n",
                            "8        53.4       967.5   15826       1       30.51  \n",
                            "9        65.1      1032.2   14542       2       55.30  \n",
                            "10       55.9       935.5   15953       1       54.16  "
                        ]
                    },
                    "execution_count": 71,
                    "metadata": {},
                    "output_type": "execute_result"
                }
            ],
            "source": [
                "dphi.head(11)"
            ]
        },
        {
            "cell_type": "code",
            "execution_count": 72,
            "metadata": {},
            "outputs": [
                {
                    "data": {
                        "text/html": [
                            "<div>\n",
                            "<style scoped>\n",
                            "    .dataframe tbody tr th:only-of-type {\n",
                            "        vertical-align: middle;\n",
                            "    }\n",
                            "\n",
                            "    .dataframe tbody tr th {\n",
                            "        vertical-align: top;\n",
                            "    }\n",
                            "\n",
                            "    .dataframe thead th {\n",
                            "        text-align: right;\n",
                            "    }\n",
                            "</style>\n",
                            "<table border=\"1\" class=\"dataframe\">\n",
                            "  <thead>\n",
                            "    <tr style=\"text-align: right;\">\n",
                            "      <th></th>\n",
                            "      <th>land_area</th>\n",
                            "      <th>percent_city</th>\n",
                            "      <th>percent_senior</th>\n",
                            "      <th>physicians</th>\n",
                            "      <th>hospital_beds</th>\n",
                            "      <th>graduates</th>\n",
                            "      <th>work_force</th>\n",
                            "      <th>income</th>\n",
                            "      <th>region</th>\n",
                            "      <th>crime_rate</th>\n",
                            "    </tr>\n",
                            "  </thead>\n",
                            "  <tbody>\n",
                            "    <tr>\n",
                            "      <th>97</th>\n",
                            "      <td>813</td>\n",
                            "      <td>13.4</td>\n",
                            "      <td>10.9</td>\n",
                            "      <td>371</td>\n",
                            "      <td>4355</td>\n",
                            "      <td>58.0</td>\n",
                            "      <td>97.0</td>\n",
                            "      <td>1589</td>\n",
                            "      <td>1</td>\n",
                            "      <td>36.33</td>\n",
                            "    </tr>\n",
                            "    <tr>\n",
                            "      <th>98</th>\n",
                            "      <td>654</td>\n",
                            "      <td>28.8</td>\n",
                            "      <td>3.9</td>\n",
                            "      <td>140</td>\n",
                            "      <td>1296</td>\n",
                            "      <td>55.1</td>\n",
                            "      <td>66.9</td>\n",
                            "      <td>1148</td>\n",
                            "      <td>3</td>\n",
                            "      <td>68.76</td>\n",
                            "    </tr>\n",
                            "  </tbody>\n",
                            "</table>\n",
                            "</div>"
                        ],
                        "text/plain": [
                            "    land_area  percent_city  percent_senior  physicians  hospital_beds  \\\n",
                            "97        813          13.4            10.9         371           4355   \n",
                            "98        654          28.8             3.9         140           1296   \n",
                            "\n",
                            "    graduates  work_force  income  region  crime_rate  \n",
                            "97       58.0        97.0    1589       1       36.33  \n",
                            "98       55.1        66.9    1148       3       68.76  "
                        ]
                    },
                    "execution_count": 72,
                    "metadata": {},
                    "output_type": "execute_result"
                }
            ],
            "source": [
                "dphi.tail(2)\n"
            ]
        },
        {
            "cell_type": "code",
            "execution_count": 76,
            "metadata": {},
            "outputs": [
                {
                    "data": {
                        "text/html": [
                            "<div>\n",
                            "<style scoped>\n",
                            "    .dataframe tbody tr th:only-of-type {\n",
                            "        vertical-align: middle;\n",
                            "    }\n",
                            "\n",
                            "    .dataframe tbody tr th {\n",
                            "        vertical-align: top;\n",
                            "    }\n",
                            "\n",
                            "    .dataframe thead th {\n",
                            "        text-align: right;\n",
                            "    }\n",
                            "</style>\n",
                            "<table border=\"1\" class=\"dataframe\">\n",
                            "  <thead>\n",
                            "    <tr style=\"text-align: right;\">\n",
                            "      <th></th>\n",
                            "      <th>land_area</th>\n",
                            "      <th>work_force</th>\n",
                            "      <th>income</th>\n",
                            "      <th>region</th>\n",
                            "      <th>crime_rate</th>\n",
                            "    </tr>\n",
                            "  </thead>\n",
                            "  <tbody>\n",
                            "    <tr>\n",
                            "      <th>1</th>\n",
                            "      <td>3719</td>\n",
                            "      <td>3305.9</td>\n",
                            "      <td>54542</td>\n",
                            "      <td>2</td>\n",
                            "      <td>56.03</td>\n",
                            "    </tr>\n",
                            "    <tr>\n",
                            "      <th>3</th>\n",
                            "      <td>3916</td>\n",
                            "      <td>1966.7</td>\n",
                            "      <td>32906</td>\n",
                            "      <td>2</td>\n",
                            "      <td>67.38</td>\n",
                            "    </tr>\n",
                            "    <tr>\n",
                            "      <th>5</th>\n",
                            "      <td>2815</td>\n",
                            "      <td>1541.9</td>\n",
                            "      <td>25663</td>\n",
                            "      <td>3</td>\n",
                            "      <td>58.48</td>\n",
                            "    </tr>\n",
                            "    <tr>\n",
                            "      <th>7</th>\n",
                            "      <td>6794</td>\n",
                            "      <td>1272.7</td>\n",
                            "      <td>18221</td>\n",
                            "      <td>3</td>\n",
                            "      <td>64.88</td>\n",
                            "    </tr>\n",
                            "    <tr>\n",
                            "      <th>9</th>\n",
                            "      <td>4647</td>\n",
                            "      <td>1032.2</td>\n",
                            "      <td>14542</td>\n",
                            "      <td>2</td>\n",
                            "      <td>55.30</td>\n",
                            "    </tr>\n",
                            "    <tr>\n",
                            "      <th>13</th>\n",
                            "      <td>782</td>\n",
                            "      <td>915.2</td>\n",
                            "      <td>12591</td>\n",
                            "      <td>4</td>\n",
                            "      <td>63.20</td>\n",
                            "    </tr>\n",
                            "  </tbody>\n",
                            "</table>\n",
                            "</div>"
                        ],
                        "text/plain": [
                            "    land_area  work_force  income  region  crime_rate\n",
                            "1        3719      3305.9   54542       2       56.03\n",
                            "3        3916      1966.7   32906       2       67.38\n",
                            "5        2815      1541.9   25663       3       58.48\n",
                            "7        6794      1272.7   18221       3       64.88\n",
                            "9        4647      1032.2   14542       2       55.30\n",
                            "13        782       915.2   12591       4       63.20"
                        ]
                    },
                    "execution_count": 76,
                    "metadata": {},
                    "output_type": "execute_result"
                }
            ],
            "source": [
                "sample1 = dphi.iloc[[1,3,5,7,9,13],[0,-4,-3,-2,-1]]\n",
                "sample1"
            ]
        },
        {
            "cell_type": "code",
            "execution_count": 82,
            "metadata": {},
            "outputs": [
                {
                    "data": {
                        "text/plain": [
                            "[0     False\n",
                            " 1      True\n",
                            " 2     False\n",
                            " 3      True\n",
                            " 4     False\n",
                            "       ...  \n",
                            " 94    False\n",
                            " 95    False\n",
                            " 96    False\n",
                            " 97    False\n",
                            " 98    False\n",
                            " Name: region, Length: 99, dtype: bool]"
                        ]
                    },
                    "execution_count": 82,
                    "metadata": {},
                    "output_type": "execute_result"
                }
            ],
            "source": [
                "sample2 = [dphi['region'] == 2]\n",
                "sample2"
            ]
        },
        {
            "cell_type": "code",
            "execution_count": 84,
            "metadata": {},
            "outputs": [
                {
                    "data": {
                        "text/plain": [
                            "3    36\n",
                            "2    25\n",
                            "1    21\n",
                            "4    17\n",
                            "Name: region, dtype: int64"
                        ]
                    },
                    "execution_count": 84,
                    "metadata": {},
                    "output_type": "execute_result"
                }
            ],
            "source": [
                "# this counts number of occurances in a column\n",
                "dphi['region'].value_counts()"
            ]
        },
        {
            "cell_type": "code",
            "execution_count": 85,
            "metadata": {},
            "outputs": [
                {
                    "data": {
                        "text/plain": [
                            "4    17\n",
                            "1    21\n",
                            "2    25\n",
                            "3    36\n",
                            "Name: region, dtype: int64"
                        ]
                    },
                    "execution_count": 85,
                    "metadata": {},
                    "output_type": "execute_result"
                }
            ],
            "source": [
                "# pandas count unique values ascending:\n",
                "dphi['region'].value_counts(ascending= True)\n"
            ]
        },
        {
            "cell_type": "code",
            "execution_count": 94,
            "metadata": {},
            "outputs": [
                {
                    "data": {
                        "text/plain": [
                            "498"
                        ]
                    },
                    "execution_count": 94,
                    "metadata": {},
                    "output_type": "execute_result"
                }
            ],
            "source": [
                "# Count occurences of certain value (i.e. male) in a column (i.e., gender)\n",
                "df.gender.value_counts().male"
            ]
        },
        {
            "cell_type": "code",
            "execution_count": 86,
            "metadata": {},
            "outputs": [
                {
                    "data": {
                        "text/plain": [
                            "3    36\n",
                            "2    25\n",
                            "1    21\n",
                            "4    17\n",
                            "Name: region, dtype: int64"
                        ]
                    },
                    "execution_count": 86,
                    "metadata": {},
                    "output_type": "execute_result"
                }
            ],
            "source": [
                "# Counting occurences as well as missing values:\n",
                "dphi['region'].value_counts(dropna= False)\n"
            ]
        },
        {
            "cell_type": "code",
            "execution_count": 87,
            "metadata": {},
            "outputs": [
                {
                    "data": {
                        "text/plain": [
                            "count    99.000000\n",
                            "mean      2.494949\n",
                            "std       1.013921\n",
                            "min       1.000000\n",
                            "25%       2.000000\n",
                            "50%       3.000000\n",
                            "75%       3.000000\n",
                            "max       4.000000\n",
                            "Name: region, dtype: float64"
                        ]
                    },
                    "execution_count": 87,
                    "metadata": {},
                    "output_type": "execute_result"
                }
            ],
            "source": [
                "#  descriptive statistics of the column by using the describe() method:\n",
                "dphi['region'].describe()\n"
            ]
        },
        {
            "cell_type": "code",
            "execution_count": 107,
            "metadata": {},
            "outputs": [
                {
                    "data": {
                        "text/plain": [
                            "land_area         2615.727273\n",
                            "percent_city        42.518182\n",
                            "percent_senior       9.781818\n",
                            "physicians        1828.333333\n",
                            "hospital_beds     6345.868687\n",
                            "graduates           54.463636\n",
                            "work_force         449.366667\n",
                            "income            6762.505051\n",
                            "region               2.494949\n",
                            "crime_rate          55.643030\n",
                            "dtype: float64"
                        ]
                    },
                    "execution_count": 107,
                    "metadata": {},
                    "output_type": "execute_result"
                }
            ],
            "source": [
                "dphi.mean()"
            ]
        },
        {
            "cell_type": "code",
            "execution_count": 108,
            "metadata": {},
            "outputs": [
                {
                    "data": {
                        "text/plain": [
                            "array([1, 2, 4, 3], dtype=int64)"
                        ]
                    },
                    "execution_count": 108,
                    "metadata": {},
                    "output_type": "execute_result"
                }
            ],
            "source": [
                "dphi.region.unique()"
            ]
        },
        {
            "cell_type": "code",
            "execution_count": 114,
            "metadata": {},
            "outputs": [
                {
                    "data": {
                        "text/html": [
                            "<div>\n",
                            "<style scoped>\n",
                            "    .dataframe tbody tr th:only-of-type {\n",
                            "        vertical-align: middle;\n",
                            "    }\n",
                            "\n",
                            "    .dataframe tbody tr th {\n",
                            "        vertical-align: top;\n",
                            "    }\n",
                            "\n",
                            "    .dataframe thead th {\n",
                            "        text-align: right;\n",
                            "    }\n",
                            "</style>\n",
                            "<table border=\"1\" class=\"dataframe\">\n",
                            "  <thead>\n",
                            "    <tr style=\"text-align: right;\">\n",
                            "      <th></th>\n",
                            "      <th>land_area</th>\n",
                            "      <th>percent_city</th>\n",
                            "      <th>percent_senior</th>\n",
                            "      <th>physicians</th>\n",
                            "      <th>hospital_beds</th>\n",
                            "      <th>graduates</th>\n",
                            "      <th>work_force</th>\n",
                            "      <th>income</th>\n",
                            "      <th>region</th>\n",
                            "      <th>crime_rate</th>\n",
                            "    </tr>\n",
                            "  </thead>\n",
                            "  <tbody>\n",
                            "    <tr>\n",
                            "      <th>count</th>\n",
                            "      <td>99.000000</td>\n",
                            "      <td>99.000000</td>\n",
                            "      <td>99.000000</td>\n",
                            "      <td>99.000000</td>\n",
                            "      <td>99.000000</td>\n",
                            "      <td>99.000000</td>\n",
                            "      <td>99.000000</td>\n",
                            "      <td>99.000000</td>\n",
                            "      <td>99.000000</td>\n",
                            "      <td>99.000000</td>\n",
                            "    </tr>\n",
                            "    <tr>\n",
                            "      <th>mean</th>\n",
                            "      <td>2615.727273</td>\n",
                            "      <td>42.518182</td>\n",
                            "      <td>9.781818</td>\n",
                            "      <td>1828.333333</td>\n",
                            "      <td>6345.868687</td>\n",
                            "      <td>54.463636</td>\n",
                            "      <td>449.366667</td>\n",
                            "      <td>6762.505051</td>\n",
                            "      <td>2.494949</td>\n",
                            "      <td>55.643030</td>\n",
                            "    </tr>\n",
                            "    <tr>\n",
                            "      <th>std</th>\n",
                            "      <td>3045.826210</td>\n",
                            "      <td>17.348277</td>\n",
                            "      <td>2.524547</td>\n",
                            "      <td>3192.199763</td>\n",
                            "      <td>9136.202716</td>\n",
                            "      <td>7.773286</td>\n",
                            "      <td>610.990885</td>\n",
                            "      <td>10393.349660</td>\n",
                            "      <td>1.013921</td>\n",
                            "      <td>13.470943</td>\n",
                            "    </tr>\n",
                            "    <tr>\n",
                            "      <th>min</th>\n",
                            "      <td>47.000000</td>\n",
                            "      <td>13.400000</td>\n",
                            "      <td>3.900000</td>\n",
                            "      <td>140.000000</td>\n",
                            "      <td>481.000000</td>\n",
                            "      <td>30.300000</td>\n",
                            "      <td>66.900000</td>\n",
                            "      <td>769.000000</td>\n",
                            "      <td>1.000000</td>\n",
                            "      <td>23.320000</td>\n",
                            "    </tr>\n",
                            "    <tr>\n",
                            "      <th>25%</th>\n",
                            "      <td>1408.000000</td>\n",
                            "      <td>30.100000</td>\n",
                            "      <td>8.350000</td>\n",
                            "      <td>459.000000</td>\n",
                            "      <td>2390.000000</td>\n",
                            "      <td>50.250000</td>\n",
                            "      <td>150.300000</td>\n",
                            "      <td>2003.000000</td>\n",
                            "      <td>2.000000</td>\n",
                            "      <td>46.115000</td>\n",
                            "    </tr>\n",
                            "    <tr>\n",
                            "      <th>50%</th>\n",
                            "      <td>1951.000000</td>\n",
                            "      <td>39.500000</td>\n",
                            "      <td>9.700000</td>\n",
                            "      <td>774.000000</td>\n",
                            "      <td>3472.000000</td>\n",
                            "      <td>54.000000</td>\n",
                            "      <td>257.200000</td>\n",
                            "      <td>3510.000000</td>\n",
                            "      <td>3.000000</td>\n",
                            "      <td>56.060000</td>\n",
                            "    </tr>\n",
                            "    <tr>\n",
                            "      <th>75%</th>\n",
                            "      <td>2890.500000</td>\n",
                            "      <td>52.600000</td>\n",
                            "      <td>10.750000</td>\n",
                            "      <td>1911.500000</td>\n",
                            "      <td>6386.500000</td>\n",
                            "      <td>58.300000</td>\n",
                            "      <td>436.500000</td>\n",
                            "      <td>6283.500000</td>\n",
                            "      <td>3.000000</td>\n",
                            "      <td>63.860000</td>\n",
                            "    </tr>\n",
                            "    <tr>\n",
                            "      <th>max</th>\n",
                            "      <td>27293.000000</td>\n",
                            "      <td>100.000000</td>\n",
                            "      <td>21.800000</td>\n",
                            "      <td>25627.000000</td>\n",
                            "      <td>69678.000000</td>\n",
                            "      <td>72.800000</td>\n",
                            "      <td>4083.900000</td>\n",
                            "      <td>72100.000000</td>\n",
                            "      <td>4.000000</td>\n",
                            "      <td>85.620000</td>\n",
                            "    </tr>\n",
                            "  </tbody>\n",
                            "</table>\n",
                            "</div>"
                        ],
                        "text/plain": [
                            "          land_area  percent_city  percent_senior    physicians  \\\n",
                            "count     99.000000     99.000000       99.000000     99.000000   \n",
                            "mean    2615.727273     42.518182        9.781818   1828.333333   \n",
                            "std     3045.826210     17.348277        2.524547   3192.199763   \n",
                            "min       47.000000     13.400000        3.900000    140.000000   \n",
                            "25%     1408.000000     30.100000        8.350000    459.000000   \n",
                            "50%     1951.000000     39.500000        9.700000    774.000000   \n",
                            "75%     2890.500000     52.600000       10.750000   1911.500000   \n",
                            "max    27293.000000    100.000000       21.800000  25627.000000   \n",
                            "\n",
                            "       hospital_beds  graduates   work_force        income     region  \\\n",
                            "count      99.000000  99.000000    99.000000     99.000000  99.000000   \n",
                            "mean     6345.868687  54.463636   449.366667   6762.505051   2.494949   \n",
                            "std      9136.202716   7.773286   610.990885  10393.349660   1.013921   \n",
                            "min       481.000000  30.300000    66.900000    769.000000   1.000000   \n",
                            "25%      2390.000000  50.250000   150.300000   2003.000000   2.000000   \n",
                            "50%      3472.000000  54.000000   257.200000   3510.000000   3.000000   \n",
                            "75%      6386.500000  58.300000   436.500000   6283.500000   3.000000   \n",
                            "max     69678.000000  72.800000  4083.900000  72100.000000   4.000000   \n",
                            "\n",
                            "       crime_rate  \n",
                            "count   99.000000  \n",
                            "mean    55.643030  \n",
                            "std     13.470943  \n",
                            "min     23.320000  \n",
                            "25%     46.115000  \n",
                            "50%     56.060000  \n",
                            "75%     63.860000  \n",
                            "max     85.620000  "
                        ]
                    },
                    "execution_count": 114,
                    "metadata": {},
                    "output_type": "execute_result"
                }
            ],
            "source": [
                "dphi.describe()"
            ]
        },
        {
            "cell_type": "code",
            "execution_count": 116,
            "metadata": {},
            "outputs": [
                {
                    "data": {
                        "text/plain": [
                            "1951.0"
                        ]
                    },
                    "execution_count": 116,
                    "metadata": {},
                    "output_type": "execute_result"
                }
            ],
            "source": [
                "dphi.land_area.median()"
            ]
        },
        {
            "cell_type": "code",
            "execution_count": 119,
            "metadata": {},
            "outputs": [
                {
                    "data": {
                        "text/plain": [
                            "136.9    2\n",
                            "131.2    1\n",
                            "171.4    1\n",
                            "163.8    1\n",
                            "146.4    1\n",
                            "        ..\n",
                            "401.7    1\n",
                            "355.4    1\n",
                            "356.5    1\n",
                            "359.1    1\n",
                            "66.9     1\n",
                            "Name: work_force, Length: 98, dtype: int64"
                        ]
                    },
                    "execution_count": 119,
                    "metadata": {},
                    "output_type": "execute_result"
                }
            ],
            "source": [
                "dphi.work_force.value_counts()"
            ]
        },
        {
            "cell_type": "code",
            "execution_count": 121,
            "metadata": {},
            "outputs": [
                {
                    "data": {
                        "text/plain": [
                            "3    36\n",
                            "2    25\n",
                            "1    21\n",
                            "4    17\n",
                            "Name: region, dtype: int64"
                        ]
                    },
                    "execution_count": 121,
                    "metadata": {},
                    "output_type": "execute_result"
                }
            ],
            "source": [
                "dphi.region.value_counts()\n"
            ]
        },
        {
            "cell_type": "code",
            "execution_count": 122,
            "metadata": {},
            "outputs": [
                {
                    "data": {
                        "text/plain": [
                            "55.6430303030303"
                        ]
                    },
                    "execution_count": 122,
                    "metadata": {},
                    "output_type": "execute_result"
                }
            ],
            "source": [
                "dphi.crime_rate.mean()"
            ]
        },
        {
            "cell_type": "code",
            "execution_count": 127,
            "metadata": {},
            "outputs": [
                {
                    "data": {
                        "text/html": [
                            "<div>\n",
                            "<style scoped>\n",
                            "    .dataframe tbody tr th:only-of-type {\n",
                            "        vertical-align: middle;\n",
                            "    }\n",
                            "\n",
                            "    .dataframe tbody tr th {\n",
                            "        vertical-align: top;\n",
                            "    }\n",
                            "\n",
                            "    .dataframe thead th {\n",
                            "        text-align: right;\n",
                            "    }\n",
                            "</style>\n",
                            "<table border=\"1\" class=\"dataframe\">\n",
                            "  <thead>\n",
                            "    <tr style=\"text-align: right;\">\n",
                            "      <th></th>\n",
                            "      <th>land_area</th>\n",
                            "      <th>percent_city</th>\n",
                            "      <th>percent_senior</th>\n",
                            "      <th>physicians</th>\n",
                            "      <th>hospital_beds</th>\n",
                            "      <th>graduates</th>\n",
                            "      <th>work_force</th>\n",
                            "      <th>income</th>\n",
                            "      <th>region</th>\n",
                            "      <th>crime_rate</th>\n",
                            "    </tr>\n",
                            "  </thead>\n",
                            "  <tbody>\n",
                            "    <tr>\n",
                            "      <th>20</th>\n",
                            "      <td>9155</td>\n",
                            "      <td>53.8</td>\n",
                            "      <td>11.1</td>\n",
                            "      <td>2280</td>\n",
                            "      <td>6450</td>\n",
                            "      <td>60.1</td>\n",
                            "      <td>575.2</td>\n",
                            "      <td>7766</td>\n",
                            "      <td>4</td>\n",
                            "      <td>85.62</td>\n",
                            "    </tr>\n",
                            "    <tr>\n",
                            "      <th>74</th>\n",
                            "      <td>1412</td>\n",
                            "      <td>39.2</td>\n",
                            "      <td>11.3</td>\n",
                            "      <td>436</td>\n",
                            "      <td>1837</td>\n",
                            "      <td>49.4</td>\n",
                            "      <td>154.2</td>\n",
                            "      <td>2098</td>\n",
                            "      <td>4</td>\n",
                            "      <td>82.68</td>\n",
                            "    </tr>\n",
                            "    <tr>\n",
                            "      <th>53</th>\n",
                            "      <td>5966</td>\n",
                            "      <td>39.5</td>\n",
                            "      <td>9.6</td>\n",
                            "      <td>737</td>\n",
                            "      <td>1907</td>\n",
                            "      <td>52.7</td>\n",
                            "      <td>246.6</td>\n",
                            "      <td>3007</td>\n",
                            "      <td>4</td>\n",
                            "      <td>80.94</td>\n",
                            "    </tr>\n",
                            "    <tr>\n",
                            "      <th>4</th>\n",
                            "      <td>2480</td>\n",
                            "      <td>31.5</td>\n",
                            "      <td>10.5</td>\n",
                            "      <td>8502</td>\n",
                            "      <td>16751</td>\n",
                            "      <td>66.1</td>\n",
                            "      <td>1514.5</td>\n",
                            "      <td>26573</td>\n",
                            "      <td>4</td>\n",
                            "      <td>80.19</td>\n",
                            "    </tr>\n",
                            "    <tr>\n",
                            "      <th>67</th>\n",
                            "      <td>8152</td>\n",
                            "      <td>22.3</td>\n",
                            "      <td>9.1</td>\n",
                            "      <td>405</td>\n",
                            "      <td>1254</td>\n",
                            "      <td>51.7</td>\n",
                            "      <td>165.6</td>\n",
                            "      <td>2257</td>\n",
                            "      <td>4</td>\n",
                            "      <td>78.10</td>\n",
                            "    </tr>\n",
                            "  </tbody>\n",
                            "</table>\n",
                            "</div>"
                        ],
                        "text/plain": [
                            "    land_area  percent_city  percent_senior  physicians  hospital_beds  \\\n",
                            "20       9155          53.8            11.1        2280           6450   \n",
                            "74       1412          39.2            11.3         436           1837   \n",
                            "53       5966          39.5             9.6         737           1907   \n",
                            "4        2480          31.5            10.5        8502          16751   \n",
                            "67       8152          22.3             9.1         405           1254   \n",
                            "\n",
                            "    graduates  work_force  income  region  crime_rate  \n",
                            "20       60.1       575.2    7766       4       85.62  \n",
                            "74       49.4       154.2    2098       4       82.68  \n",
                            "53       52.7       246.6    3007       4       80.94  \n",
                            "4        66.1      1514.5   26573       4       80.19  \n",
                            "67       51.7       165.6    2257       4       78.10  "
                        ]
                    },
                    "execution_count": 127,
                    "metadata": {},
                    "output_type": "execute_result"
                }
            ],
            "source": [
                "dphi.sort_values(by= 'crime_rate', ascending= False).head()"
            ]
        },
        {
            "cell_type": "code",
            "execution_count": 128,
            "metadata": {},
            "outputs": [],
            "source": [
                "dphi.rename(columns= {'physicians': 'num_physicians'}, inplace=True)"
            ]
        },
        {
            "cell_type": "code",
            "execution_count": 129,
            "metadata": {},
            "outputs": [
                {
                    "data": {
                        "text/html": [
                            "<div>\n",
                            "<style scoped>\n",
                            "    .dataframe tbody tr th:only-of-type {\n",
                            "        vertical-align: middle;\n",
                            "    }\n",
                            "\n",
                            "    .dataframe tbody tr th {\n",
                            "        vertical-align: top;\n",
                            "    }\n",
                            "\n",
                            "    .dataframe thead th {\n",
                            "        text-align: right;\n",
                            "    }\n",
                            "</style>\n",
                            "<table border=\"1\" class=\"dataframe\">\n",
                            "  <thead>\n",
                            "    <tr style=\"text-align: right;\">\n",
                            "      <th></th>\n",
                            "      <th>land_area</th>\n",
                            "      <th>percent_city</th>\n",
                            "      <th>percent_senior</th>\n",
                            "      <th>num_physicians</th>\n",
                            "      <th>hospital_beds</th>\n",
                            "      <th>graduates</th>\n",
                            "      <th>work_force</th>\n",
                            "      <th>income</th>\n",
                            "      <th>region</th>\n",
                            "      <th>crime_rate</th>\n",
                            "    </tr>\n",
                            "  </thead>\n",
                            "  <tbody>\n",
                            "    <tr>\n",
                            "      <th>0</th>\n",
                            "      <td>1384</td>\n",
                            "      <td>78.1</td>\n",
                            "      <td>12.3</td>\n",
                            "      <td>25627</td>\n",
                            "      <td>69678</td>\n",
                            "      <td>50.1</td>\n",
                            "      <td>4083.9</td>\n",
                            "      <td>72100</td>\n",
                            "      <td>1</td>\n",
                            "      <td>75.55</td>\n",
                            "    </tr>\n",
                            "    <tr>\n",
                            "      <th>1</th>\n",
                            "      <td>3719</td>\n",
                            "      <td>43.9</td>\n",
                            "      <td>9.4</td>\n",
                            "      <td>13326</td>\n",
                            "      <td>43292</td>\n",
                            "      <td>53.9</td>\n",
                            "      <td>3305.9</td>\n",
                            "      <td>54542</td>\n",
                            "      <td>2</td>\n",
                            "      <td>56.03</td>\n",
                            "    </tr>\n",
                            "    <tr>\n",
                            "      <th>2</th>\n",
                            "      <td>3553</td>\n",
                            "      <td>37.4</td>\n",
                            "      <td>10.7</td>\n",
                            "      <td>9724</td>\n",
                            "      <td>33731</td>\n",
                            "      <td>50.6</td>\n",
                            "      <td>2066.3</td>\n",
                            "      <td>33216</td>\n",
                            "      <td>1</td>\n",
                            "      <td>41.32</td>\n",
                            "    </tr>\n",
                            "    <tr>\n",
                            "      <th>3</th>\n",
                            "      <td>3916</td>\n",
                            "      <td>29.9</td>\n",
                            "      <td>8.8</td>\n",
                            "      <td>6402</td>\n",
                            "      <td>24167</td>\n",
                            "      <td>52.2</td>\n",
                            "      <td>1966.7</td>\n",
                            "      <td>32906</td>\n",
                            "      <td>2</td>\n",
                            "      <td>67.38</td>\n",
                            "    </tr>\n",
                            "    <tr>\n",
                            "      <th>4</th>\n",
                            "      <td>2480</td>\n",
                            "      <td>31.5</td>\n",
                            "      <td>10.5</td>\n",
                            "      <td>8502</td>\n",
                            "      <td>16751</td>\n",
                            "      <td>66.1</td>\n",
                            "      <td>1514.5</td>\n",
                            "      <td>26573</td>\n",
                            "      <td>4</td>\n",
                            "      <td>80.19</td>\n",
                            "    </tr>\n",
                            "  </tbody>\n",
                            "</table>\n",
                            "</div>"
                        ],
                        "text/plain": [
                            "   land_area  percent_city  percent_senior  num_physicians  hospital_beds  \\\n",
                            "0       1384          78.1            12.3           25627          69678   \n",
                            "1       3719          43.9             9.4           13326          43292   \n",
                            "2       3553          37.4            10.7            9724          33731   \n",
                            "3       3916          29.9             8.8            6402          24167   \n",
                            "4       2480          31.5            10.5            8502          16751   \n",
                            "\n",
                            "   graduates  work_force  income  region  crime_rate  \n",
                            "0       50.1      4083.9   72100       1       75.55  \n",
                            "1       53.9      3305.9   54542       2       56.03  \n",
                            "2       50.6      2066.3   33216       1       41.32  \n",
                            "3       52.2      1966.7   32906       2       67.38  \n",
                            "4       66.1      1514.5   26573       4       80.19  "
                        ]
                    },
                    "execution_count": 129,
                    "metadata": {},
                    "output_type": "execute_result"
                }
            ],
            "source": [
                "dphi.head()"
            ]
        },
        {
            "cell_type": "code",
            "execution_count": 146,
            "metadata": {},
            "outputs": [
                {
                    "data": {
                        "text/html": [
                            "<div>\n",
                            "<style scoped>\n",
                            "    .dataframe tbody tr th:only-of-type {\n",
                            "        vertical-align: middle;\n",
                            "    }\n",
                            "\n",
                            "    .dataframe tbody tr th {\n",
                            "        vertical-align: top;\n",
                            "    }\n",
                            "\n",
                            "    .dataframe thead th {\n",
                            "        text-align: right;\n",
                            "    }\n",
                            "</style>\n",
                            "<table border=\"1\" class=\"dataframe\">\n",
                            "  <thead>\n",
                            "    <tr style=\"text-align: right;\">\n",
                            "      <th></th>\n",
                            "      <th>PassengerId</th>\n",
                            "      <th>Survived</th>\n",
                            "      <th>Pclass</th>\n",
                            "      <th>Name</th>\n",
                            "      <th>Sex</th>\n",
                            "      <th>Age</th>\n",
                            "      <th>SibSp</th>\n",
                            "      <th>Parch</th>\n",
                            "      <th>Ticket</th>\n",
                            "      <th>Fare</th>\n",
                            "      <th>Cabin</th>\n",
                            "      <th>Embarked</th>\n",
                            "    </tr>\n",
                            "  </thead>\n",
                            "  <tbody>\n",
                            "    <tr>\n",
                            "      <th>0</th>\n",
                            "      <td>1</td>\n",
                            "      <td>0</td>\n",
                            "      <td>3</td>\n",
                            "      <td>Braund, Mr. Owen Harris</td>\n",
                            "      <td>male</td>\n",
                            "      <td>22.0</td>\n",
                            "      <td>1</td>\n",
                            "      <td>0</td>\n",
                            "      <td>A/5 21171</td>\n",
                            "      <td>7.2500</td>\n",
                            "      <td>NaN</td>\n",
                            "      <td>S</td>\n",
                            "    </tr>\n",
                            "    <tr>\n",
                            "      <th>1</th>\n",
                            "      <td>2</td>\n",
                            "      <td>1</td>\n",
                            "      <td>1</td>\n",
                            "      <td>Cumings, Mrs. John Bradley (Florence Briggs Th...</td>\n",
                            "      <td>female</td>\n",
                            "      <td>38.0</td>\n",
                            "      <td>1</td>\n",
                            "      <td>0</td>\n",
                            "      <td>PC 17599</td>\n",
                            "      <td>71.2833</td>\n",
                            "      <td>C85</td>\n",
                            "      <td>C</td>\n",
                            "    </tr>\n",
                            "    <tr>\n",
                            "      <th>2</th>\n",
                            "      <td>3</td>\n",
                            "      <td>1</td>\n",
                            "      <td>3</td>\n",
                            "      <td>Heikkinen, Miss. Laina</td>\n",
                            "      <td>female</td>\n",
                            "      <td>26.0</td>\n",
                            "      <td>0</td>\n",
                            "      <td>0</td>\n",
                            "      <td>STON/O2. 3101282</td>\n",
                            "      <td>7.9250</td>\n",
                            "      <td>NaN</td>\n",
                            "      <td>S</td>\n",
                            "    </tr>\n",
                            "    <tr>\n",
                            "      <th>3</th>\n",
                            "      <td>4</td>\n",
                            "      <td>1</td>\n",
                            "      <td>1</td>\n",
                            "      <td>Futrelle, Mrs. Jacques Heath (Lily May Peel)</td>\n",
                            "      <td>female</td>\n",
                            "      <td>35.0</td>\n",
                            "      <td>1</td>\n",
                            "      <td>0</td>\n",
                            "      <td>113803</td>\n",
                            "      <td>53.1000</td>\n",
                            "      <td>C123</td>\n",
                            "      <td>S</td>\n",
                            "    </tr>\n",
                            "    <tr>\n",
                            "      <th>4</th>\n",
                            "      <td>5</td>\n",
                            "      <td>0</td>\n",
                            "      <td>3</td>\n",
                            "      <td>Allen, Mr. William Henry</td>\n",
                            "      <td>male</td>\n",
                            "      <td>35.0</td>\n",
                            "      <td>0</td>\n",
                            "      <td>0</td>\n",
                            "      <td>373450</td>\n",
                            "      <td>8.0500</td>\n",
                            "      <td>NaN</td>\n",
                            "      <td>S</td>\n",
                            "    </tr>\n",
                            "  </tbody>\n",
                            "</table>\n",
                            "</div>"
                        ],
                        "text/plain": [
                            "   PassengerId  Survived  Pclass  \\\n",
                            "0            1         0       3   \n",
                            "1            2         1       1   \n",
                            "2            3         1       3   \n",
                            "3            4         1       1   \n",
                            "4            5         0       3   \n",
                            "\n",
                            "                                                Name     Sex   Age  SibSp  \\\n",
                            "0                            Braund, Mr. Owen Harris    male  22.0      1   \n",
                            "1  Cumings, Mrs. John Bradley (Florence Briggs Th...  female  38.0      1   \n",
                            "2                             Heikkinen, Miss. Laina  female  26.0      0   \n",
                            "3       Futrelle, Mrs. Jacques Heath (Lily May Peel)  female  35.0      1   \n",
                            "4                           Allen, Mr. William Henry    male  35.0      0   \n",
                            "\n",
                            "   Parch            Ticket     Fare Cabin Embarked  \n",
                            "0      0         A/5 21171   7.2500   NaN        S  \n",
                            "1      0          PC 17599  71.2833   C85        C  \n",
                            "2      0  STON/O2. 3101282   7.9250   NaN        S  \n",
                            "3      0            113803  53.1000  C123        S  \n",
                            "4      0            373450   8.0500   NaN        S  "
                        ]
                    },
                    "execution_count": 146,
                    "metadata": {},
                    "output_type": "execute_result"
                }
            ],
            "source": [
                "tit = pd.read_csv('https://raw.githubusercontent.com/dphi-official/Datasets/master/titanic_data.csv ')\n",
                "\n",
                "tit.head()"
            ]
        },
        {
            "cell_type": "code",
            "execution_count": 147,
            "metadata": {},
            "outputs": [
                {
                    "data": {
                        "text/plain": [
                            "PassengerId      0\n",
                            "Survived         0\n",
                            "Pclass           0\n",
                            "Name             0\n",
                            "Sex              0\n",
                            "Age            177\n",
                            "SibSp            0\n",
                            "Parch            0\n",
                            "Ticket           0\n",
                            "Fare             0\n",
                            "Cabin          687\n",
                            "Embarked         2\n",
                            "dtype: int64"
                        ]
                    },
                    "execution_count": 147,
                    "metadata": {},
                    "output_type": "execute_result"
                }
            ],
            "source": [
                "tit.isna().sum()"
            ]
        },
        {
            "cell_type": "code",
            "execution_count": 148,
            "metadata": {},
            "outputs": [
                {
                    "data": {
                        "text/plain": [
                            "29.69911764705882"
                        ]
                    },
                    "execution_count": 148,
                    "metadata": {},
                    "output_type": "execute_result"
                }
            ],
            "source": [
                "age_mean_before = tit.Age.mean()\n",
                "age_mean_before"
            ]
        },
        {
            "cell_type": "code",
            "execution_count": 149,
            "metadata": {},
            "outputs": [],
            "source": [
                "# this fills the NaN spaces in Age column with the mean of the column Age\n",
                "tit.fillna(tit.Age.mean(), inplace= True)"
            ]
        },
        {
            "cell_type": "code",
            "execution_count": 150,
            "metadata": {},
            "outputs": [
                {
                    "data": {
                        "text/plain": [
                            "29.69911764705882"
                        ]
                    },
                    "execution_count": 150,
                    "metadata": {},
                    "output_type": "execute_result"
                }
            ],
            "source": [
                "age_mean_after = tit.Age.mean()\n",
                "age_mean_after\n"
            ]
        },
        {
            "cell_type": "code",
            "execution_count": 151,
            "metadata": {},
            "outputs": [
                {
                    "data": {
                        "text/plain": [
                            "S                    644\n",
                            "C                    168\n",
                            "Q                     77\n",
                            "29.69911764705882      2\n",
                            "Name: Embarked, dtype: int64"
                        ]
                    },
                    "execution_count": 151,
                    "metadata": {},
                    "output_type": "execute_result"
                }
            ],
            "source": [
                "tit.Embarked.value_counts()"
            ]
        },
        {
            "cell_type": "code",
            "execution_count": 154,
            "metadata": {},
            "outputs": [],
            "source": [
                "tit.Embarked.fillna('S', inplace= True)"
            ]
        },
        {
            "cell_type": "code",
            "execution_count": 155,
            "metadata": {},
            "outputs": [
                {
                    "data": {
                        "text/plain": [
                            "S                    644\n",
                            "C                    168\n",
                            "Q                     77\n",
                            "29.69911764705882      2\n",
                            "Name: Embarked, dtype: int64"
                        ]
                    },
                    "execution_count": 155,
                    "metadata": {},
                    "output_type": "execute_result"
                }
            ],
            "source": [
                "tit.Embarked.value_counts()\n"
            ]
        },
        {
            "cell_type": "code",
            "execution_count": 157,
            "metadata": {},
            "outputs": [
                {
                    "data": {
                        "text/plain": [
                            "0"
                        ]
                    },
                    "execution_count": 157,
                    "metadata": {},
                    "output_type": "execute_result"
                }
            ],
            "source": [
                "tit.Embarked.isna().sum()"
            ]
        },
        {
            "cell_type": "code",
            "execution_count": null,
            "metadata": {},
            "outputs": [],
            "source": []
        }
    ],
    "metadata": {
        "kernelspec": {
            "display_name": "Python 3.10.2 ('.venv')",
            "language": "python",
            "name": "python3"
        },
        "language_info": {
            "codemirror_mode": {
                "name": "ipython",
                "version": 3
            },
            "file_extension": ".py",
            "mimetype": "text/x-python",
            "name": "python",
            "nbconvert_exporter": "python",
            "pygments_lexer": "ipython3",
            "version": "3.10.2"
        },
        "orig_nbformat": 4,
        "vscode": {
            "interpreter": {
                "hash": "cc70e69b2eb01b3619eb73a67fad1bc02665fec0193be6ce22ae2979f64c8272"
            }
        }
    },
    "nbformat": 4,
    "nbformat_minor": 2
}
