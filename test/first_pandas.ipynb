{
    "cells": [
        {
            "cell_type": "code",
            "execution_count": 3,
            "metadata": {},
            "outputs": [],
            "source": [
                "import pandas as pd"
            ]
        },
        {
            "cell_type": "code",
            "execution_count": 5,
            "metadata": {},
            "outputs": [
                {
                    "data": {
                        "text/plain": [
                            "0    4\n",
                            "1    7\n",
                            "2   -5\n",
                            "3    3\n",
                            "dtype: int64"
                        ]
                    },
                    "execution_count": 5,
                    "metadata": {},
                    "output_type": "execute_result"
                }
            ],
            "source": [
                "obj = pd.Series([4,7,-5,3])\n",
                "\n",
                "obj"
            ]
        },
        {
            "cell_type": "code",
            "execution_count": 8,
            "metadata": {},
            "outputs": [
                {
                    "name": "stdout",
                    "output_type": "stream",
                    "text": [
                        "RangeIndex(start=0, stop=4, step=1)\n"
                    ]
                }
            ],
            "source": [
                "obj.values\n",
                "print(obj.index)"
            ]
        },
        {
            "cell_type": "code",
            "execution_count": 10,
            "metadata": {},
            "outputs": [
                {
                    "data": {
                        "text/plain": [
                            "Index(['d', 'b', 'a', 'c'], dtype='object')"
                        ]
                    },
                    "execution_count": 10,
                    "metadata": {},
                    "output_type": "execute_result"
                }
            ],
            "source": [
                "obj2 = pd.Series([4,7,-5,3], index = ['d','b','a','c'])\n",
                "obj2.index"
            ]
        },
        {
            "cell_type": "code",
            "execution_count": 13,
            "metadata": {},
            "outputs": [
                {
                    "data": {
                        "text/plain": [
                            "a   -5\n",
                            "d    4\n",
                            "c    3\n",
                            "dtype: int64"
                        ]
                    },
                    "execution_count": 13,
                    "metadata": {},
                    "output_type": "execute_result"
                }
            ],
            "source": [
                "obj2[['a','d','c']]"
            ]
        },
        {
            "cell_type": "code",
            "execution_count": 15,
            "metadata": {},
            "outputs": [
                {
                    "data": {
                        "text/plain": [
                            "True"
                        ]
                    },
                    "execution_count": 15,
                    "metadata": {},
                    "output_type": "execute_result"
                }
            ],
            "source": [
                "'a' in obj2"
            ]
        },
        {
            "cell_type": "code",
            "execution_count": 28,
            "metadata": {},
            "outputs": [
                {
                    "data": {
                        "text/plain": [
                            "Lagos      35000\n",
                            "Texas     71000\n",
                            "Oregon    16000\n",
                            "Utah       5000\n",
                            "dtype: int64"
                        ]
                    },
                    "execution_count": 28,
                    "metadata": {},
                    "output_type": "execute_result"
                }
            ],
            "source": [
                "sdata = {'Lagos': 35000, 'Texas': 71000, 'Oregon': 16000, 'Utah': 5000}\n",
                "obj3 = pd.Series(sdata)\n",
                "obj3"
            ]
        },
        {
            "cell_type": "code",
            "execution_count": 29,
            "metadata": {},
            "outputs": [
                {
                    "data": {
                        "text/plain": [
                            "California        NaN\n",
                            "Lagos          35000.0\n",
                            "Oregon        16000.0\n",
                            "Texas         71000.0\n",
                            "Utah           5000.0\n",
                            "dtype: float64"
                        ]
                    },
                    "execution_count": 29,
                    "metadata": {},
                    "output_type": "execute_result"
                }
            ],
            "source": [
                "states = ['California', 'Lagos', 'Oregon', 'Texas', 'Utah']\n",
                "obj4 = pd.Series(sdata, index=states)\n",
                "obj4\n"
            ]
        },
        {
            "cell_type": "code",
            "execution_count": 34,
            "metadata": {},
            "outputs": [
                {
                    "data": {
                        "text/plain": [
                            "California        NaN\n",
                            "Lagos          65000.0\n",
                            "Oregon        16000.0\n",
                            "Texas         71000.0\n",
                            "Utah           5000.0\n",
                            "dtype: float64"
                        ]
                    },
                    "execution_count": 34,
                    "metadata": {},
                    "output_type": "execute_result"
                }
            ],
            "source": [
                "obj4['Lagos'] = 65000\n",
                "\n",
                "obj4"
            ]
        },
        {
            "cell_type": "code",
            "execution_count": 27,
            "metadata": {},
            "outputs": [
                {
                    "data": {
                        "text/plain": [
                            "California    False\n",
                            "Lagos           True\n",
                            "Oregon         True\n",
                            "Texas          True\n",
                            "Utah           True\n",
                            "dtype: bool"
                        ]
                    },
                    "execution_count": 27,
                    "metadata": {},
                    "output_type": "execute_result"
                }
            ],
            "source": [
                "# pd.isnull(obj3)\n",
                "\n",
                "pd.notnull(obj3)\n"
            ]
        },
        {
            "cell_type": "code",
            "execution_count": 25,
            "metadata": {},
            "outputs": [
                {
                    "data": {
                        "text/plain": [
                            "California     True\n",
                            "Lagos          False\n",
                            "Oregon        False\n",
                            "Texas         False\n",
                            "Utah          False\n",
                            "dtype: bool"
                        ]
                    },
                    "execution_count": 25,
                    "metadata": {},
                    "output_type": "execute_result"
                }
            ],
            "source": [
                "#to find the NaN positions, we could use pd.isnull() and pd.notnull()\n",
                "\n",
                "obj3.isnull() #this is a series instance method\n",
                "# obj3.notnull()  "
            ]
        },
        {
            "cell_type": "markdown",
            "metadata": {},
            "source": [
                "Operations on Series\n",
                "* Addition\n",
                "* Subtraction\n",
                "* Division"
            ]
        },
        {
            "cell_type": "code",
            "execution_count": 35,
            "metadata": {},
            "outputs": [
                {
                    "data": {
                        "text/plain": [
                            "California         NaN\n",
                            "Lagos          100000.0\n",
                            "Oregon         32000.0\n",
                            "Texas         142000.0\n",
                            "Utah           10000.0\n",
                            "dtype: float64"
                        ]
                    },
                    "execution_count": 35,
                    "metadata": {},
                    "output_type": "execute_result"
                }
            ],
            "source": [
                "# Addition\n",
                "obj3 + obj4"
            ]
        },
        {
            "cell_type": "code",
            "execution_count": 36,
            "metadata": {},
            "outputs": [
                {
                    "data": {
                        "text/plain": [
                            "California         NaN\n",
                            "Lagos          0.538462\n",
                            "Oregon        1.000000\n",
                            "Texas         1.000000\n",
                            "Utah          1.000000\n",
                            "dtype: float64"
                        ]
                    },
                    "execution_count": 36,
                    "metadata": {},
                    "output_type": "execute_result"
                }
            ],
            "source": [
                "# Division\n",
                "obj3/obj4"
            ]
        },
        {
            "cell_type": "code",
            "execution_count": 37,
            "metadata": {},
            "outputs": [
                {
                    "data": {
                        "text/plain": [
                            "California    NaN\n",
                            "Lagos          0.0\n",
                            "Oregon        1.0\n",
                            "Texas         1.0\n",
                            "Utah          1.0\n",
                            "dtype: float64"
                        ]
                    },
                    "execution_count": 37,
                    "metadata": {},
                    "output_type": "execute_result"
                }
            ],
            "source": [
                "# integer division\n",
                "obj3//obj4"
            ]
        },
        {
            "cell_type": "code",
            "execution_count": 41,
            "metadata": {},
            "outputs": [
                {
                    "data": {
                        "text/plain": [
                            "state\n",
                            "California        NaN\n",
                            "Lagos          65000.0\n",
                            "Oregon        16000.0\n",
                            "Texas         71000.0\n",
                            "Utah           5000.0\n",
                            "Name: population, dtype: float64"
                        ]
                    },
                    "execution_count": 41,
                    "metadata": {},
                    "output_type": "execute_result"
                }
            ],
            "source": [
                "# Both the Series object itself and its index have a name attribute,\n",
                "obj4.name = 'population'\n",
                "obj4.index.name = 'state'\n",
                "\n",
                "obj4"
            ]
        },
        {
            "cell_type": "markdown",
            "metadata": {},
            "source": [
                "DataFrame\n",
                "\n",
                "A DataFrame represents a tabular, spreadsheet-like data structure containing an ordered\n",
                "collection of columns, each of which can be a different value type (numeric,\n",
                "string, boolean, etc.). The DataFrame has both a row and column index; it can be\n",
                "thought of as a dict of Series (one for all sharing the same index)"
            ]
        },
        {
            "cell_type": "code",
            "execution_count": 68,
            "metadata": {},
            "outputs": [
                {
                    "data": {
                        "text/html": [
                            "<div>\n",
                            "<style scoped>\n",
                            "    .dataframe tbody tr th:only-of-type {\n",
                            "        vertical-align: middle;\n",
                            "    }\n",
                            "\n",
                            "    .dataframe tbody tr th {\n",
                            "        vertical-align: top;\n",
                            "    }\n",
                            "\n",
                            "    .dataframe thead th {\n",
                            "        text-align: right;\n",
                            "    }\n",
                            "</style>\n",
                            "<table border=\"1\" class=\"dataframe\">\n",
                            "  <thead>\n",
                            "    <tr style=\"text-align: right;\">\n",
                            "      <th></th>\n",
                            "      <th>state</th>\n",
                            "      <th>year</th>\n",
                            "      <th>pop</th>\n",
                            "    </tr>\n",
                            "  </thead>\n",
                            "  <tbody>\n",
                            "    <tr>\n",
                            "      <th>0</th>\n",
                            "      <td>Lagos</td>\n",
                            "      <td>2000</td>\n",
                            "      <td>1.5</td>\n",
                            "    </tr>\n",
                            "    <tr>\n",
                            "      <th>1</th>\n",
                            "      <td>Lagos</td>\n",
                            "      <td>2001</td>\n",
                            "      <td>1.7</td>\n",
                            "    </tr>\n",
                            "    <tr>\n",
                            "      <th>2</th>\n",
                            "      <td>Lagos</td>\n",
                            "      <td>2002</td>\n",
                            "      <td>3.6</td>\n",
                            "    </tr>\n",
                            "    <tr>\n",
                            "      <th>3</th>\n",
                            "      <td>Kano</td>\n",
                            "      <td>2001</td>\n",
                            "      <td>2.4</td>\n",
                            "    </tr>\n",
                            "    <tr>\n",
                            "      <th>4</th>\n",
                            "      <td>Kano</td>\n",
                            "      <td>2002</td>\n",
                            "      <td>2.9</td>\n",
                            "    </tr>\n",
                            "  </tbody>\n",
                            "</table>\n",
                            "</div>"
                        ],
                        "text/plain": [
                            "   state  year  pop\n",
                            "0  Lagos  2000  1.5\n",
                            "1  Lagos  2001  1.7\n",
                            "2  Lagos  2002  3.6\n",
                            "3   Kano  2001  2.4\n",
                            "4   Kano  2002  2.9"
                        ]
                    },
                    "execution_count": 68,
                    "metadata": {},
                    "output_type": "execute_result"
                }
            ],
            "source": [
                "data = {'state': ['Lagos', 'Lagos', 'Lagos', 'Kano', 'Kano'],\n",
                "        'year': [2000, 2001, 2002, 2001, 2002],\n",
                "        'pop': [1.5, 1.7, 3.6, 2.4, 2.9]}\n",
                "frame = pd.DataFrame(data)\n",
                "frame"
            ]
        },
        {
            "cell_type": "code",
            "execution_count": 69,
            "metadata": {},
            "outputs": [
                {
                    "data": {
                        "text/html": [
                            "<div>\n",
                            "<style scoped>\n",
                            "    .dataframe tbody tr th:only-of-type {\n",
                            "        vertical-align: middle;\n",
                            "    }\n",
                            "\n",
                            "    .dataframe tbody tr th {\n",
                            "        vertical-align: top;\n",
                            "    }\n",
                            "\n",
                            "    .dataframe thead th {\n",
                            "        text-align: right;\n",
                            "    }\n",
                            "</style>\n",
                            "<table border=\"1\" class=\"dataframe\">\n",
                            "  <thead>\n",
                            "    <tr style=\"text-align: right;\">\n",
                            "      <th></th>\n",
                            "      <th>year</th>\n",
                            "      <th>state</th>\n",
                            "      <th>pop</th>\n",
                            "    </tr>\n",
                            "  </thead>\n",
                            "  <tbody>\n",
                            "    <tr>\n",
                            "      <th>0</th>\n",
                            "      <td>2000</td>\n",
                            "      <td>Lagos</td>\n",
                            "      <td>1.5</td>\n",
                            "    </tr>\n",
                            "    <tr>\n",
                            "      <th>1</th>\n",
                            "      <td>2001</td>\n",
                            "      <td>Lagos</td>\n",
                            "      <td>1.7</td>\n",
                            "    </tr>\n",
                            "    <tr>\n",
                            "      <th>2</th>\n",
                            "      <td>2002</td>\n",
                            "      <td>Lagos</td>\n",
                            "      <td>3.6</td>\n",
                            "    </tr>\n",
                            "    <tr>\n",
                            "      <th>3</th>\n",
                            "      <td>2001</td>\n",
                            "      <td>Kano</td>\n",
                            "      <td>2.4</td>\n",
                            "    </tr>\n",
                            "    <tr>\n",
                            "      <th>4</th>\n",
                            "      <td>2002</td>\n",
                            "      <td>Kano</td>\n",
                            "      <td>2.9</td>\n",
                            "    </tr>\n",
                            "  </tbody>\n",
                            "</table>\n",
                            "</div>"
                        ],
                        "text/plain": [
                            "   year  state  pop\n",
                            "0  2000  Lagos  1.5\n",
                            "1  2001  Lagos  1.7\n",
                            "2  2002  Lagos  3.6\n",
                            "3  2001   Kano  2.4\n",
                            "4  2002   Kano  2.9"
                        ]
                    },
                    "execution_count": 69,
                    "metadata": {},
                    "output_type": "execute_result"
                }
            ],
            "source": [
                "pd.DataFrame(data, columns = ['year', 'state', 'pop'])"
            ]
        },
        {
            "cell_type": "code",
            "execution_count": 70,
            "metadata": {},
            "outputs": [
                {
                    "data": {
                        "text/html": [
                            "<div>\n",
                            "<style scoped>\n",
                            "    .dataframe tbody tr th:only-of-type {\n",
                            "        vertical-align: middle;\n",
                            "    }\n",
                            "\n",
                            "    .dataframe tbody tr th {\n",
                            "        vertical-align: top;\n",
                            "    }\n",
                            "\n",
                            "    .dataframe thead th {\n",
                            "        text-align: right;\n",
                            "    }\n",
                            "</style>\n",
                            "<table border=\"1\" class=\"dataframe\">\n",
                            "  <thead>\n",
                            "    <tr style=\"text-align: right;\">\n",
                            "      <th></th>\n",
                            "      <th>year</th>\n",
                            "      <th>state</th>\n",
                            "      <th>pop</th>\n",
                            "      <th>debt</th>\n",
                            "    </tr>\n",
                            "  </thead>\n",
                            "  <tbody>\n",
                            "    <tr>\n",
                            "      <th>one</th>\n",
                            "      <td>2000</td>\n",
                            "      <td>Lagos</td>\n",
                            "      <td>1.5</td>\n",
                            "      <td>NaN</td>\n",
                            "    </tr>\n",
                            "    <tr>\n",
                            "      <th>two</th>\n",
                            "      <td>2001</td>\n",
                            "      <td>Lagos</td>\n",
                            "      <td>1.7</td>\n",
                            "      <td>NaN</td>\n",
                            "    </tr>\n",
                            "    <tr>\n",
                            "      <th>three</th>\n",
                            "      <td>2002</td>\n",
                            "      <td>Lagos</td>\n",
                            "      <td>3.6</td>\n",
                            "      <td>NaN</td>\n",
                            "    </tr>\n",
                            "    <tr>\n",
                            "      <th>four</th>\n",
                            "      <td>2001</td>\n",
                            "      <td>Kano</td>\n",
                            "      <td>2.4</td>\n",
                            "      <td>NaN</td>\n",
                            "    </tr>\n",
                            "    <tr>\n",
                            "      <th>five</th>\n",
                            "      <td>2002</td>\n",
                            "      <td>Kano</td>\n",
                            "      <td>2.9</td>\n",
                            "      <td>NaN</td>\n",
                            "    </tr>\n",
                            "  </tbody>\n",
                            "</table>\n",
                            "</div>"
                        ],
                        "text/plain": [
                            "       year  state  pop debt\n",
                            "one    2000  Lagos  1.5  NaN\n",
                            "two    2001  Lagos  1.7  NaN\n",
                            "three  2002  Lagos  3.6  NaN\n",
                            "four   2001   Kano  2.4  NaN\n",
                            "five   2002   Kano  2.9  NaN"
                        ]
                    },
                    "execution_count": 70,
                    "metadata": {},
                    "output_type": "execute_result"
                }
            ],
            "source": [
                "frame2 = pd.DataFrame(data, columns=['year', 'state', 'pop', 'debt'],\n",
                "                   index=['one', 'two', 'three', 'four', 'five'])\n",
                "frame2"
            ]
        },
        {
            "cell_type": "code",
            "execution_count": 71,
            "metadata": {},
            "outputs": [
                {
                    "data": {
                        "text/plain": [
                            "Index(['year', 'state', 'pop', 'debt'], dtype='object')"
                        ]
                    },
                    "execution_count": 71,
                    "metadata": {},
                    "output_type": "execute_result"
                }
            ],
            "source": [
                "frame2.columns"
            ]
        },
        {
            "cell_type": "code",
            "execution_count": 72,
            "metadata": {},
            "outputs": [
                {
                    "data": {
                        "text/plain": [
                            "one      Lagos\n",
                            "two      Lagos\n",
                            "three    Lagos\n",
                            "four      Kano\n",
                            "five      Kano\n",
                            "Name: state, dtype: object"
                        ]
                    },
                    "execution_count": 72,
                    "metadata": {},
                    "output_type": "execute_result"
                }
            ],
            "source": [
                "# A column in a DataFrame can be retrieved as a Series either by dict-like notation or by\n",
                "# attribute:\n",
                "frame2.state\n",
                "# print(frame2['year'])\n",
                "# print(frame2.year)\n"
            ]
        },
        {
            "cell_type": "code",
            "execution_count": 73,
            "metadata": {},
            "outputs": [
                {
                    "data": {
                        "text/html": [
                            "<div>\n",
                            "<style scoped>\n",
                            "    .dataframe tbody tr th:only-of-type {\n",
                            "        vertical-align: middle;\n",
                            "    }\n",
                            "\n",
                            "    .dataframe tbody tr th {\n",
                            "        vertical-align: top;\n",
                            "    }\n",
                            "\n",
                            "    .dataframe thead th {\n",
                            "        text-align: right;\n",
                            "    }\n",
                            "</style>\n",
                            "<table border=\"1\" class=\"dataframe\">\n",
                            "  <thead>\n",
                            "    <tr style=\"text-align: right;\">\n",
                            "      <th></th>\n",
                            "      <th>year</th>\n",
                            "      <th>state</th>\n",
                            "      <th>pop</th>\n",
                            "      <th>debt</th>\n",
                            "    </tr>\n",
                            "  </thead>\n",
                            "  <tbody>\n",
                            "    <tr>\n",
                            "      <th>one</th>\n",
                            "      <td>2000</td>\n",
                            "      <td>Lagos</td>\n",
                            "      <td>1.5</td>\n",
                            "      <td>0</td>\n",
                            "    </tr>\n",
                            "    <tr>\n",
                            "      <th>two</th>\n",
                            "      <td>2001</td>\n",
                            "      <td>Lagos</td>\n",
                            "      <td>1.7</td>\n",
                            "      <td>1</td>\n",
                            "    </tr>\n",
                            "    <tr>\n",
                            "      <th>three</th>\n",
                            "      <td>2002</td>\n",
                            "      <td>Lagos</td>\n",
                            "      <td>3.6</td>\n",
                            "      <td>2</td>\n",
                            "    </tr>\n",
                            "    <tr>\n",
                            "      <th>four</th>\n",
                            "      <td>2001</td>\n",
                            "      <td>Kano</td>\n",
                            "      <td>2.4</td>\n",
                            "      <td>3</td>\n",
                            "    </tr>\n",
                            "    <tr>\n",
                            "      <th>five</th>\n",
                            "      <td>2002</td>\n",
                            "      <td>Kano</td>\n",
                            "      <td>2.9</td>\n",
                            "      <td>4</td>\n",
                            "    </tr>\n",
                            "  </tbody>\n",
                            "</table>\n",
                            "</div>"
                        ],
                        "text/plain": [
                            "       year  state  pop  debt\n",
                            "one    2000  Lagos  1.5     0\n",
                            "two    2001  Lagos  1.7     1\n",
                            "three  2002  Lagos  3.6     2\n",
                            "four   2001   Kano  2.4     3\n",
                            "five   2002   Kano  2.9     4"
                        ]
                    },
                    "execution_count": 73,
                    "metadata": {},
                    "output_type": "execute_result"
                }
            ],
            "source": [
                "# Columns can be modified by assignment. For example, the empty 'debt' column could\n",
                "# be assigned a scalar value or an array of values:\n",
                "import numpy as np\n",
                "frame2['debt'] = np.arange(5)\n",
                "frame2\n"
            ]
        },
        {
            "cell_type": "code",
            "execution_count": 74,
            "metadata": {},
            "outputs": [
                {
                    "data": {
                        "text/html": [
                            "<div>\n",
                            "<style scoped>\n",
                            "    .dataframe tbody tr th:only-of-type {\n",
                            "        vertical-align: middle;\n",
                            "    }\n",
                            "\n",
                            "    .dataframe tbody tr th {\n",
                            "        vertical-align: top;\n",
                            "    }\n",
                            "\n",
                            "    .dataframe thead th {\n",
                            "        text-align: right;\n",
                            "    }\n",
                            "</style>\n",
                            "<table border=\"1\" class=\"dataframe\">\n",
                            "  <thead>\n",
                            "    <tr style=\"text-align: right;\">\n",
                            "      <th></th>\n",
                            "      <th>year</th>\n",
                            "      <th>state</th>\n",
                            "      <th>pop</th>\n",
                            "      <th>debt</th>\n",
                            "    </tr>\n",
                            "  </thead>\n",
                            "  <tbody>\n",
                            "    <tr>\n",
                            "      <th>one</th>\n",
                            "      <td>2000</td>\n",
                            "      <td>Lagos</td>\n",
                            "      <td>1.5</td>\n",
                            "      <td>NaN</td>\n",
                            "    </tr>\n",
                            "    <tr>\n",
                            "      <th>two</th>\n",
                            "      <td>2001</td>\n",
                            "      <td>Lagos</td>\n",
                            "      <td>1.7</td>\n",
                            "      <td>900.0</td>\n",
                            "    </tr>\n",
                            "    <tr>\n",
                            "      <th>three</th>\n",
                            "      <td>2002</td>\n",
                            "      <td>Lagos</td>\n",
                            "      <td>3.6</td>\n",
                            "      <td>210.0</td>\n",
                            "    </tr>\n",
                            "    <tr>\n",
                            "      <th>four</th>\n",
                            "      <td>2001</td>\n",
                            "      <td>Kano</td>\n",
                            "      <td>2.4</td>\n",
                            "      <td>322.0</td>\n",
                            "    </tr>\n",
                            "    <tr>\n",
                            "      <th>five</th>\n",
                            "      <td>2002</td>\n",
                            "      <td>Kano</td>\n",
                            "      <td>2.9</td>\n",
                            "      <td>NaN</td>\n",
                            "    </tr>\n",
                            "  </tbody>\n",
                            "</table>\n",
                            "</div>"
                        ],
                        "text/plain": [
                            "       year  state  pop   debt\n",
                            "one    2000  Lagos  1.5    NaN\n",
                            "two    2001  Lagos  1.7  900.0\n",
                            "three  2002  Lagos  3.6  210.0\n",
                            "four   2001   Kano  2.4  322.0\n",
                            "five   2002   Kano  2.9    NaN"
                        ]
                    },
                    "execution_count": 74,
                    "metadata": {},
                    "output_type": "execute_result"
                }
            ],
            "source": [
                "frame2['debt'] = pd.Series([900,210,322], index = ['two','three', 'four'])\n",
                "frame2"
            ]
        },
        {
            "cell_type": "code",
            "execution_count": 75,
            "metadata": {},
            "outputs": [
                {
                    "data": {
                        "text/html": [
                            "<div>\n",
                            "<style scoped>\n",
                            "    .dataframe tbody tr th:only-of-type {\n",
                            "        vertical-align: middle;\n",
                            "    }\n",
                            "\n",
                            "    .dataframe tbody tr th {\n",
                            "        vertical-align: top;\n",
                            "    }\n",
                            "\n",
                            "    .dataframe thead th {\n",
                            "        text-align: right;\n",
                            "    }\n",
                            "</style>\n",
                            "<table border=\"1\" class=\"dataframe\">\n",
                            "  <thead>\n",
                            "    <tr style=\"text-align: right;\">\n",
                            "      <th></th>\n",
                            "      <th>state</th>\n",
                            "      <th>year</th>\n",
                            "      <th>pop</th>\n",
                            "    </tr>\n",
                            "  </thead>\n",
                            "  <tbody>\n",
                            "    <tr>\n",
                            "      <th>1</th>\n",
                            "      <td>Lagos</td>\n",
                            "      <td>2000</td>\n",
                            "      <td>1.5</td>\n",
                            "    </tr>\n",
                            "    <tr>\n",
                            "      <th>2</th>\n",
                            "      <td>Lagos</td>\n",
                            "      <td>2001</td>\n",
                            "      <td>1.7</td>\n",
                            "    </tr>\n",
                            "    <tr>\n",
                            "      <th>3</th>\n",
                            "      <td>Lagos</td>\n",
                            "      <td>2002</td>\n",
                            "      <td>3.6</td>\n",
                            "    </tr>\n",
                            "    <tr>\n",
                            "      <th>4</th>\n",
                            "      <td>Kano</td>\n",
                            "      <td>2001</td>\n",
                            "      <td>2.4</td>\n",
                            "    </tr>\n",
                            "    <tr>\n",
                            "      <th>5</th>\n",
                            "      <td>Kano</td>\n",
                            "      <td>2002</td>\n",
                            "      <td>2.9</td>\n",
                            "    </tr>\n",
                            "  </tbody>\n",
                            "</table>\n",
                            "</div>"
                        ],
                        "text/plain": [
                            "   state  year  pop\n",
                            "1  Lagos  2000  1.5\n",
                            "2  Lagos  2001  1.7\n",
                            "3  Lagos  2002  3.6\n",
                            "4   Kano  2001  2.4\n",
                            "5   Kano  2002  2.9"
                        ]
                    },
                    "execution_count": 75,
                    "metadata": {},
                    "output_type": "execute_result"
                }
            ],
            "source": [
                "frame2 = pd.DataFrame(data, index =([1,2,3,4,5]))\n",
                "frame2"
            ]
        },
        {
            "cell_type": "code",
            "execution_count": 76,
            "metadata": {},
            "outputs": [
                {
                    "data": {
                        "text/html": [
                            "<div>\n",
                            "<style scoped>\n",
                            "    .dataframe tbody tr th:only-of-type {\n",
                            "        vertical-align: middle;\n",
                            "    }\n",
                            "\n",
                            "    .dataframe tbody tr th {\n",
                            "        vertical-align: top;\n",
                            "    }\n",
                            "\n",
                            "    .dataframe thead th {\n",
                            "        text-align: right;\n",
                            "    }\n",
                            "</style>\n",
                            "<table border=\"1\" class=\"dataframe\">\n",
                            "  <thead>\n",
                            "    <tr style=\"text-align: right;\">\n",
                            "      <th></th>\n",
                            "      <th>state</th>\n",
                            "      <th>year</th>\n",
                            "      <th>pop</th>\n",
                            "      <th>western</th>\n",
                            "    </tr>\n",
                            "  </thead>\n",
                            "  <tbody>\n",
                            "    <tr>\n",
                            "      <th>1</th>\n",
                            "      <td>Lagos</td>\n",
                            "      <td>2000</td>\n",
                            "      <td>1.5</td>\n",
                            "      <td>True</td>\n",
                            "    </tr>\n",
                            "    <tr>\n",
                            "      <th>2</th>\n",
                            "      <td>Lagos</td>\n",
                            "      <td>2001</td>\n",
                            "      <td>1.7</td>\n",
                            "      <td>True</td>\n",
                            "    </tr>\n",
                            "    <tr>\n",
                            "      <th>3</th>\n",
                            "      <td>Lagos</td>\n",
                            "      <td>2002</td>\n",
                            "      <td>3.6</td>\n",
                            "      <td>True</td>\n",
                            "    </tr>\n",
                            "    <tr>\n",
                            "      <th>4</th>\n",
                            "      <td>Kano</td>\n",
                            "      <td>2001</td>\n",
                            "      <td>2.4</td>\n",
                            "      <td>False</td>\n",
                            "    </tr>\n",
                            "    <tr>\n",
                            "      <th>5</th>\n",
                            "      <td>Kano</td>\n",
                            "      <td>2002</td>\n",
                            "      <td>2.9</td>\n",
                            "      <td>False</td>\n",
                            "    </tr>\n",
                            "  </tbody>\n",
                            "</table>\n",
                            "</div>"
                        ],
                        "text/plain": [
                            "   state  year  pop  western\n",
                            "1  Lagos  2000  1.5     True\n",
                            "2  Lagos  2001  1.7     True\n",
                            "3  Lagos  2002  3.6     True\n",
                            "4   Kano  2001  2.4    False\n",
                            "5   Kano  2002  2.9    False"
                        ]
                    },
                    "execution_count": 76,
                    "metadata": {},
                    "output_type": "execute_result"
                }
            ],
            "source": [
                "# Assigning a column that doesn’t exist will create a new column. The del keyword will delete columns as with a dict:\n",
                "frame2['western'] = frame2.state =='Lagos'\n",
                "frame2"
            ]
        },
        {
            "cell_type": "code",
            "execution_count": 77,
            "metadata": {},
            "outputs": [
                {
                    "data": {
                        "text/plain": [
                            "Index(['state', 'year', 'pop'], dtype='object')"
                        ]
                    },
                    "execution_count": 77,
                    "metadata": {},
                    "output_type": "execute_result"
                }
            ],
            "source": [
                "del frame2['western']\n",
                "\n",
                "frame2.columns"
            ]
        },
        {
            "cell_type": "code",
            "execution_count": 81,
            "metadata": {},
            "outputs": [
                {
                    "data": {
                        "text/html": [
                            "<div>\n",
                            "<style scoped>\n",
                            "    .dataframe tbody tr th:only-of-type {\n",
                            "        vertical-align: middle;\n",
                            "    }\n",
                            "\n",
                            "    .dataframe tbody tr th {\n",
                            "        vertical-align: top;\n",
                            "    }\n",
                            "\n",
                            "    .dataframe thead th {\n",
                            "        text-align: right;\n",
                            "    }\n",
                            "</style>\n",
                            "<table border=\"1\" class=\"dataframe\">\n",
                            "  <thead>\n",
                            "    <tr style=\"text-align: right;\">\n",
                            "      <th></th>\n",
                            "      <th>Kano</th>\n",
                            "      <th>Lagos</th>\n",
                            "    </tr>\n",
                            "  </thead>\n",
                            "  <tbody>\n",
                            "    <tr>\n",
                            "      <th>2000</th>\n",
                            "      <td>NaN</td>\n",
                            "      <td>1.5</td>\n",
                            "    </tr>\n",
                            "    <tr>\n",
                            "      <th>2001</th>\n",
                            "      <td>2.4</td>\n",
                            "      <td>1.7</td>\n",
                            "    </tr>\n",
                            "    <tr>\n",
                            "      <th>2002</th>\n",
                            "      <td>2.9</td>\n",
                            "      <td>3.6</td>\n",
                            "    </tr>\n",
                            "  </tbody>\n",
                            "</table>\n",
                            "</div>"
                        ],
                        "text/plain": [
                            "      Kano  Lagos\n",
                            "2000   NaN    1.5\n",
                            "2001   2.4    1.7\n",
                            "2002   2.9    3.6"
                        ]
                    },
                    "execution_count": 81,
                    "metadata": {},
                    "output_type": "execute_result"
                }
            ],
            "source": [
                "pop = {'Kano' : {2001: 2.4, 2002 : 2.9}, 'Lagos' : \n",
                "{2000 : 1.5, 2001: 1.7, 2002 : 3.6}}\n",
                "\n",
                "frame3 = pd.DataFrame(pop, index = [2000,2001,2002])\n",
                "frame3"
            ]
        },
        {
            "cell_type": "code",
            "execution_count": 82,
            "metadata": {},
            "outputs": [
                {
                    "data": {
                        "text/html": [
                            "<div>\n",
                            "<style scoped>\n",
                            "    .dataframe tbody tr th:only-of-type {\n",
                            "        vertical-align: middle;\n",
                            "    }\n",
                            "\n",
                            "    .dataframe tbody tr th {\n",
                            "        vertical-align: top;\n",
                            "    }\n",
                            "\n",
                            "    .dataframe thead th {\n",
                            "        text-align: right;\n",
                            "    }\n",
                            "</style>\n",
                            "<table border=\"1\" class=\"dataframe\">\n",
                            "  <thead>\n",
                            "    <tr style=\"text-align: right;\">\n",
                            "      <th></th>\n",
                            "      <th>2000</th>\n",
                            "      <th>2001</th>\n",
                            "      <th>2002</th>\n",
                            "    </tr>\n",
                            "  </thead>\n",
                            "  <tbody>\n",
                            "    <tr>\n",
                            "      <th>Kano</th>\n",
                            "      <td>NaN</td>\n",
                            "      <td>2.4</td>\n",
                            "      <td>2.9</td>\n",
                            "    </tr>\n",
                            "    <tr>\n",
                            "      <th>Lagos</th>\n",
                            "      <td>1.5</td>\n",
                            "      <td>1.7</td>\n",
                            "      <td>3.6</td>\n",
                            "    </tr>\n",
                            "  </tbody>\n",
                            "</table>\n",
                            "</div>"
                        ],
                        "text/plain": [
                            "       2000  2001  2002\n",
                            "Kano    NaN   2.4   2.9\n",
                            "Lagos   1.5   1.7   3.6"
                        ]
                    },
                    "execution_count": 82,
                    "metadata": {},
                    "output_type": "execute_result"
                }
            ],
            "source": [
                "# transpose the result:\n",
                "frame3.T"
            ]
        },
        {
            "cell_type": "code",
            "execution_count": 85,
            "metadata": {},
            "outputs": [
                {
                    "data": {
                        "text/html": [
                            "<div>\n",
                            "<style scoped>\n",
                            "    .dataframe tbody tr th:only-of-type {\n",
                            "        vertical-align: middle;\n",
                            "    }\n",
                            "\n",
                            "    .dataframe tbody tr th {\n",
                            "        vertical-align: top;\n",
                            "    }\n",
                            "\n",
                            "    .dataframe thead th {\n",
                            "        text-align: right;\n",
                            "    }\n",
                            "</style>\n",
                            "<table border=\"1\" class=\"dataframe\">\n",
                            "  <thead>\n",
                            "    <tr style=\"text-align: right;\">\n",
                            "      <th>States</th>\n",
                            "      <th>Kano</th>\n",
                            "      <th>Lagos</th>\n",
                            "    </tr>\n",
                            "    <tr>\n",
                            "      <th>year</th>\n",
                            "      <th></th>\n",
                            "      <th></th>\n",
                            "    </tr>\n",
                            "  </thead>\n",
                            "  <tbody>\n",
                            "    <tr>\n",
                            "      <th>2000</th>\n",
                            "      <td>NaN</td>\n",
                            "      <td>1.5</td>\n",
                            "    </tr>\n",
                            "    <tr>\n",
                            "      <th>2001</th>\n",
                            "      <td>2.4</td>\n",
                            "      <td>1.7</td>\n",
                            "    </tr>\n",
                            "    <tr>\n",
                            "      <th>2002</th>\n",
                            "      <td>2.9</td>\n",
                            "      <td>3.6</td>\n",
                            "    </tr>\n",
                            "  </tbody>\n",
                            "</table>\n",
                            "</div>"
                        ],
                        "text/plain": [
                            "States  Kano  Lagos\n",
                            "year               \n",
                            "2000     NaN    1.5\n",
                            "2001     2.4    1.7\n",
                            "2002     2.9    3.6"
                        ]
                    },
                    "execution_count": 85,
                    "metadata": {},
                    "output_type": "execute_result"
                }
            ],
            "source": [
                "frame3.index.name = 'year'; frame3.columns.name = 'States'\n",
                "frame3"
            ]
        },
        {
            "cell_type": "code",
            "execution_count": 90,
            "metadata": {},
            "outputs": [
                {
                    "data": {
                        "text/plain": [
                            "array([['Lagos', 2000, 1.5],\n",
                            "       ['Lagos', 2001, 1.7],\n",
                            "       ['Lagos', 2002, 3.6],\n",
                            "       ['Kano', 2001, 2.4],\n",
                            "       ['Kano', 2002, 2.9]], dtype=object)"
                        ]
                    },
                    "execution_count": 90,
                    "metadata": {},
                    "output_type": "execute_result"
                }
            ],
            "source": [
                "frame2.values "
            ]
        },
        {
            "cell_type": "markdown",
            "metadata": {},
            "source": [
                "Index Objects\n",
                "\n",
                "pandas’s Index objects are responsible for holding the axis labels and other metadata (like the axis name or names)."
            ]
        },
        {
            "cell_type": "code",
            "execution_count": 91,
            "metadata": {},
            "outputs": [
                {
                    "data": {
                        "text/plain": [
                            "a    0\n",
                            "b    1\n",
                            "c    2\n",
                            "dtype: int64"
                        ]
                    },
                    "execution_count": 91,
                    "metadata": {},
                    "output_type": "execute_result"
                }
            ],
            "source": [
                "obj = pd.Series(range(3), index=['a', 'b', 'c'])\n",
                "obj\n"
            ]
        },
        {
            "cell_type": "code",
            "execution_count": 93,
            "metadata": {},
            "outputs": [
                {
                    "data": {
                        "text/plain": [
                            "Index(['a', 'b', 'c'], dtype='object')"
                        ]
                    },
                    "execution_count": 93,
                    "metadata": {},
                    "output_type": "execute_result"
                }
            ],
            "source": [
                "a_index = obj.index\n",
                "a_index"
            ]
        },
        {
            "cell_type": "code",
            "execution_count": 95,
            "metadata": {},
            "outputs": [],
            "source": [
                "# Index objects are immutable and thus can’t be modified by the user:\n",
                "# a_index[1] ='d'\n"
            ]
        },
        {
            "cell_type": "code",
            "execution_count": 96,
            "metadata": {},
            "outputs": [
                {
                    "data": {
                        "text/plain": [
                            "0    1.5\n",
                            "1   -2.5\n",
                            "2    0.0\n",
                            "dtype: float64"
                        ]
                    },
                    "execution_count": 96,
                    "metadata": {},
                    "output_type": "execute_result"
                }
            ],
            "source": [
                "# Immutability is important so that Index objects can be safely shared among data structures:\n",
                "b_index = pd.Index(np.arange(3))\n",
                "\n",
                "obj2 = pd.Series([1.5,-2.5,0], index = b_index)\n",
                "\n",
                "obj2"
            ]
        },
        {
            "cell_type": "code",
            "execution_count": 97,
            "metadata": {},
            "outputs": [
                {
                    "data": {
                        "text/plain": [
                            "True"
                        ]
                    },
                    "execution_count": 97,
                    "metadata": {},
                    "output_type": "execute_result"
                }
            ],
            "source": [
                "obj2.index is b_index"
            ]
        },
        {
            "cell_type": "markdown",
            "metadata": {},
            "source": [
                "Reindexing\n",
                "\n",
                "A critical method on pandas objects is reindex, which means to create a new object with the data conformed to a new index."
            ]
        },
        {
            "cell_type": "code",
            "execution_count": 100,
            "metadata": {},
            "outputs": [
                {
                    "data": {
                        "text/plain": [
                            "d    4.5\n",
                            "b    7.2\n",
                            "a   -5.3\n",
                            "c    3.6\n",
                            "dtype: float64"
                        ]
                    },
                    "execution_count": 100,
                    "metadata": {},
                    "output_type": "execute_result"
                }
            ],
            "source": [
                "obj = pd.Series([4.5, 7.2, -5.3, 3.6], index=['d', 'b', 'a', 'c'])\n",
                "obj"
            ]
        },
        {
            "cell_type": "code",
            "execution_count": 101,
            "metadata": {},
            "outputs": [
                {
                    "data": {
                        "text/plain": [
                            "a   -5.3\n",
                            "b    7.2\n",
                            "c    3.6\n",
                            "d    4.5\n",
                            "e    NaN\n",
                            "dtype: float64"
                        ]
                    },
                    "execution_count": 101,
                    "metadata": {},
                    "output_type": "execute_result"
                }
            ],
            "source": [
                "obj2 = obj.reindex(['a', 'b', 'c', 'd', 'e'])\n",
                "obj2"
            ]
        },
        {
            "cell_type": "code",
            "execution_count": 103,
            "metadata": {},
            "outputs": [
                {
                    "data": {
                        "text/plain": [
                            "a   -5.3\n",
                            "b    7.2\n",
                            "c    3.6\n",
                            "d    4.5\n",
                            "e    0.0\n",
                            "dtype: float64"
                        ]
                    },
                    "execution_count": 103,
                    "metadata": {},
                    "output_type": "execute_result"
                }
            ],
            "source": [
                "obj2 = obj.reindex(['a', 'b', 'c', 'd', 'e'], fill_value=0)\n",
                "obj2"
            ]
        },
        {
            "cell_type": "markdown",
            "metadata": {},
            "source": [
                "Dropping entries from an axis\n",
                "\n",
                "the drop method will return a new object with the indicated value or values deleted from an axis:"
            ]
        },
        {
            "cell_type": "code",
            "execution_count": 105,
            "metadata": {},
            "outputs": [
                {
                    "data": {
                        "text/plain": [
                            "a    0.0\n",
                            "b    1.0\n",
                            "c    2.0\n",
                            "d    3.0\n",
                            "e    4.0\n",
                            "dtype: float64"
                        ]
                    },
                    "execution_count": 105,
                    "metadata": {},
                    "output_type": "execute_result"
                }
            ],
            "source": [
                "obj = pd.Series(np.arange(5.), index=['a', 'b', 'c', 'd', 'e'])\n",
                "obj"
            ]
        },
        {
            "cell_type": "code",
            "execution_count": 106,
            "metadata": {},
            "outputs": [
                {
                    "data": {
                        "text/plain": [
                            "a    0.0\n",
                            "b    1.0\n",
                            "d    3.0\n",
                            "e    4.0\n",
                            "dtype: float64"
                        ]
                    },
                    "execution_count": 106,
                    "metadata": {},
                    "output_type": "execute_result"
                }
            ],
            "source": [
                "new_obj = obj.drop('c')\n",
                "\n",
                "new_obj"
            ]
        },
        {
            "cell_type": "code",
            "execution_count": 107,
            "metadata": {},
            "outputs": [
                {
                    "data": {
                        "text/plain": [
                            "a    0.0\n",
                            "b    1.0\n",
                            "e    4.0\n",
                            "dtype: float64"
                        ]
                    },
                    "execution_count": 107,
                    "metadata": {},
                    "output_type": "execute_result"
                }
            ],
            "source": [
                "obj.drop(['d','c'])"
            ]
        },
        {
            "cell_type": "code",
            "execution_count": 121,
            "metadata": {},
            "outputs": [
                {
                    "data": {
                        "text/html": [
                            "<div>\n",
                            "<style scoped>\n",
                            "    .dataframe tbody tr th:only-of-type {\n",
                            "        vertical-align: middle;\n",
                            "    }\n",
                            "\n",
                            "    .dataframe tbody tr th {\n",
                            "        vertical-align: top;\n",
                            "    }\n",
                            "\n",
                            "    .dataframe thead th {\n",
                            "        text-align: right;\n",
                            "    }\n",
                            "</style>\n",
                            "<table border=\"1\" class=\"dataframe\">\n",
                            "  <thead>\n",
                            "    <tr style=\"text-align: right;\">\n",
                            "      <th></th>\n",
                            "      <th>1</th>\n",
                            "      <th>2</th>\n",
                            "      <th>3</th>\n",
                            "      <th>4</th>\n",
                            "    </tr>\n",
                            "  </thead>\n",
                            "  <tbody>\n",
                            "    <tr>\n",
                            "      <th>Lagos</th>\n",
                            "      <td>0</td>\n",
                            "      <td>1</td>\n",
                            "      <td>2</td>\n",
                            "      <td>3</td>\n",
                            "    </tr>\n",
                            "    <tr>\n",
                            "      <th>Abuja</th>\n",
                            "      <td>4</td>\n",
                            "      <td>5</td>\n",
                            "      <td>6</td>\n",
                            "      <td>7</td>\n",
                            "    </tr>\n",
                            "    <tr>\n",
                            "      <th>Niger</th>\n",
                            "      <td>8</td>\n",
                            "      <td>9</td>\n",
                            "      <td>10</td>\n",
                            "      <td>11</td>\n",
                            "    </tr>\n",
                            "    <tr>\n",
                            "      <th>Jigawa</th>\n",
                            "      <td>12</td>\n",
                            "      <td>13</td>\n",
                            "      <td>14</td>\n",
                            "      <td>15</td>\n",
                            "    </tr>\n",
                            "  </tbody>\n",
                            "</table>\n",
                            "</div>"
                        ],
                        "text/plain": [
                            "          1   2   3   4\n",
                            "Lagos     0   1   2   3\n",
                            " Abuja    4   5   6   7\n",
                            " Niger    8   9  10  11\n",
                            " Jigawa  12  13  14  15"
                        ]
                    },
                    "execution_count": 121,
                    "metadata": {},
                    "output_type": "execute_result"
                }
            ],
            "source": [
                "data = pd.DataFrame(np.arange(16).reshape((4,4)), index = ['Lagos, Abuja, Niger, Jigawa'.split(',')], columns= ['1', '2', '3', '4'])\n",
                "data"
            ]
        },
        {
            "cell_type": "code",
            "execution_count": 122,
            "metadata": {},
            "outputs": [
                {
                    "name": "stderr",
                    "output_type": "stream",
                    "text": [
                        "C:\\Users\\Magic\\AppData\\Local\\Temp\\ipykernel_532\\2939136471.py:1: PerformanceWarning: dropping on a non-lexsorted multi-index without a level parameter may impact performance.\n",
                        "  data.drop(['Lagos'])\n"
                    ]
                },
                {
                    "data": {
                        "text/html": [
                            "<div>\n",
                            "<style scoped>\n",
                            "    .dataframe tbody tr th:only-of-type {\n",
                            "        vertical-align: middle;\n",
                            "    }\n",
                            "\n",
                            "    .dataframe tbody tr th {\n",
                            "        vertical-align: top;\n",
                            "    }\n",
                            "\n",
                            "    .dataframe thead th {\n",
                            "        text-align: right;\n",
                            "    }\n",
                            "</style>\n",
                            "<table border=\"1\" class=\"dataframe\">\n",
                            "  <thead>\n",
                            "    <tr style=\"text-align: right;\">\n",
                            "      <th></th>\n",
                            "      <th>1</th>\n",
                            "      <th>2</th>\n",
                            "      <th>3</th>\n",
                            "      <th>4</th>\n",
                            "    </tr>\n",
                            "  </thead>\n",
                            "  <tbody>\n",
                            "    <tr>\n",
                            "      <th>Abuja</th>\n",
                            "      <td>4</td>\n",
                            "      <td>5</td>\n",
                            "      <td>6</td>\n",
                            "      <td>7</td>\n",
                            "    </tr>\n",
                            "    <tr>\n",
                            "      <th>Niger</th>\n",
                            "      <td>8</td>\n",
                            "      <td>9</td>\n",
                            "      <td>10</td>\n",
                            "      <td>11</td>\n",
                            "    </tr>\n",
                            "    <tr>\n",
                            "      <th>Jigawa</th>\n",
                            "      <td>12</td>\n",
                            "      <td>13</td>\n",
                            "      <td>14</td>\n",
                            "      <td>15</td>\n",
                            "    </tr>\n",
                            "  </tbody>\n",
                            "</table>\n",
                            "</div>"
                        ],
                        "text/plain": [
                            "          1   2   3   4\n",
                            " Abuja    4   5   6   7\n",
                            " Niger    8   9  10  11\n",
                            " Jigawa  12  13  14  15"
                        ]
                    },
                    "execution_count": 122,
                    "metadata": {},
                    "output_type": "execute_result"
                }
            ],
            "source": [
                "data.drop(['Lagos'])"
            ]
        },
        {
            "cell_type": "code",
            "execution_count": 123,
            "metadata": {},
            "outputs": [
                {
                    "data": {
                        "text/html": [
                            "<div>\n",
                            "<style scoped>\n",
                            "    .dataframe tbody tr th:only-of-type {\n",
                            "        vertical-align: middle;\n",
                            "    }\n",
                            "\n",
                            "    .dataframe tbody tr th {\n",
                            "        vertical-align: top;\n",
                            "    }\n",
                            "\n",
                            "    .dataframe thead th {\n",
                            "        text-align: right;\n",
                            "    }\n",
                            "</style>\n",
                            "<table border=\"1\" class=\"dataframe\">\n",
                            "  <thead>\n",
                            "    <tr style=\"text-align: right;\">\n",
                            "      <th></th>\n",
                            "      <th>1</th>\n",
                            "      <th>2</th>\n",
                            "      <th>3</th>\n",
                            "      <th>4</th>\n",
                            "    </tr>\n",
                            "  </thead>\n",
                            "  <tbody>\n",
                            "    <tr>\n",
                            "      <th>Lagos</th>\n",
                            "      <td>0</td>\n",
                            "      <td>1</td>\n",
                            "      <td>2</td>\n",
                            "      <td>3</td>\n",
                            "    </tr>\n",
                            "    <tr>\n",
                            "      <th>Abuja</th>\n",
                            "      <td>4</td>\n",
                            "      <td>5</td>\n",
                            "      <td>6</td>\n",
                            "      <td>7</td>\n",
                            "    </tr>\n",
                            "    <tr>\n",
                            "      <th>Niger</th>\n",
                            "      <td>8</td>\n",
                            "      <td>9</td>\n",
                            "      <td>10</td>\n",
                            "      <td>11</td>\n",
                            "    </tr>\n",
                            "    <tr>\n",
                            "      <th>Jigawa</th>\n",
                            "      <td>12</td>\n",
                            "      <td>13</td>\n",
                            "      <td>14</td>\n",
                            "      <td>15</td>\n",
                            "    </tr>\n",
                            "  </tbody>\n",
                            "</table>\n",
                            "</div>"
                        ],
                        "text/plain": [
                            "          1   2   3   4\n",
                            "Lagos     0   1   2   3\n",
                            " Abuja    4   5   6   7\n",
                            " Niger    8   9  10  11\n",
                            " Jigawa  12  13  14  15"
                        ]
                    },
                    "execution_count": 123,
                    "metadata": {},
                    "output_type": "execute_result"
                }
            ],
            "source": [
                "data"
            ]
        },
        {
            "cell_type": "code",
            "execution_count": 127,
            "metadata": {},
            "outputs": [
                {
                    "data": {
                        "text/html": [
                            "<div>\n",
                            "<style scoped>\n",
                            "    .dataframe tbody tr th:only-of-type {\n",
                            "        vertical-align: middle;\n",
                            "    }\n",
                            "\n",
                            "    .dataframe tbody tr th {\n",
                            "        vertical-align: top;\n",
                            "    }\n",
                            "\n",
                            "    .dataframe thead th {\n",
                            "        text-align: right;\n",
                            "    }\n",
                            "</style>\n",
                            "<table border=\"1\" class=\"dataframe\">\n",
                            "  <thead>\n",
                            "    <tr style=\"text-align: right;\">\n",
                            "      <th></th>\n",
                            "      <th>1</th>\n",
                            "      <th>3</th>\n",
                            "      <th>4</th>\n",
                            "    </tr>\n",
                            "  </thead>\n",
                            "  <tbody>\n",
                            "    <tr>\n",
                            "      <th>Lagos</th>\n",
                            "      <td>0</td>\n",
                            "      <td>2</td>\n",
                            "      <td>3</td>\n",
                            "    </tr>\n",
                            "    <tr>\n",
                            "      <th>Abuja</th>\n",
                            "      <td>4</td>\n",
                            "      <td>6</td>\n",
                            "      <td>7</td>\n",
                            "    </tr>\n",
                            "    <tr>\n",
                            "      <th>Niger</th>\n",
                            "      <td>8</td>\n",
                            "      <td>10</td>\n",
                            "      <td>11</td>\n",
                            "    </tr>\n",
                            "    <tr>\n",
                            "      <th>Jigawa</th>\n",
                            "      <td>12</td>\n",
                            "      <td>14</td>\n",
                            "      <td>15</td>\n",
                            "    </tr>\n",
                            "  </tbody>\n",
                            "</table>\n",
                            "</div>"
                        ],
                        "text/plain": [
                            "          1   3   4\n",
                            "Lagos     0   2   3\n",
                            " Abuja    4   6   7\n",
                            " Niger    8  10  11\n",
                            " Jigawa  12  14  15"
                        ]
                    },
                    "execution_count": 127,
                    "metadata": {},
                    "output_type": "execute_result"
                }
            ],
            "source": [
                "# data.drop(columns= '2')\n",
                "data.drop(['2'], axis = 1)"
            ]
        },
        {
            "cell_type": "markdown",
            "metadata": {},
            "source": [
                "Indexing, selection, and filtering"
            ]
        },
        {
            "cell_type": "code",
            "execution_count": 132,
            "metadata": {},
            "outputs": [
                {
                    "name": "stdout",
                    "output_type": "stream",
                    "text": [
                        "Lagos       1\n",
                        " Abuja      5\n",
                        " Niger      9\n",
                        " Jigawa    13\n",
                        "Name: 2, dtype: int32\n"
                    ]
                },
                {
                    "data": {
                        "text/html": [
                            "<div>\n",
                            "<style scoped>\n",
                            "    .dataframe tbody tr th:only-of-type {\n",
                            "        vertical-align: middle;\n",
                            "    }\n",
                            "\n",
                            "    .dataframe tbody tr th {\n",
                            "        vertical-align: top;\n",
                            "    }\n",
                            "\n",
                            "    .dataframe thead th {\n",
                            "        text-align: right;\n",
                            "    }\n",
                            "</style>\n",
                            "<table border=\"1\" class=\"dataframe\">\n",
                            "  <thead>\n",
                            "    <tr style=\"text-align: right;\">\n",
                            "      <th></th>\n",
                            "      <th>2</th>\n",
                            "      <th>4</th>\n",
                            "    </tr>\n",
                            "  </thead>\n",
                            "  <tbody>\n",
                            "    <tr>\n",
                            "      <th>Lagos</th>\n",
                            "      <td>1</td>\n",
                            "      <td>3</td>\n",
                            "    </tr>\n",
                            "    <tr>\n",
                            "      <th>Abuja</th>\n",
                            "      <td>5</td>\n",
                            "      <td>7</td>\n",
                            "    </tr>\n",
                            "    <tr>\n",
                            "      <th>Niger</th>\n",
                            "      <td>9</td>\n",
                            "      <td>11</td>\n",
                            "    </tr>\n",
                            "    <tr>\n",
                            "      <th>Jigawa</th>\n",
                            "      <td>13</td>\n",
                            "      <td>15</td>\n",
                            "    </tr>\n",
                            "  </tbody>\n",
                            "</table>\n",
                            "</div>"
                        ],
                        "text/plain": [
                            "          2   4\n",
                            "Lagos     1   3\n",
                            " Abuja    5   7\n",
                            " Niger    9  11\n",
                            " Jigawa  13  15"
                        ]
                    },
                    "execution_count": 132,
                    "metadata": {},
                    "output_type": "execute_result"
                }
            ],
            "source": [
                "# Indexing\n",
                "print(data['2'])\n",
                "data[['2','4']]"
            ]
        },
        {
            "cell_type": "code",
            "execution_count": 133,
            "metadata": {},
            "outputs": [
                {
                    "data": {
                        "text/html": [
                            "<div>\n",
                            "<style scoped>\n",
                            "    .dataframe tbody tr th:only-of-type {\n",
                            "        vertical-align: middle;\n",
                            "    }\n",
                            "\n",
                            "    .dataframe tbody tr th {\n",
                            "        vertical-align: top;\n",
                            "    }\n",
                            "\n",
                            "    .dataframe thead th {\n",
                            "        text-align: right;\n",
                            "    }\n",
                            "</style>\n",
                            "<table border=\"1\" class=\"dataframe\">\n",
                            "  <thead>\n",
                            "    <tr style=\"text-align: right;\">\n",
                            "      <th></th>\n",
                            "      <th>1</th>\n",
                            "      <th>2</th>\n",
                            "      <th>3</th>\n",
                            "      <th>4</th>\n",
                            "    </tr>\n",
                            "  </thead>\n",
                            "  <tbody>\n",
                            "    <tr>\n",
                            "      <th>Lagos</th>\n",
                            "      <td>0</td>\n",
                            "      <td>1</td>\n",
                            "      <td>2</td>\n",
                            "      <td>3</td>\n",
                            "    </tr>\n",
                            "    <tr>\n",
                            "      <th>Abuja</th>\n",
                            "      <td>4</td>\n",
                            "      <td>5</td>\n",
                            "      <td>6</td>\n",
                            "      <td>7</td>\n",
                            "    </tr>\n",
                            "  </tbody>\n",
                            "</table>\n",
                            "</div>"
                        ],
                        "text/plain": [
                            "        1  2  3  4\n",
                            "Lagos   0  1  2  3\n",
                            " Abuja  4  5  6  7"
                        ]
                    },
                    "execution_count": 133,
                    "metadata": {},
                    "output_type": "execute_result"
                }
            ],
            "source": [
                "data[:2]"
            ]
        },
        {
            "cell_type": "code",
            "execution_count": 135,
            "metadata": {},
            "outputs": [
                {
                    "data": {
                        "text/html": [
                            "<div>\n",
                            "<style scoped>\n",
                            "    .dataframe tbody tr th:only-of-type {\n",
                            "        vertical-align: middle;\n",
                            "    }\n",
                            "\n",
                            "    .dataframe tbody tr th {\n",
                            "        vertical-align: top;\n",
                            "    }\n",
                            "\n",
                            "    .dataframe thead th {\n",
                            "        text-align: right;\n",
                            "    }\n",
                            "</style>\n",
                            "<table border=\"1\" class=\"dataframe\">\n",
                            "  <thead>\n",
                            "    <tr style=\"text-align: right;\">\n",
                            "      <th></th>\n",
                            "      <th>1</th>\n",
                            "      <th>2</th>\n",
                            "      <th>3</th>\n",
                            "      <th>4</th>\n",
                            "    </tr>\n",
                            "  </thead>\n",
                            "  <tbody>\n",
                            "    <tr>\n",
                            "      <th>Lagos</th>\n",
                            "      <td>0</td>\n",
                            "      <td>1</td>\n",
                            "      <td>2</td>\n",
                            "      <td>3</td>\n",
                            "    </tr>\n",
                            "    <tr>\n",
                            "      <th>Abuja</th>\n",
                            "      <td>4</td>\n",
                            "      <td>5</td>\n",
                            "      <td>6</td>\n",
                            "      <td>7</td>\n",
                            "    </tr>\n",
                            "    <tr>\n",
                            "      <th>Niger</th>\n",
                            "      <td>8</td>\n",
                            "      <td>9</td>\n",
                            "      <td>10</td>\n",
                            "      <td>11</td>\n",
                            "    </tr>\n",
                            "    <tr>\n",
                            "      <th>Jigawa</th>\n",
                            "      <td>12</td>\n",
                            "      <td>13</td>\n",
                            "      <td>14</td>\n",
                            "      <td>15</td>\n",
                            "    </tr>\n",
                            "  </tbody>\n",
                            "</table>\n",
                            "</div>"
                        ],
                        "text/plain": [
                            "          1   2   3   4\n",
                            "Lagos     0   1   2   3\n",
                            " Abuja    4   5   6   7\n",
                            " Niger    8   9  10  11\n",
                            " Jigawa  12  13  14  15"
                        ]
                    },
                    "execution_count": 135,
                    "metadata": {},
                    "output_type": "execute_result"
                }
            ],
            "source": [
                "data"
            ]
        },
        {
            "cell_type": "code",
            "execution_count": 146,
            "metadata": {},
            "outputs": [
                {
                    "data": {
                        "text/html": [
                            "<div>\n",
                            "<style scoped>\n",
                            "    .dataframe tbody tr th:only-of-type {\n",
                            "        vertical-align: middle;\n",
                            "    }\n",
                            "\n",
                            "    .dataframe tbody tr th {\n",
                            "        vertical-align: top;\n",
                            "    }\n",
                            "\n",
                            "    .dataframe thead th {\n",
                            "        text-align: right;\n",
                            "    }\n",
                            "</style>\n",
                            "<table border=\"1\" class=\"dataframe\">\n",
                            "  <thead>\n",
                            "    <tr style=\"text-align: right;\">\n",
                            "      <th></th>\n",
                            "      <th>1</th>\n",
                            "      <th>2</th>\n",
                            "      <th>3</th>\n",
                            "      <th>4</th>\n",
                            "    </tr>\n",
                            "  </thead>\n",
                            "  <tbody>\n",
                            "    <tr>\n",
                            "      <th>Lagos</th>\n",
                            "      <td>0</td>\n",
                            "      <td>1</td>\n",
                            "      <td>2</td>\n",
                            "      <td>3</td>\n",
                            "    </tr>\n",
                            "    <tr>\n",
                            "      <th>Abuja</th>\n",
                            "      <td>4</td>\n",
                            "      <td>5</td>\n",
                            "      <td>0</td>\n",
                            "      <td>0</td>\n",
                            "    </tr>\n",
                            "    <tr>\n",
                            "      <th>Niger</th>\n",
                            "      <td>0</td>\n",
                            "      <td>0</td>\n",
                            "      <td>0</td>\n",
                            "      <td>0</td>\n",
                            "    </tr>\n",
                            "    <tr>\n",
                            "      <th>Jigawa</th>\n",
                            "      <td>0</td>\n",
                            "      <td>0</td>\n",
                            "      <td>0</td>\n",
                            "      <td>0</td>\n",
                            "    </tr>\n",
                            "  </tbody>\n",
                            "</table>\n",
                            "</div>"
                        ],
                        "text/plain": [
                            "         1  2  3  4\n",
                            "Lagos    0  1  2  3\n",
                            " Abuja   4  5  0  0\n",
                            " Niger   0  0  0  0\n",
                            " Jigawa  0  0  0  0"
                        ]
                    },
                    "execution_count": 146,
                    "metadata": {},
                    "output_type": "execute_result"
                }
            ],
            "source": [
                "data[data > 5] = 0\n",
                "data"
            ]
        },
        {
            "cell_type": "code",
            "execution_count": 144,
            "metadata": {},
            "outputs": [
                {
                    "data": {
                        "text/html": [
                            "<div>\n",
                            "<style scoped>\n",
                            "    .dataframe tbody tr th:only-of-type {\n",
                            "        vertical-align: middle;\n",
                            "    }\n",
                            "\n",
                            "    .dataframe tbody tr th {\n",
                            "        vertical-align: top;\n",
                            "    }\n",
                            "\n",
                            "    .dataframe thead th {\n",
                            "        text-align: right;\n",
                            "    }\n",
                            "</style>\n",
                            "<table border=\"1\" class=\"dataframe\">\n",
                            "  <thead>\n",
                            "    <tr style=\"text-align: right;\">\n",
                            "      <th></th>\n",
                            "      <th>1</th>\n",
                            "      <th>2</th>\n",
                            "      <th>3</th>\n",
                            "      <th>4</th>\n",
                            "    </tr>\n",
                            "  </thead>\n",
                            "  <tbody>\n",
                            "    <tr>\n",
                            "      <th>Abuja</th>\n",
                            "      <td>4</td>\n",
                            "      <td>5</td>\n",
                            "      <td>6</td>\n",
                            "      <td>7</td>\n",
                            "    </tr>\n",
                            "    <tr>\n",
                            "      <th>Niger</th>\n",
                            "      <td>8</td>\n",
                            "      <td>9</td>\n",
                            "      <td>10</td>\n",
                            "      <td>11</td>\n",
                            "    </tr>\n",
                            "    <tr>\n",
                            "      <th>Jigawa</th>\n",
                            "      <td>12</td>\n",
                            "      <td>13</td>\n",
                            "      <td>14</td>\n",
                            "      <td>15</td>\n",
                            "    </tr>\n",
                            "  </tbody>\n",
                            "</table>\n",
                            "</div>"
                        ],
                        "text/plain": [
                            "          1   2   3   4\n",
                            " Abuja    4   5   6   7\n",
                            " Niger    8   9  10  11\n",
                            " Jigawa  12  13  14  15"
                        ]
                    },
                    "execution_count": 144,
                    "metadata": {},
                    "output_type": "execute_result"
                }
            ],
            "source": [
                "data[data['2'] >= 5]"
            ]
        },
        {
            "cell_type": "code",
            "execution_count": 2,
            "metadata": {},
            "outputs": [
                {
                    "data": {
                        "text/html": [
                            "<div>\n",
                            "<style scoped>\n",
                            "    .dataframe tbody tr th:only-of-type {\n",
                            "        vertical-align: middle;\n",
                            "    }\n",
                            "\n",
                            "    .dataframe tbody tr th {\n",
                            "        vertical-align: top;\n",
                            "    }\n",
                            "\n",
                            "    .dataframe thead th {\n",
                            "        text-align: right;\n",
                            "    }\n",
                            "</style>\n",
                            "<table border=\"1\" class=\"dataframe\">\n",
                            "  <thead>\n",
                            "    <tr style=\"text-align: right;\">\n",
                            "      <th></th>\n",
                            "      <th>Year</th>\n",
                            "      <th>Industry_aggregation_NZSIOC</th>\n",
                            "      <th>Industry_code_NZSIOC</th>\n",
                            "      <th>Industry_name_NZSIOC</th>\n",
                            "      <th>Units</th>\n",
                            "      <th>Variable_code</th>\n",
                            "      <th>Variable_name</th>\n",
                            "      <th>Variable_category</th>\n",
                            "      <th>Value</th>\n",
                            "      <th>Industry_code_ANZSIC06</th>\n",
                            "    </tr>\n",
                            "  </thead>\n",
                            "  <tbody>\n",
                            "    <tr>\n",
                            "      <th>0</th>\n",
                            "      <td>2020</td>\n",
                            "      <td>Level 1</td>\n",
                            "      <td>99999</td>\n",
                            "      <td>All industries</td>\n",
                            "      <td>Dollars (millions)</td>\n",
                            "      <td>H01</td>\n",
                            "      <td>Total income</td>\n",
                            "      <td>Financial performance</td>\n",
                            "      <td>733,258</td>\n",
                            "      <td>ANZSIC06 divisions A-S (excluding classes K633...</td>\n",
                            "    </tr>\n",
                            "    <tr>\n",
                            "      <th>1</th>\n",
                            "      <td>2020</td>\n",
                            "      <td>Level 1</td>\n",
                            "      <td>99999</td>\n",
                            "      <td>All industries</td>\n",
                            "      <td>Dollars (millions)</td>\n",
                            "      <td>H04</td>\n",
                            "      <td>Sales, government funding, grants and subsidies</td>\n",
                            "      <td>Financial performance</td>\n",
                            "      <td>660,630</td>\n",
                            "      <td>ANZSIC06 divisions A-S (excluding classes K633...</td>\n",
                            "    </tr>\n",
                            "    <tr>\n",
                            "      <th>2</th>\n",
                            "      <td>2020</td>\n",
                            "      <td>Level 1</td>\n",
                            "      <td>99999</td>\n",
                            "      <td>All industries</td>\n",
                            "      <td>Dollars (millions)</td>\n",
                            "      <td>H05</td>\n",
                            "      <td>Interest, dividends and donations</td>\n",
                            "      <td>Financial performance</td>\n",
                            "      <td>54,342</td>\n",
                            "      <td>ANZSIC06 divisions A-S (excluding classes K633...</td>\n",
                            "    </tr>\n",
                            "    <tr>\n",
                            "      <th>3</th>\n",
                            "      <td>2020</td>\n",
                            "      <td>Level 1</td>\n",
                            "      <td>99999</td>\n",
                            "      <td>All industries</td>\n",
                            "      <td>Dollars (millions)</td>\n",
                            "      <td>H07</td>\n",
                            "      <td>Non-operating income</td>\n",
                            "      <td>Financial performance</td>\n",
                            "      <td>18,285</td>\n",
                            "      <td>ANZSIC06 divisions A-S (excluding classes K633...</td>\n",
                            "    </tr>\n",
                            "    <tr>\n",
                            "      <th>4</th>\n",
                            "      <td>2020</td>\n",
                            "      <td>Level 1</td>\n",
                            "      <td>99999</td>\n",
                            "      <td>All industries</td>\n",
                            "      <td>Dollars (millions)</td>\n",
                            "      <td>H08</td>\n",
                            "      <td>Total expenditure</td>\n",
                            "      <td>Financial performance</td>\n",
                            "      <td>654,872</td>\n",
                            "      <td>ANZSIC06 divisions A-S (excluding classes K633...</td>\n",
                            "    </tr>\n",
                            "    <tr>\n",
                            "      <th>...</th>\n",
                            "      <td>...</td>\n",
                            "      <td>...</td>\n",
                            "      <td>...</td>\n",
                            "      <td>...</td>\n",
                            "      <td>...</td>\n",
                            "      <td>...</td>\n",
                            "      <td>...</td>\n",
                            "      <td>...</td>\n",
                            "      <td>...</td>\n",
                            "      <td>...</td>\n",
                            "    </tr>\n",
                            "    <tr>\n",
                            "      <th>37075</th>\n",
                            "      <td>2013</td>\n",
                            "      <td>Level 3</td>\n",
                            "      <td>ZZ11</td>\n",
                            "      <td>Food product manufacturing</td>\n",
                            "      <td>Percentage</td>\n",
                            "      <td>H37</td>\n",
                            "      <td>Quick ratio</td>\n",
                            "      <td>Financial ratios</td>\n",
                            "      <td>52</td>\n",
                            "      <td>ANZSIC06 groups C111, C112, C113, C114, C115, ...</td>\n",
                            "    </tr>\n",
                            "    <tr>\n",
                            "      <th>37076</th>\n",
                            "      <td>2013</td>\n",
                            "      <td>Level 3</td>\n",
                            "      <td>ZZ11</td>\n",
                            "      <td>Food product manufacturing</td>\n",
                            "      <td>Percentage</td>\n",
                            "      <td>H38</td>\n",
                            "      <td>Margin on sales of goods for resale</td>\n",
                            "      <td>Financial ratios</td>\n",
                            "      <td>40</td>\n",
                            "      <td>ANZSIC06 groups C111, C112, C113, C114, C115, ...</td>\n",
                            "    </tr>\n",
                            "    <tr>\n",
                            "      <th>37077</th>\n",
                            "      <td>2013</td>\n",
                            "      <td>Level 3</td>\n",
                            "      <td>ZZ11</td>\n",
                            "      <td>Food product manufacturing</td>\n",
                            "      <td>Percentage</td>\n",
                            "      <td>H39</td>\n",
                            "      <td>Return on equity</td>\n",
                            "      <td>Financial ratios</td>\n",
                            "      <td>12</td>\n",
                            "      <td>ANZSIC06 groups C111, C112, C113, C114, C115, ...</td>\n",
                            "    </tr>\n",
                            "    <tr>\n",
                            "      <th>37078</th>\n",
                            "      <td>2013</td>\n",
                            "      <td>Level 3</td>\n",
                            "      <td>ZZ11</td>\n",
                            "      <td>Food product manufacturing</td>\n",
                            "      <td>Percentage</td>\n",
                            "      <td>H40</td>\n",
                            "      <td>Return on total assets</td>\n",
                            "      <td>Financial ratios</td>\n",
                            "      <td>5</td>\n",
                            "      <td>ANZSIC06 groups C111, C112, C113, C114, C115, ...</td>\n",
                            "    </tr>\n",
                            "    <tr>\n",
                            "      <th>37079</th>\n",
                            "      <td>2013</td>\n",
                            "      <td>Level 3</td>\n",
                            "      <td>ZZ11</td>\n",
                            "      <td>Food product manufacturing</td>\n",
                            "      <td>Percentage</td>\n",
                            "      <td>H41</td>\n",
                            "      <td>Liabilities structure</td>\n",
                            "      <td>Financial ratios</td>\n",
                            "      <td>46</td>\n",
                            "      <td>ANZSIC06 groups C111, C112, C113, C114, C115, ...</td>\n",
                            "    </tr>\n",
                            "  </tbody>\n",
                            "</table>\n",
                            "<p>37080 rows × 10 columns</p>\n",
                            "</div>"
                        ],
                        "text/plain": [
                            "       Year Industry_aggregation_NZSIOC Industry_code_NZSIOC  \\\n",
                            "0      2020                     Level 1                99999   \n",
                            "1      2020                     Level 1                99999   \n",
                            "2      2020                     Level 1                99999   \n",
                            "3      2020                     Level 1                99999   \n",
                            "4      2020                     Level 1                99999   \n",
                            "...     ...                         ...                  ...   \n",
                            "37075  2013                     Level 3                 ZZ11   \n",
                            "37076  2013                     Level 3                 ZZ11   \n",
                            "37077  2013                     Level 3                 ZZ11   \n",
                            "37078  2013                     Level 3                 ZZ11   \n",
                            "37079  2013                     Level 3                 ZZ11   \n",
                            "\n",
                            "             Industry_name_NZSIOC               Units Variable_code  \\\n",
                            "0                  All industries  Dollars (millions)           H01   \n",
                            "1                  All industries  Dollars (millions)           H04   \n",
                            "2                  All industries  Dollars (millions)           H05   \n",
                            "3                  All industries  Dollars (millions)           H07   \n",
                            "4                  All industries  Dollars (millions)           H08   \n",
                            "...                           ...                 ...           ...   \n",
                            "37075  Food product manufacturing          Percentage           H37   \n",
                            "37076  Food product manufacturing          Percentage           H38   \n",
                            "37077  Food product manufacturing          Percentage           H39   \n",
                            "37078  Food product manufacturing          Percentage           H40   \n",
                            "37079  Food product manufacturing          Percentage           H41   \n",
                            "\n",
                            "                                         Variable_name      Variable_category  \\\n",
                            "0                                         Total income  Financial performance   \n",
                            "1      Sales, government funding, grants and subsidies  Financial performance   \n",
                            "2                    Interest, dividends and donations  Financial performance   \n",
                            "3                                 Non-operating income  Financial performance   \n",
                            "4                                    Total expenditure  Financial performance   \n",
                            "...                                                ...                    ...   \n",
                            "37075                                      Quick ratio       Financial ratios   \n",
                            "37076              Margin on sales of goods for resale       Financial ratios   \n",
                            "37077                                 Return on equity       Financial ratios   \n",
                            "37078                           Return on total assets       Financial ratios   \n",
                            "37079                            Liabilities structure       Financial ratios   \n",
                            "\n",
                            "         Value                             Industry_code_ANZSIC06  \n",
                            "0      733,258  ANZSIC06 divisions A-S (excluding classes K633...  \n",
                            "1      660,630  ANZSIC06 divisions A-S (excluding classes K633...  \n",
                            "2       54,342  ANZSIC06 divisions A-S (excluding classes K633...  \n",
                            "3       18,285  ANZSIC06 divisions A-S (excluding classes K633...  \n",
                            "4      654,872  ANZSIC06 divisions A-S (excluding classes K633...  \n",
                            "...        ...                                                ...  \n",
                            "37075       52  ANZSIC06 groups C111, C112, C113, C114, C115, ...  \n",
                            "37076       40  ANZSIC06 groups C111, C112, C113, C114, C115, ...  \n",
                            "37077       12  ANZSIC06 groups C111, C112, C113, C114, C115, ...  \n",
                            "37078        5  ANZSIC06 groups C111, C112, C113, C114, C115, ...  \n",
                            "37079       46  ANZSIC06 groups C111, C112, C113, C114, C115, ...  \n",
                            "\n",
                            "[37080 rows x 10 columns]"
                        ]
                    },
                    "execution_count": 2,
                    "metadata": {},
                    "output_type": "execute_result"
                }
            ],
            "source": [
                "import pandas as pd\n",
                "pd.read_csv('survey.csv')\n"
            ]
        },
        {
            "cell_type": "code",
            "execution_count": 3,
            "metadata": {},
            "outputs": [
                {
                    "data": {
                        "text/html": [
                            "<div>\n",
                            "<style scoped>\n",
                            "    .dataframe tbody tr th:only-of-type {\n",
                            "        vertical-align: middle;\n",
                            "    }\n",
                            "\n",
                            "    .dataframe tbody tr th {\n",
                            "        vertical-align: top;\n",
                            "    }\n",
                            "\n",
                            "    .dataframe thead th {\n",
                            "        text-align: right;\n",
                            "    }\n",
                            "</style>\n",
                            "<table border=\"1\" class=\"dataframe\">\n",
                            "  <thead>\n",
                            "    <tr style=\"text-align: right;\">\n",
                            "      <th></th>\n",
                            "      <th>gender</th>\n",
                            "      <th>race/ethnicity</th>\n",
                            "      <th>parental level of education</th>\n",
                            "      <th>lunch</th>\n",
                            "      <th>test preparation course</th>\n",
                            "      <th>math score</th>\n",
                            "      <th>reading score</th>\n",
                            "      <th>writing score</th>\n",
                            "    </tr>\n",
                            "  </thead>\n",
                            "  <tbody>\n",
                            "    <tr>\n",
                            "      <th>0</th>\n",
                            "      <td>male</td>\n",
                            "      <td>group B</td>\n",
                            "      <td>bachelor's degree</td>\n",
                            "      <td>standard</td>\n",
                            "      <td>none</td>\n",
                            "      <td>74</td>\n",
                            "      <td>68</td>\n",
                            "      <td>67</td>\n",
                            "    </tr>\n",
                            "    <tr>\n",
                            "      <th>1</th>\n",
                            "      <td>female</td>\n",
                            "      <td>group C</td>\n",
                            "      <td>some college</td>\n",
                            "      <td>standard</td>\n",
                            "      <td>completed</td>\n",
                            "      <td>58</td>\n",
                            "      <td>68</td>\n",
                            "      <td>66</td>\n",
                            "    </tr>\n",
                            "    <tr>\n",
                            "      <th>2</th>\n",
                            "      <td>male</td>\n",
                            "      <td>group C</td>\n",
                            "      <td>some college</td>\n",
                            "      <td>free/reduced</td>\n",
                            "      <td>none</td>\n",
                            "      <td>66</td>\n",
                            "      <td>65</td>\n",
                            "      <td>65</td>\n",
                            "    </tr>\n",
                            "    <tr>\n",
                            "      <th>3</th>\n",
                            "      <td>female</td>\n",
                            "      <td>group D</td>\n",
                            "      <td>bachelor's degree</td>\n",
                            "      <td>free/reduced</td>\n",
                            "      <td>none</td>\n",
                            "      <td>74</td>\n",
                            "      <td>75</td>\n",
                            "      <td>73</td>\n",
                            "    </tr>\n",
                            "    <tr>\n",
                            "      <th>4</th>\n",
                            "      <td>male</td>\n",
                            "      <td>group D</td>\n",
                            "      <td>some college</td>\n",
                            "      <td>standard</td>\n",
                            "      <td>none</td>\n",
                            "      <td>78</td>\n",
                            "      <td>77</td>\n",
                            "      <td>71</td>\n",
                            "    </tr>\n",
                            "    <tr>\n",
                            "      <th>...</th>\n",
                            "      <td>...</td>\n",
                            "      <td>...</td>\n",
                            "      <td>...</td>\n",
                            "      <td>...</td>\n",
                            "      <td>...</td>\n",
                            "      <td>...</td>\n",
                            "      <td>...</td>\n",
                            "      <td>...</td>\n",
                            "    </tr>\n",
                            "    <tr>\n",
                            "      <th>995</th>\n",
                            "      <td>female</td>\n",
                            "      <td>group C</td>\n",
                            "      <td>some high school</td>\n",
                            "      <td>standard</td>\n",
                            "      <td>none</td>\n",
                            "      <td>68</td>\n",
                            "      <td>77</td>\n",
                            "      <td>72</td>\n",
                            "    </tr>\n",
                            "    <tr>\n",
                            "      <th>996</th>\n",
                            "      <td>female</td>\n",
                            "      <td>group E</td>\n",
                            "      <td>some college</td>\n",
                            "      <td>standard</td>\n",
                            "      <td>none</td>\n",
                            "      <td>98</td>\n",
                            "      <td>81</td>\n",
                            "      <td>94</td>\n",
                            "    </tr>\n",
                            "    <tr>\n",
                            "      <th>997</th>\n",
                            "      <td>female</td>\n",
                            "      <td>group E</td>\n",
                            "      <td>associate's degree</td>\n",
                            "      <td>free/reduced</td>\n",
                            "      <td>none</td>\n",
                            "      <td>67</td>\n",
                            "      <td>67</td>\n",
                            "      <td>67</td>\n",
                            "    </tr>\n",
                            "    <tr>\n",
                            "      <th>998</th>\n",
                            "      <td>female</td>\n",
                            "      <td>group C</td>\n",
                            "      <td>high school</td>\n",
                            "      <td>standard</td>\n",
                            "      <td>none</td>\n",
                            "      <td>63</td>\n",
                            "      <td>68</td>\n",
                            "      <td>70</td>\n",
                            "    </tr>\n",
                            "    <tr>\n",
                            "      <th>999</th>\n",
                            "      <td>male</td>\n",
                            "      <td>group C</td>\n",
                            "      <td>some college</td>\n",
                            "      <td>free/reduced</td>\n",
                            "      <td>none</td>\n",
                            "      <td>49</td>\n",
                            "      <td>57</td>\n",
                            "      <td>50</td>\n",
                            "    </tr>\n",
                            "  </tbody>\n",
                            "</table>\n",
                            "<p>1000 rows × 8 columns</p>\n",
                            "</div>"
                        ],
                        "text/plain": [
                            "     gender race/ethnicity parental level of education         lunch  \\\n",
                            "0      male        group B           bachelor's degree      standard   \n",
                            "1    female        group C                some college      standard   \n",
                            "2      male        group C                some college  free/reduced   \n",
                            "3    female        group D           bachelor's degree  free/reduced   \n",
                            "4      male        group D                some college      standard   \n",
                            "..      ...            ...                         ...           ...   \n",
                            "995  female        group C            some high school      standard   \n",
                            "996  female        group E                some college      standard   \n",
                            "997  female        group E          associate's degree  free/reduced   \n",
                            "998  female        group C                 high school      standard   \n",
                            "999    male        group C                some college  free/reduced   \n",
                            "\n",
                            "    test preparation course  math score  reading score  writing score  \n",
                            "0                      none          74             68             67  \n",
                            "1                 completed          58             68             66  \n",
                            "2                      none          66             65             65  \n",
                            "3                      none          74             75             73  \n",
                            "4                      none          78             77             71  \n",
                            "..                      ...         ...            ...            ...  \n",
                            "995                    none          68             77             72  \n",
                            "996                    none          98             81             94  \n",
                            "997                    none          67             67             67  \n",
                            "998                    none          63             68             70  \n",
                            "999                    none          49             57             50  \n",
                            "\n",
                            "[1000 rows x 8 columns]"
                        ]
                    },
                    "execution_count": 3,
                    "metadata": {},
                    "output_type": "execute_result"
                }
            ],
            "source": [
                "pd.read_csv('https://raw.githubusercontent.com/dphi-official/Datasets/master/exam_scores.csv')\n"
            ]
        },
        {
            "cell_type": "code",
            "execution_count": 4,
            "metadata": {},
            "outputs": [
                {
                    "ename": "NameError",
                    "evalue": "name 'exam_scores' is not defined",
                    "output_type": "error",
                    "traceback": [
                        "\u001b[1;31m---------------------------------------------------------------------------\u001b[0m",
                        "\u001b[1;31mNameError\u001b[0m                                 Traceback (most recent call last)",
                        "\u001b[1;32mc:\\Users\\Magic\\OneDrive\\Documents\\all vscode\\Data_Science_Bootcamp\\test\\first_pandas.ipynb Cell 58\u001b[0m in \u001b[0;36m<cell line: 1>\u001b[1;34m()\u001b[0m\n\u001b[1;32m----> <a href='vscode-notebook-cell:/c%3A/Users/Magic/OneDrive/Documents/all%20vscode/Data_Science_Bootcamp/test/first_pandas.ipynb#Y111sZmlsZQ%3D%3D?line=0'>1</a>\u001b[0m exam_scores\u001b[39m.\u001b[39mshape\n",
                        "\u001b[1;31mNameError\u001b[0m: name 'exam_scores' is not defined"
                    ]
                }
            ],
            "source": [
                "exam_scores.shape"
            ]
        },
        {
            "cell_type": "code",
            "execution_count": null,
            "metadata": {},
            "outputs": [],
            "source": []
        }
    ],
    "metadata": {
        "kernelspec": {
            "display_name": "Python 3.10.2 ('.venv')",
            "language": "python",
            "name": "python3"
        },
        "language_info": {
            "codemirror_mode": {
                "name": "ipython",
                "version": 3
            },
            "file_extension": ".py",
            "mimetype": "text/x-python",
            "name": "python",
            "nbconvert_exporter": "python",
            "pygments_lexer": "ipython3",
            "version": "3.10.2"
        },
        "orig_nbformat": 4,
        "vscode": {
            "interpreter": {
                "hash": "cc70e69b2eb01b3619eb73a67fad1bc02665fec0193be6ce22ae2979f64c8272"
            }
        }
    },
    "nbformat": 4,
    "nbformat_minor": 2
}
