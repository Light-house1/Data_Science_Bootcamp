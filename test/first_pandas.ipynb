{
    "cells": [
        {
            "cell_type": "code",
            "execution_count": 3,
            "metadata": {},
            "outputs": [],
            "source": [
                "import pandas as pd"
            ]
        },
        {
            "cell_type": "code",
            "execution_count": 5,
            "metadata": {},
            "outputs": [
                {
                    "data": {
                        "text/plain": [
                            "0    4\n",
                            "1    7\n",
                            "2   -5\n",
                            "3    3\n",
                            "dtype: int64"
                        ]
                    },
                    "execution_count": 5,
                    "metadata": {},
                    "output_type": "execute_result"
                }
            ],
            "source": [
                "obj = pd.Series([4,7,-5,3])\n",
                "\n",
                "obj"
            ]
        },
        {
            "cell_type": "code",
            "execution_count": 8,
            "metadata": {},
            "outputs": [
                {
                    "name": "stdout",
                    "output_type": "stream",
                    "text": [
                        "RangeIndex(start=0, stop=4, step=1)\n"
                    ]
                }
            ],
            "source": [
                "obj.values\n",
                "print(obj.index)"
            ]
        },
        {
            "cell_type": "code",
            "execution_count": 10,
            "metadata": {},
            "outputs": [
                {
                    "data": {
                        "text/plain": [
                            "Index(['d', 'b', 'a', 'c'], dtype='object')"
                        ]
                    },
                    "execution_count": 10,
                    "metadata": {},
                    "output_type": "execute_result"
                }
            ],
            "source": [
                "obj2 = pd.Series([4,7,-5,3], index = ['d','b','a','c'])\n",
                "obj2.index"
            ]
        },
        {
            "cell_type": "code",
            "execution_count": 13,
            "metadata": {},
            "outputs": [
                {
                    "data": {
                        "text/plain": [
                            "a   -5\n",
                            "d    4\n",
                            "c    3\n",
                            "dtype: int64"
                        ]
                    },
                    "execution_count": 13,
                    "metadata": {},
                    "output_type": "execute_result"
                }
            ],
            "source": [
                "obj2[['a','d','c']]"
            ]
        },
        {
            "cell_type": "code",
            "execution_count": 15,
            "metadata": {},
            "outputs": [
                {
                    "data": {
                        "text/plain": [
                            "True"
                        ]
                    },
                    "execution_count": 15,
                    "metadata": {},
                    "output_type": "execute_result"
                }
            ],
            "source": [
                "'a' in obj2"
            ]
        },
        {
            "cell_type": "code",
            "execution_count": 28,
            "metadata": {},
            "outputs": [
                {
                    "data": {
                        "text/plain": [
                            "Lagos      35000\n",
                            "Texas     71000\n",
                            "Oregon    16000\n",
                            "Utah       5000\n",
                            "dtype: int64"
                        ]
                    },
                    "execution_count": 28,
                    "metadata": {},
                    "output_type": "execute_result"
                }
            ],
            "source": [
                "sdata = {'Lagos': 35000, 'Texas': 71000, 'Oregon': 16000, 'Utah': 5000}\n",
                "obj3 = pd.Series(sdata)\n",
                "obj3"
            ]
        },
        {
            "cell_type": "code",
            "execution_count": 29,
            "metadata": {},
            "outputs": [
                {
                    "data": {
                        "text/plain": [
                            "California        NaN\n",
                            "Lagos          35000.0\n",
                            "Oregon        16000.0\n",
                            "Texas         71000.0\n",
                            "Utah           5000.0\n",
                            "dtype: float64"
                        ]
                    },
                    "execution_count": 29,
                    "metadata": {},
                    "output_type": "execute_result"
                }
            ],
            "source": [
                "states = ['California', 'Lagos', 'Oregon', 'Texas', 'Utah']\n",
                "obj4 = pd.Series(sdata, index=states)\n",
                "obj4\n"
            ]
        },
        {
            "cell_type": "code",
            "execution_count": 34,
            "metadata": {},
            "outputs": [
                {
                    "data": {
                        "text/plain": [
                            "California        NaN\n",
                            "Lagos          65000.0\n",
                            "Oregon        16000.0\n",
                            "Texas         71000.0\n",
                            "Utah           5000.0\n",
                            "dtype: float64"
                        ]
                    },
                    "execution_count": 34,
                    "metadata": {},
                    "output_type": "execute_result"
                }
            ],
            "source": [
                "obj4['Lagos'] = 65000\n",
                "\n",
                "obj4"
            ]
        },
        {
            "cell_type": "code",
            "execution_count": 27,
            "metadata": {},
            "outputs": [
                {
                    "data": {
                        "text/plain": [
                            "California    False\n",
                            "Lagos           True\n",
                            "Oregon         True\n",
                            "Texas          True\n",
                            "Utah           True\n",
                            "dtype: bool"
                        ]
                    },
                    "execution_count": 27,
                    "metadata": {},
                    "output_type": "execute_result"
                }
            ],
            "source": [
                "# pd.isnull(obj3)\n",
                "\n",
                "pd.notnull(obj3)\n"
            ]
        },
        {
            "cell_type": "code",
            "execution_count": 25,
            "metadata": {},
            "outputs": [
                {
                    "data": {
                        "text/plain": [
                            "California     True\n",
                            "Lagos          False\n",
                            "Oregon        False\n",
                            "Texas         False\n",
                            "Utah          False\n",
                            "dtype: bool"
                        ]
                    },
                    "execution_count": 25,
                    "metadata": {},
                    "output_type": "execute_result"
                }
            ],
            "source": [
                "#to find the NaN positions, we could use pd.isnull() and pd.notnull()\n",
                "\n",
                "obj3.isnull() #this is a series instance method\n",
                "# obj3.notnull()  "
            ]
        },
        {
            "cell_type": "markdown",
            "metadata": {},
            "source": [
                "Operations on Series\n",
                "* Addition\n",
                "* Subtraction\n",
                "* Division"
            ]
        },
        {
            "cell_type": "code",
            "execution_count": 35,
            "metadata": {},
            "outputs": [
                {
                    "data": {
                        "text/plain": [
                            "California         NaN\n",
                            "Lagos          100000.0\n",
                            "Oregon         32000.0\n",
                            "Texas         142000.0\n",
                            "Utah           10000.0\n",
                            "dtype: float64"
                        ]
                    },
                    "execution_count": 35,
                    "metadata": {},
                    "output_type": "execute_result"
                }
            ],
            "source": [
                "# Addition\n",
                "obj3 + obj4"
            ]
        },
        {
            "cell_type": "code",
            "execution_count": 36,
            "metadata": {},
            "outputs": [
                {
                    "data": {
                        "text/plain": [
                            "California         NaN\n",
                            "Lagos          0.538462\n",
                            "Oregon        1.000000\n",
                            "Texas         1.000000\n",
                            "Utah          1.000000\n",
                            "dtype: float64"
                        ]
                    },
                    "execution_count": 36,
                    "metadata": {},
                    "output_type": "execute_result"
                }
            ],
            "source": [
                "# Division\n",
                "obj3/obj4"
            ]
        },
        {
            "cell_type": "code",
            "execution_count": 37,
            "metadata": {},
            "outputs": [
                {
                    "data": {
                        "text/plain": [
                            "California    NaN\n",
                            "Lagos          0.0\n",
                            "Oregon        1.0\n",
                            "Texas         1.0\n",
                            "Utah          1.0\n",
                            "dtype: float64"
                        ]
                    },
                    "execution_count": 37,
                    "metadata": {},
                    "output_type": "execute_result"
                }
            ],
            "source": [
                "# integer division\n",
                "obj3//obj4"
            ]
        },
        {
            "cell_type": "code",
            "execution_count": 41,
            "metadata": {},
            "outputs": [
                {
                    "data": {
                        "text/plain": [
                            "state\n",
                            "California        NaN\n",
                            "Lagos          65000.0\n",
                            "Oregon        16000.0\n",
                            "Texas         71000.0\n",
                            "Utah           5000.0\n",
                            "Name: population, dtype: float64"
                        ]
                    },
                    "execution_count": 41,
                    "metadata": {},
                    "output_type": "execute_result"
                }
            ],
            "source": [
                "# Both the Series object itself and its index have a name attribute,\n",
                "obj4.name = 'population'\n",
                "obj4.index.name = 'state'\n",
                "\n",
                "obj4"
            ]
        },
        {
            "cell_type": "markdown",
            "metadata": {},
            "source": [
                "DataFrame\n",
                "\n",
                "A DataFrame represents a tabular, spreadsheet-like data structure containing an ordered\n",
                "collection of columns, each of which can be a different value type (numeric,\n",
                "string, boolean, etc.). The DataFrame has both a row and column index; it can be\n",
                "thought of as a dict of Series (one for all sharing the same index)"
            ]
        },
        {
            "cell_type": "code",
            "execution_count": 68,
            "metadata": {},
            "outputs": [
                {
                    "data": {
                        "text/html": [
                            "<div>\n",
                            "<style scoped>\n",
                            "    .dataframe tbody tr th:only-of-type {\n",
                            "        vertical-align: middle;\n",
                            "    }\n",
                            "\n",
                            "    .dataframe tbody tr th {\n",
                            "        vertical-align: top;\n",
                            "    }\n",
                            "\n",
                            "    .dataframe thead th {\n",
                            "        text-align: right;\n",
                            "    }\n",
                            "</style>\n",
                            "<table border=\"1\" class=\"dataframe\">\n",
                            "  <thead>\n",
                            "    <tr style=\"text-align: right;\">\n",
                            "      <th></th>\n",
                            "      <th>state</th>\n",
                            "      <th>year</th>\n",
                            "      <th>pop</th>\n",
                            "    </tr>\n",
                            "  </thead>\n",
                            "  <tbody>\n",
                            "    <tr>\n",
                            "      <th>0</th>\n",
                            "      <td>Lagos</td>\n",
                            "      <td>2000</td>\n",
                            "      <td>1.5</td>\n",
                            "    </tr>\n",
                            "    <tr>\n",
                            "      <th>1</th>\n",
                            "      <td>Lagos</td>\n",
                            "      <td>2001</td>\n",
                            "      <td>1.7</td>\n",
                            "    </tr>\n",
                            "    <tr>\n",
                            "      <th>2</th>\n",
                            "      <td>Lagos</td>\n",
                            "      <td>2002</td>\n",
                            "      <td>3.6</td>\n",
                            "    </tr>\n",
                            "    <tr>\n",
                            "      <th>3</th>\n",
                            "      <td>Kano</td>\n",
                            "      <td>2001</td>\n",
                            "      <td>2.4</td>\n",
                            "    </tr>\n",
                            "    <tr>\n",
                            "      <th>4</th>\n",
                            "      <td>Kano</td>\n",
                            "      <td>2002</td>\n",
                            "      <td>2.9</td>\n",
                            "    </tr>\n",
                            "  </tbody>\n",
                            "</table>\n",
                            "</div>"
                        ],
                        "text/plain": [
                            "   state  year  pop\n",
                            "0  Lagos  2000  1.5\n",
                            "1  Lagos  2001  1.7\n",
                            "2  Lagos  2002  3.6\n",
                            "3   Kano  2001  2.4\n",
                            "4   Kano  2002  2.9"
                        ]
                    },
                    "execution_count": 68,
                    "metadata": {},
                    "output_type": "execute_result"
                }
            ],
            "source": [
                "data = {'state': ['Lagos', 'Lagos', 'Lagos', 'Kano', 'Kano'],\n",
                "        'year': [2000, 2001, 2002, 2001, 2002],\n",
                "        'pop': [1.5, 1.7, 3.6, 2.4, 2.9]}\n",
                "frame = pd.DataFrame(data)\n",
                "frame"
            ]
        },
        {
            "cell_type": "code",
            "execution_count": 69,
            "metadata": {},
            "outputs": [
                {
                    "data": {
                        "text/html": [
                            "<div>\n",
                            "<style scoped>\n",
                            "    .dataframe tbody tr th:only-of-type {\n",
                            "        vertical-align: middle;\n",
                            "    }\n",
                            "\n",
                            "    .dataframe tbody tr th {\n",
                            "        vertical-align: top;\n",
                            "    }\n",
                            "\n",
                            "    .dataframe thead th {\n",
                            "        text-align: right;\n",
                            "    }\n",
                            "</style>\n",
                            "<table border=\"1\" class=\"dataframe\">\n",
                            "  <thead>\n",
                            "    <tr style=\"text-align: right;\">\n",
                            "      <th></th>\n",
                            "      <th>year</th>\n",
                            "      <th>state</th>\n",
                            "      <th>pop</th>\n",
                            "    </tr>\n",
                            "  </thead>\n",
                            "  <tbody>\n",
                            "    <tr>\n",
                            "      <th>0</th>\n",
                            "      <td>2000</td>\n",
                            "      <td>Lagos</td>\n",
                            "      <td>1.5</td>\n",
                            "    </tr>\n",
                            "    <tr>\n",
                            "      <th>1</th>\n",
                            "      <td>2001</td>\n",
                            "      <td>Lagos</td>\n",
                            "      <td>1.7</td>\n",
                            "    </tr>\n",
                            "    <tr>\n",
                            "      <th>2</th>\n",
                            "      <td>2002</td>\n",
                            "      <td>Lagos</td>\n",
                            "      <td>3.6</td>\n",
                            "    </tr>\n",
                            "    <tr>\n",
                            "      <th>3</th>\n",
                            "      <td>2001</td>\n",
                            "      <td>Kano</td>\n",
                            "      <td>2.4</td>\n",
                            "    </tr>\n",
                            "    <tr>\n",
                            "      <th>4</th>\n",
                            "      <td>2002</td>\n",
                            "      <td>Kano</td>\n",
                            "      <td>2.9</td>\n",
                            "    </tr>\n",
                            "  </tbody>\n",
                            "</table>\n",
                            "</div>"
                        ],
                        "text/plain": [
                            "   year  state  pop\n",
                            "0  2000  Lagos  1.5\n",
                            "1  2001  Lagos  1.7\n",
                            "2  2002  Lagos  3.6\n",
                            "3  2001   Kano  2.4\n",
                            "4  2002   Kano  2.9"
                        ]
                    },
                    "execution_count": 69,
                    "metadata": {},
                    "output_type": "execute_result"
                }
            ],
            "source": [
                "pd.DataFrame(data, columns = ['year', 'state', 'pop'])"
            ]
        },
        {
            "cell_type": "code",
            "execution_count": 70,
            "metadata": {},
            "outputs": [
                {
                    "data": {
                        "text/html": [
                            "<div>\n",
                            "<style scoped>\n",
                            "    .dataframe tbody tr th:only-of-type {\n",
                            "        vertical-align: middle;\n",
                            "    }\n",
                            "\n",
                            "    .dataframe tbody tr th {\n",
                            "        vertical-align: top;\n",
                            "    }\n",
                            "\n",
                            "    .dataframe thead th {\n",
                            "        text-align: right;\n",
                            "    }\n",
                            "</style>\n",
                            "<table border=\"1\" class=\"dataframe\">\n",
                            "  <thead>\n",
                            "    <tr style=\"text-align: right;\">\n",
                            "      <th></th>\n",
                            "      <th>year</th>\n",
                            "      <th>state</th>\n",
                            "      <th>pop</th>\n",
                            "      <th>debt</th>\n",
                            "    </tr>\n",
                            "  </thead>\n",
                            "  <tbody>\n",
                            "    <tr>\n",
                            "      <th>one</th>\n",
                            "      <td>2000</td>\n",
                            "      <td>Lagos</td>\n",
                            "      <td>1.5</td>\n",
                            "      <td>NaN</td>\n",
                            "    </tr>\n",
                            "    <tr>\n",
                            "      <th>two</th>\n",
                            "      <td>2001</td>\n",
                            "      <td>Lagos</td>\n",
                            "      <td>1.7</td>\n",
                            "      <td>NaN</td>\n",
                            "    </tr>\n",
                            "    <tr>\n",
                            "      <th>three</th>\n",
                            "      <td>2002</td>\n",
                            "      <td>Lagos</td>\n",
                            "      <td>3.6</td>\n",
                            "      <td>NaN</td>\n",
                            "    </tr>\n",
                            "    <tr>\n",
                            "      <th>four</th>\n",
                            "      <td>2001</td>\n",
                            "      <td>Kano</td>\n",
                            "      <td>2.4</td>\n",
                            "      <td>NaN</td>\n",
                            "    </tr>\n",
                            "    <tr>\n",
                            "      <th>five</th>\n",
                            "      <td>2002</td>\n",
                            "      <td>Kano</td>\n",
                            "      <td>2.9</td>\n",
                            "      <td>NaN</td>\n",
                            "    </tr>\n",
                            "  </tbody>\n",
                            "</table>\n",
                            "</div>"
                        ],
                        "text/plain": [
                            "       year  state  pop debt\n",
                            "one    2000  Lagos  1.5  NaN\n",
                            "two    2001  Lagos  1.7  NaN\n",
                            "three  2002  Lagos  3.6  NaN\n",
                            "four   2001   Kano  2.4  NaN\n",
                            "five   2002   Kano  2.9  NaN"
                        ]
                    },
                    "execution_count": 70,
                    "metadata": {},
                    "output_type": "execute_result"
                }
            ],
            "source": [
                "frame2 = pd.DataFrame(data, columns=['year', 'state', 'pop', 'debt'],\n",
                "                   index=['one', 'two', 'three', 'four', 'five'])\n",
                "frame2"
            ]
        },
        {
            "cell_type": "code",
            "execution_count": 71,
            "metadata": {},
            "outputs": [
                {
                    "data": {
                        "text/plain": [
                            "Index(['year', 'state', 'pop', 'debt'], dtype='object')"
                        ]
                    },
                    "execution_count": 71,
                    "metadata": {},
                    "output_type": "execute_result"
                }
            ],
            "source": [
                "frame2.columns"
            ]
        },
        {
            "cell_type": "code",
            "execution_count": 72,
            "metadata": {},
            "outputs": [
                {
                    "data": {
                        "text/plain": [
                            "one      Lagos\n",
                            "two      Lagos\n",
                            "three    Lagos\n",
                            "four      Kano\n",
                            "five      Kano\n",
                            "Name: state, dtype: object"
                        ]
                    },
                    "execution_count": 72,
                    "metadata": {},
                    "output_type": "execute_result"
                }
            ],
            "source": [
                "# A column in a DataFrame can be retrieved as a Series either by dict-like notation or by\n",
                "# attribute:\n",
                "frame2.state\n",
                "# print(frame2['year'])\n",
                "# print(frame2.year)\n"
            ]
        },
        {
            "cell_type": "code",
            "execution_count": 73,
            "metadata": {},
            "outputs": [
                {
                    "data": {
                        "text/html": [
                            "<div>\n",
                            "<style scoped>\n",
                            "    .dataframe tbody tr th:only-of-type {\n",
                            "        vertical-align: middle;\n",
                            "    }\n",
                            "\n",
                            "    .dataframe tbody tr th {\n",
                            "        vertical-align: top;\n",
                            "    }\n",
                            "\n",
                            "    .dataframe thead th {\n",
                            "        text-align: right;\n",
                            "    }\n",
                            "</style>\n",
                            "<table border=\"1\" class=\"dataframe\">\n",
                            "  <thead>\n",
                            "    <tr style=\"text-align: right;\">\n",
                            "      <th></th>\n",
                            "      <th>year</th>\n",
                            "      <th>state</th>\n",
                            "      <th>pop</th>\n",
                            "      <th>debt</th>\n",
                            "    </tr>\n",
                            "  </thead>\n",
                            "  <tbody>\n",
                            "    <tr>\n",
                            "      <th>one</th>\n",
                            "      <td>2000</td>\n",
                            "      <td>Lagos</td>\n",
                            "      <td>1.5</td>\n",
                            "      <td>0</td>\n",
                            "    </tr>\n",
                            "    <tr>\n",
                            "      <th>two</th>\n",
                            "      <td>2001</td>\n",
                            "      <td>Lagos</td>\n",
                            "      <td>1.7</td>\n",
                            "      <td>1</td>\n",
                            "    </tr>\n",
                            "    <tr>\n",
                            "      <th>three</th>\n",
                            "      <td>2002</td>\n",
                            "      <td>Lagos</td>\n",
                            "      <td>3.6</td>\n",
                            "      <td>2</td>\n",
                            "    </tr>\n",
                            "    <tr>\n",
                            "      <th>four</th>\n",
                            "      <td>2001</td>\n",
                            "      <td>Kano</td>\n",
                            "      <td>2.4</td>\n",
                            "      <td>3</td>\n",
                            "    </tr>\n",
                            "    <tr>\n",
                            "      <th>five</th>\n",
                            "      <td>2002</td>\n",
                            "      <td>Kano</td>\n",
                            "      <td>2.9</td>\n",
                            "      <td>4</td>\n",
                            "    </tr>\n",
                            "  </tbody>\n",
                            "</table>\n",
                            "</div>"
                        ],
                        "text/plain": [
                            "       year  state  pop  debt\n",
                            "one    2000  Lagos  1.5     0\n",
                            "two    2001  Lagos  1.7     1\n",
                            "three  2002  Lagos  3.6     2\n",
                            "four   2001   Kano  2.4     3\n",
                            "five   2002   Kano  2.9     4"
                        ]
                    },
                    "execution_count": 73,
                    "metadata": {},
                    "output_type": "execute_result"
                }
            ],
            "source": [
                "# Columns can be modified by assignment. For example, the empty 'debt' column could\n",
                "# be assigned a scalar value or an array of values:\n",
                "import numpy as np\n",
                "frame2['debt'] = np.arange(5)\n",
                "frame2\n"
            ]
        },
        {
            "cell_type": "code",
            "execution_count": 74,
            "metadata": {},
            "outputs": [
                {
                    "data": {
                        "text/html": [
                            "<div>\n",
                            "<style scoped>\n",
                            "    .dataframe tbody tr th:only-of-type {\n",
                            "        vertical-align: middle;\n",
                            "    }\n",
                            "\n",
                            "    .dataframe tbody tr th {\n",
                            "        vertical-align: top;\n",
                            "    }\n",
                            "\n",
                            "    .dataframe thead th {\n",
                            "        text-align: right;\n",
                            "    }\n",
                            "</style>\n",
                            "<table border=\"1\" class=\"dataframe\">\n",
                            "  <thead>\n",
                            "    <tr style=\"text-align: right;\">\n",
                            "      <th></th>\n",
                            "      <th>year</th>\n",
                            "      <th>state</th>\n",
                            "      <th>pop</th>\n",
                            "      <th>debt</th>\n",
                            "    </tr>\n",
                            "  </thead>\n",
                            "  <tbody>\n",
                            "    <tr>\n",
                            "      <th>one</th>\n",
                            "      <td>2000</td>\n",
                            "      <td>Lagos</td>\n",
                            "      <td>1.5</td>\n",
                            "      <td>NaN</td>\n",
                            "    </tr>\n",
                            "    <tr>\n",
                            "      <th>two</th>\n",
                            "      <td>2001</td>\n",
                            "      <td>Lagos</td>\n",
                            "      <td>1.7</td>\n",
                            "      <td>900.0</td>\n",
                            "    </tr>\n",
                            "    <tr>\n",
                            "      <th>three</th>\n",
                            "      <td>2002</td>\n",
                            "      <td>Lagos</td>\n",
                            "      <td>3.6</td>\n",
                            "      <td>210.0</td>\n",
                            "    </tr>\n",
                            "    <tr>\n",
                            "      <th>four</th>\n",
                            "      <td>2001</td>\n",
                            "      <td>Kano</td>\n",
                            "      <td>2.4</td>\n",
                            "      <td>322.0</td>\n",
                            "    </tr>\n",
                            "    <tr>\n",
                            "      <th>five</th>\n",
                            "      <td>2002</td>\n",
                            "      <td>Kano</td>\n",
                            "      <td>2.9</td>\n",
                            "      <td>NaN</td>\n",
                            "    </tr>\n",
                            "  </tbody>\n",
                            "</table>\n",
                            "</div>"
                        ],
                        "text/plain": [
                            "       year  state  pop   debt\n",
                            "one    2000  Lagos  1.5    NaN\n",
                            "two    2001  Lagos  1.7  900.0\n",
                            "three  2002  Lagos  3.6  210.0\n",
                            "four   2001   Kano  2.4  322.0\n",
                            "five   2002   Kano  2.9    NaN"
                        ]
                    },
                    "execution_count": 74,
                    "metadata": {},
                    "output_type": "execute_result"
                }
            ],
            "source": [
                "frame2['debt'] = pd.Series([900,210,322], index = ['two','three', 'four'])\n",
                "frame2"
            ]
        },
        {
            "cell_type": "code",
            "execution_count": 75,
            "metadata": {},
            "outputs": [
                {
                    "data": {
                        "text/html": [
                            "<div>\n",
                            "<style scoped>\n",
                            "    .dataframe tbody tr th:only-of-type {\n",
                            "        vertical-align: middle;\n",
                            "    }\n",
                            "\n",
                            "    .dataframe tbody tr th {\n",
                            "        vertical-align: top;\n",
                            "    }\n",
                            "\n",
                            "    .dataframe thead th {\n",
                            "        text-align: right;\n",
                            "    }\n",
                            "</style>\n",
                            "<table border=\"1\" class=\"dataframe\">\n",
                            "  <thead>\n",
                            "    <tr style=\"text-align: right;\">\n",
                            "      <th></th>\n",
                            "      <th>state</th>\n",
                            "      <th>year</th>\n",
                            "      <th>pop</th>\n",
                            "    </tr>\n",
                            "  </thead>\n",
                            "  <tbody>\n",
                            "    <tr>\n",
                            "      <th>1</th>\n",
                            "      <td>Lagos</td>\n",
                            "      <td>2000</td>\n",
                            "      <td>1.5</td>\n",
                            "    </tr>\n",
                            "    <tr>\n",
                            "      <th>2</th>\n",
                            "      <td>Lagos</td>\n",
                            "      <td>2001</td>\n",
                            "      <td>1.7</td>\n",
                            "    </tr>\n",
                            "    <tr>\n",
                            "      <th>3</th>\n",
                            "      <td>Lagos</td>\n",
                            "      <td>2002</td>\n",
                            "      <td>3.6</td>\n",
                            "    </tr>\n",
                            "    <tr>\n",
                            "      <th>4</th>\n",
                            "      <td>Kano</td>\n",
                            "      <td>2001</td>\n",
                            "      <td>2.4</td>\n",
                            "    </tr>\n",
                            "    <tr>\n",
                            "      <th>5</th>\n",
                            "      <td>Kano</td>\n",
                            "      <td>2002</td>\n",
                            "      <td>2.9</td>\n",
                            "    </tr>\n",
                            "  </tbody>\n",
                            "</table>\n",
                            "</div>"
                        ],
                        "text/plain": [
                            "   state  year  pop\n",
                            "1  Lagos  2000  1.5\n",
                            "2  Lagos  2001  1.7\n",
                            "3  Lagos  2002  3.6\n",
                            "4   Kano  2001  2.4\n",
                            "5   Kano  2002  2.9"
                        ]
                    },
                    "execution_count": 75,
                    "metadata": {},
                    "output_type": "execute_result"
                }
            ],
            "source": [
                "frame2 = pd.DataFrame(data, index =([1,2,3,4,5]))\n",
                "frame2"
            ]
        },
        {
            "cell_type": "code",
            "execution_count": 76,
            "metadata": {},
            "outputs": [
                {
                    "data": {
                        "text/html": [
                            "<div>\n",
                            "<style scoped>\n",
                            "    .dataframe tbody tr th:only-of-type {\n",
                            "        vertical-align: middle;\n",
                            "    }\n",
                            "\n",
                            "    .dataframe tbody tr th {\n",
                            "        vertical-align: top;\n",
                            "    }\n",
                            "\n",
                            "    .dataframe thead th {\n",
                            "        text-align: right;\n",
                            "    }\n",
                            "</style>\n",
                            "<table border=\"1\" class=\"dataframe\">\n",
                            "  <thead>\n",
                            "    <tr style=\"text-align: right;\">\n",
                            "      <th></th>\n",
                            "      <th>state</th>\n",
                            "      <th>year</th>\n",
                            "      <th>pop</th>\n",
                            "      <th>western</th>\n",
                            "    </tr>\n",
                            "  </thead>\n",
                            "  <tbody>\n",
                            "    <tr>\n",
                            "      <th>1</th>\n",
                            "      <td>Lagos</td>\n",
                            "      <td>2000</td>\n",
                            "      <td>1.5</td>\n",
                            "      <td>True</td>\n",
                            "    </tr>\n",
                            "    <tr>\n",
                            "      <th>2</th>\n",
                            "      <td>Lagos</td>\n",
                            "      <td>2001</td>\n",
                            "      <td>1.7</td>\n",
                            "      <td>True</td>\n",
                            "    </tr>\n",
                            "    <tr>\n",
                            "      <th>3</th>\n",
                            "      <td>Lagos</td>\n",
                            "      <td>2002</td>\n",
                            "      <td>3.6</td>\n",
                            "      <td>True</td>\n",
                            "    </tr>\n",
                            "    <tr>\n",
                            "      <th>4</th>\n",
                            "      <td>Kano</td>\n",
                            "      <td>2001</td>\n",
                            "      <td>2.4</td>\n",
                            "      <td>False</td>\n",
                            "    </tr>\n",
                            "    <tr>\n",
                            "      <th>5</th>\n",
                            "      <td>Kano</td>\n",
                            "      <td>2002</td>\n",
                            "      <td>2.9</td>\n",
                            "      <td>False</td>\n",
                            "    </tr>\n",
                            "  </tbody>\n",
                            "</table>\n",
                            "</div>"
                        ],
                        "text/plain": [
                            "   state  year  pop  western\n",
                            "1  Lagos  2000  1.5     True\n",
                            "2  Lagos  2001  1.7     True\n",
                            "3  Lagos  2002  3.6     True\n",
                            "4   Kano  2001  2.4    False\n",
                            "5   Kano  2002  2.9    False"
                        ]
                    },
                    "execution_count": 76,
                    "metadata": {},
                    "output_type": "execute_result"
                }
            ],
            "source": [
                "# Assigning a column that doesn’t exist will create a new column. The del keyword will delete columns as with a dict:\n",
                "frame2['western'] = frame2.state =='Lagos'\n",
                "frame2"
            ]
        },
        {
            "cell_type": "code",
            "execution_count": 77,
            "metadata": {},
            "outputs": [
                {
                    "data": {
                        "text/plain": [
                            "Index(['state', 'year', 'pop'], dtype='object')"
                        ]
                    },
                    "execution_count": 77,
                    "metadata": {},
                    "output_type": "execute_result"
                }
            ],
            "source": [
                "del frame2['western']\n",
                "\n",
                "frame2.columns"
            ]
        },
        {
            "cell_type": "code",
            "execution_count": 81,
            "metadata": {},
            "outputs": [
                {
                    "data": {
                        "text/html": [
                            "<div>\n",
                            "<style scoped>\n",
                            "    .dataframe tbody tr th:only-of-type {\n",
                            "        vertical-align: middle;\n",
                            "    }\n",
                            "\n",
                            "    .dataframe tbody tr th {\n",
                            "        vertical-align: top;\n",
                            "    }\n",
                            "\n",
                            "    .dataframe thead th {\n",
                            "        text-align: right;\n",
                            "    }\n",
                            "</style>\n",
                            "<table border=\"1\" class=\"dataframe\">\n",
                            "  <thead>\n",
                            "    <tr style=\"text-align: right;\">\n",
                            "      <th></th>\n",
                            "      <th>Kano</th>\n",
                            "      <th>Lagos</th>\n",
                            "    </tr>\n",
                            "  </thead>\n",
                            "  <tbody>\n",
                            "    <tr>\n",
                            "      <th>2000</th>\n",
                            "      <td>NaN</td>\n",
                            "      <td>1.5</td>\n",
                            "    </tr>\n",
                            "    <tr>\n",
                            "      <th>2001</th>\n",
                            "      <td>2.4</td>\n",
                            "      <td>1.7</td>\n",
                            "    </tr>\n",
                            "    <tr>\n",
                            "      <th>2002</th>\n",
                            "      <td>2.9</td>\n",
                            "      <td>3.6</td>\n",
                            "    </tr>\n",
                            "  </tbody>\n",
                            "</table>\n",
                            "</div>"
                        ],
                        "text/plain": [
                            "      Kano  Lagos\n",
                            "2000   NaN    1.5\n",
                            "2001   2.4    1.7\n",
                            "2002   2.9    3.6"
                        ]
                    },
                    "execution_count": 81,
                    "metadata": {},
                    "output_type": "execute_result"
                }
            ],
            "source": [
                "pop = {'Kano' : {2001: 2.4, 2002 : 2.9}, 'Lagos' : \n",
                "{2000 : 1.5, 2001: 1.7, 2002 : 3.6}}\n",
                "\n",
                "frame3 = pd.DataFrame(pop, index = [2000,2001,2002])\n",
                "frame3"
            ]
        },
        {
            "cell_type": "code",
            "execution_count": 82,
            "metadata": {},
            "outputs": [
                {
                    "data": {
                        "text/html": [
                            "<div>\n",
                            "<style scoped>\n",
                            "    .dataframe tbody tr th:only-of-type {\n",
                            "        vertical-align: middle;\n",
                            "    }\n",
                            "\n",
                            "    .dataframe tbody tr th {\n",
                            "        vertical-align: top;\n",
                            "    }\n",
                            "\n",
                            "    .dataframe thead th {\n",
                            "        text-align: right;\n",
                            "    }\n",
                            "</style>\n",
                            "<table border=\"1\" class=\"dataframe\">\n",
                            "  <thead>\n",
                            "    <tr style=\"text-align: right;\">\n",
                            "      <th></th>\n",
                            "      <th>2000</th>\n",
                            "      <th>2001</th>\n",
                            "      <th>2002</th>\n",
                            "    </tr>\n",
                            "  </thead>\n",
                            "  <tbody>\n",
                            "    <tr>\n",
                            "      <th>Kano</th>\n",
                            "      <td>NaN</td>\n",
                            "      <td>2.4</td>\n",
                            "      <td>2.9</td>\n",
                            "    </tr>\n",
                            "    <tr>\n",
                            "      <th>Lagos</th>\n",
                            "      <td>1.5</td>\n",
                            "      <td>1.7</td>\n",
                            "      <td>3.6</td>\n",
                            "    </tr>\n",
                            "  </tbody>\n",
                            "</table>\n",
                            "</div>"
                        ],
                        "text/plain": [
                            "       2000  2001  2002\n",
                            "Kano    NaN   2.4   2.9\n",
                            "Lagos   1.5   1.7   3.6"
                        ]
                    },
                    "execution_count": 82,
                    "metadata": {},
                    "output_type": "execute_result"
                }
            ],
            "source": [
                "# transpose the result:\n",
                "frame3.T"
            ]
        },
        {
            "cell_type": "code",
            "execution_count": 85,
            "metadata": {},
            "outputs": [
                {
                    "data": {
                        "text/html": [
                            "<div>\n",
                            "<style scoped>\n",
                            "    .dataframe tbody tr th:only-of-type {\n",
                            "        vertical-align: middle;\n",
                            "    }\n",
                            "\n",
                            "    .dataframe tbody tr th {\n",
                            "        vertical-align: top;\n",
                            "    }\n",
                            "\n",
                            "    .dataframe thead th {\n",
                            "        text-align: right;\n",
                            "    }\n",
                            "</style>\n",
                            "<table border=\"1\" class=\"dataframe\">\n",
                            "  <thead>\n",
                            "    <tr style=\"text-align: right;\">\n",
                            "      <th>States</th>\n",
                            "      <th>Kano</th>\n",
                            "      <th>Lagos</th>\n",
                            "    </tr>\n",
                            "    <tr>\n",
                            "      <th>year</th>\n",
                            "      <th></th>\n",
                            "      <th></th>\n",
                            "    </tr>\n",
                            "  </thead>\n",
                            "  <tbody>\n",
                            "    <tr>\n",
                            "      <th>2000</th>\n",
                            "      <td>NaN</td>\n",
                            "      <td>1.5</td>\n",
                            "    </tr>\n",
                            "    <tr>\n",
                            "      <th>2001</th>\n",
                            "      <td>2.4</td>\n",
                            "      <td>1.7</td>\n",
                            "    </tr>\n",
                            "    <tr>\n",
                            "      <th>2002</th>\n",
                            "      <td>2.9</td>\n",
                            "      <td>3.6</td>\n",
                            "    </tr>\n",
                            "  </tbody>\n",
                            "</table>\n",
                            "</div>"
                        ],
                        "text/plain": [
                            "States  Kano  Lagos\n",
                            "year               \n",
                            "2000     NaN    1.5\n",
                            "2001     2.4    1.7\n",
                            "2002     2.9    3.6"
                        ]
                    },
                    "execution_count": 85,
                    "metadata": {},
                    "output_type": "execute_result"
                }
            ],
            "source": [
                "frame3.index.name = 'year'; frame3.columns.name = 'States'\n",
                "frame3"
            ]
        },
        {
            "cell_type": "code",
            "execution_count": 90,
            "metadata": {},
            "outputs": [
                {
                    "data": {
                        "text/plain": [
                            "array([['Lagos', 2000, 1.5],\n",
                            "       ['Lagos', 2001, 1.7],\n",
                            "       ['Lagos', 2002, 3.6],\n",
                            "       ['Kano', 2001, 2.4],\n",
                            "       ['Kano', 2002, 2.9]], dtype=object)"
                        ]
                    },
                    "execution_count": 90,
                    "metadata": {},
                    "output_type": "execute_result"
                }
            ],
            "source": [
                "frame2.values "
            ]
        },
        {
            "cell_type": "markdown",
            "metadata": {},
            "source": [
                "Index Objects\n",
                "\n",
                "pandas’s Index objects are responsible for holding the axis labels and other metadata (like the axis name or names)."
            ]
        },
        {
            "cell_type": "code",
            "execution_count": 91,
            "metadata": {},
            "outputs": [
                {
                    "data": {
                        "text/plain": [
                            "a    0\n",
                            "b    1\n",
                            "c    2\n",
                            "dtype: int64"
                        ]
                    },
                    "execution_count": 91,
                    "metadata": {},
                    "output_type": "execute_result"
                }
            ],
            "source": [
                "obj = pd.Series(range(3), index=['a', 'b', 'c'])\n",
                "obj\n"
            ]
        },
        {
            "cell_type": "code",
            "execution_count": 93,
            "metadata": {},
            "outputs": [
                {
                    "data": {
                        "text/plain": [
                            "Index(['a', 'b', 'c'], dtype='object')"
                        ]
                    },
                    "execution_count": 93,
                    "metadata": {},
                    "output_type": "execute_result"
                }
            ],
            "source": [
                "a_index = obj.index\n",
                "a_index"
            ]
        },
        {
            "cell_type": "code",
            "execution_count": 95,
            "metadata": {},
            "outputs": [],
            "source": [
                "# Index objects are immutable and thus can’t be modified by the user:\n",
                "# a_index[1] ='d'\n"
            ]
        },
        {
            "cell_type": "code",
            "execution_count": 96,
            "metadata": {},
            "outputs": [
                {
                    "data": {
                        "text/plain": [
                            "0    1.5\n",
                            "1   -2.5\n",
                            "2    0.0\n",
                            "dtype: float64"
                        ]
                    },
                    "execution_count": 96,
                    "metadata": {},
                    "output_type": "execute_result"
                }
            ],
            "source": [
                "# Immutability is important so that Index objects can be safely shared among data structures:\n",
                "b_index = pd.Index(np.arange(3))\n",
                "\n",
                "obj2 = pd.Series([1.5,-2.5,0], index = b_index)\n",
                "\n",
                "obj2"
            ]
        },
        {
            "cell_type": "code",
            "execution_count": 97,
            "metadata": {},
            "outputs": [
                {
                    "data": {
                        "text/plain": [
                            "True"
                        ]
                    },
                    "execution_count": 97,
                    "metadata": {},
                    "output_type": "execute_result"
                }
            ],
            "source": [
                "obj2.index is b_index"
            ]
        },
        {
            "cell_type": "markdown",
            "metadata": {},
            "source": [
                "Reindexing\n",
                "\n",
                "A critical method on pandas objects is reindex, which means to create a new object with the data conformed to a new index."
            ]
        },
        {
            "cell_type": "code",
            "execution_count": 100,
            "metadata": {},
            "outputs": [
                {
                    "data": {
                        "text/plain": [
                            "d    4.5\n",
                            "b    7.2\n",
                            "a   -5.3\n",
                            "c    3.6\n",
                            "dtype: float64"
                        ]
                    },
                    "execution_count": 100,
                    "metadata": {},
                    "output_type": "execute_result"
                }
            ],
            "source": [
                "obj = pd.Series([4.5, 7.2, -5.3, 3.6], index=['d', 'b', 'a', 'c'])\n",
                "obj"
            ]
        },
        {
            "cell_type": "code",
            "execution_count": 101,
            "metadata": {},
            "outputs": [
                {
                    "data": {
                        "text/plain": [
                            "a   -5.3\n",
                            "b    7.2\n",
                            "c    3.6\n",
                            "d    4.5\n",
                            "e    NaN\n",
                            "dtype: float64"
                        ]
                    },
                    "execution_count": 101,
                    "metadata": {},
                    "output_type": "execute_result"
                }
            ],
            "source": [
                "obj2 = obj.reindex(['a', 'b', 'c', 'd', 'e'])\n",
                "obj2"
            ]
        },
        {
            "cell_type": "code",
            "execution_count": 103,
            "metadata": {},
            "outputs": [
                {
                    "data": {
                        "text/plain": [
                            "a   -5.3\n",
                            "b    7.2\n",
                            "c    3.6\n",
                            "d    4.5\n",
                            "e    0.0\n",
                            "dtype: float64"
                        ]
                    },
                    "execution_count": 103,
                    "metadata": {},
                    "output_type": "execute_result"
                }
            ],
            "source": [
                "obj2 = obj.reindex(['a', 'b', 'c', 'd', 'e'], fill_value=0)\n",
                "obj2"
            ]
        },
        {
            "cell_type": "markdown",
            "metadata": {},
            "source": [
                "Dropping entries from an axis\n",
                "\n",
                "the drop method will return a new object with the indicated value or values deleted from an axis:"
            ]
        },
        {
            "cell_type": "code",
            "execution_count": 105,
            "metadata": {},
            "outputs": [
                {
                    "data": {
                        "text/plain": [
                            "a    0.0\n",
                            "b    1.0\n",
                            "c    2.0\n",
                            "d    3.0\n",
                            "e    4.0\n",
                            "dtype: float64"
                        ]
                    },
                    "execution_count": 105,
                    "metadata": {},
                    "output_type": "execute_result"
                }
            ],
            "source": [
                "obj = pd.Series(np.arange(5.), index=['a', 'b', 'c', 'd', 'e'])\n",
                "obj"
            ]
        },
        {
            "cell_type": "code",
            "execution_count": 106,
            "metadata": {},
            "outputs": [
                {
                    "data": {
                        "text/plain": [
                            "a    0.0\n",
                            "b    1.0\n",
                            "d    3.0\n",
                            "e    4.0\n",
                            "dtype: float64"
                        ]
                    },
                    "execution_count": 106,
                    "metadata": {},
                    "output_type": "execute_result"
                }
            ],
            "source": [
                "new_obj = obj.drop('c')\n",
                "\n",
                "new_obj"
            ]
        },
        {
            "cell_type": "code",
            "execution_count": 107,
            "metadata": {},
            "outputs": [
                {
                    "data": {
                        "text/plain": [
                            "a    0.0\n",
                            "b    1.0\n",
                            "e    4.0\n",
                            "dtype: float64"
                        ]
                    },
                    "execution_count": 107,
                    "metadata": {},
                    "output_type": "execute_result"
                }
            ],
            "source": [
                "obj.drop(['d','c'])"
            ]
        },
        {
            "cell_type": "code",
            "execution_count": 121,
            "metadata": {},
            "outputs": [
                {
                    "data": {
                        "text/html": [
                            "<div>\n",
                            "<style scoped>\n",
                            "    .dataframe tbody tr th:only-of-type {\n",
                            "        vertical-align: middle;\n",
                            "    }\n",
                            "\n",
                            "    .dataframe tbody tr th {\n",
                            "        vertical-align: top;\n",
                            "    }\n",
                            "\n",
                            "    .dataframe thead th {\n",
                            "        text-align: right;\n",
                            "    }\n",
                            "</style>\n",
                            "<table border=\"1\" class=\"dataframe\">\n",
                            "  <thead>\n",
                            "    <tr style=\"text-align: right;\">\n",
                            "      <th></th>\n",
                            "      <th>1</th>\n",
                            "      <th>2</th>\n",
                            "      <th>3</th>\n",
                            "      <th>4</th>\n",
                            "    </tr>\n",
                            "  </thead>\n",
                            "  <tbody>\n",
                            "    <tr>\n",
                            "      <th>Lagos</th>\n",
                            "      <td>0</td>\n",
                            "      <td>1</td>\n",
                            "      <td>2</td>\n",
                            "      <td>3</td>\n",
                            "    </tr>\n",
                            "    <tr>\n",
                            "      <th>Abuja</th>\n",
                            "      <td>4</td>\n",
                            "      <td>5</td>\n",
                            "      <td>6</td>\n",
                            "      <td>7</td>\n",
                            "    </tr>\n",
                            "    <tr>\n",
                            "      <th>Niger</th>\n",
                            "      <td>8</td>\n",
                            "      <td>9</td>\n",
                            "      <td>10</td>\n",
                            "      <td>11</td>\n",
                            "    </tr>\n",
                            "    <tr>\n",
                            "      <th>Jigawa</th>\n",
                            "      <td>12</td>\n",
                            "      <td>13</td>\n",
                            "      <td>14</td>\n",
                            "      <td>15</td>\n",
                            "    </tr>\n",
                            "  </tbody>\n",
                            "</table>\n",
                            "</div>"
                        ],
                        "text/plain": [
                            "          1   2   3   4\n",
                            "Lagos     0   1   2   3\n",
                            " Abuja    4   5   6   7\n",
                            " Niger    8   9  10  11\n",
                            " Jigawa  12  13  14  15"
                        ]
                    },
                    "execution_count": 121,
                    "metadata": {},
                    "output_type": "execute_result"
                }
            ],
            "source": [
                "data = pd.DataFrame(np.arange(16).reshape((4,4)), index = ['Lagos, Abuja, Niger, Jigawa'.split(',')], columns= ['1', '2', '3', '4'])\n",
                "data"
            ]
        },
        {
            "cell_type": "code",
            "execution_count": 122,
            "metadata": {},
            "outputs": [
                {
                    "name": "stderr",
                    "output_type": "stream",
                    "text": [
                        "C:\\Users\\Magic\\AppData\\Local\\Temp\\ipykernel_532\\2939136471.py:1: PerformanceWarning: dropping on a non-lexsorted multi-index without a level parameter may impact performance.\n",
                        "  data.drop(['Lagos'])\n"
                    ]
                },
                {
                    "data": {
                        "text/html": [
                            "<div>\n",
                            "<style scoped>\n",
                            "    .dataframe tbody tr th:only-of-type {\n",
                            "        vertical-align: middle;\n",
                            "    }\n",
                            "\n",
                            "    .dataframe tbody tr th {\n",
                            "        vertical-align: top;\n",
                            "    }\n",
                            "\n",
                            "    .dataframe thead th {\n",
                            "        text-align: right;\n",
                            "    }\n",
                            "</style>\n",
                            "<table border=\"1\" class=\"dataframe\">\n",
                            "  <thead>\n",
                            "    <tr style=\"text-align: right;\">\n",
                            "      <th></th>\n",
                            "      <th>1</th>\n",
                            "      <th>2</th>\n",
                            "      <th>3</th>\n",
                            "      <th>4</th>\n",
                            "    </tr>\n",
                            "  </thead>\n",
                            "  <tbody>\n",
                            "    <tr>\n",
                            "      <th>Abuja</th>\n",
                            "      <td>4</td>\n",
                            "      <td>5</td>\n",
                            "      <td>6</td>\n",
                            "      <td>7</td>\n",
                            "    </tr>\n",
                            "    <tr>\n",
                            "      <th>Niger</th>\n",
                            "      <td>8</td>\n",
                            "      <td>9</td>\n",
                            "      <td>10</td>\n",
                            "      <td>11</td>\n",
                            "    </tr>\n",
                            "    <tr>\n",
                            "      <th>Jigawa</th>\n",
                            "      <td>12</td>\n",
                            "      <td>13</td>\n",
                            "      <td>14</td>\n",
                            "      <td>15</td>\n",
                            "    </tr>\n",
                            "  </tbody>\n",
                            "</table>\n",
                            "</div>"
                        ],
                        "text/plain": [
                            "          1   2   3   4\n",
                            " Abuja    4   5   6   7\n",
                            " Niger    8   9  10  11\n",
                            " Jigawa  12  13  14  15"
                        ]
                    },
                    "execution_count": 122,
                    "metadata": {},
                    "output_type": "execute_result"
                }
            ],
            "source": [
                "data.drop(['Lagos'])"
            ]
        },
        {
            "cell_type": "code",
            "execution_count": 123,
            "metadata": {},
            "outputs": [
                {
                    "data": {
                        "text/html": [
                            "<div>\n",
                            "<style scoped>\n",
                            "    .dataframe tbody tr th:only-of-type {\n",
                            "        vertical-align: middle;\n",
                            "    }\n",
                            "\n",
                            "    .dataframe tbody tr th {\n",
                            "        vertical-align: top;\n",
                            "    }\n",
                            "\n",
                            "    .dataframe thead th {\n",
                            "        text-align: right;\n",
                            "    }\n",
                            "</style>\n",
                            "<table border=\"1\" class=\"dataframe\">\n",
                            "  <thead>\n",
                            "    <tr style=\"text-align: right;\">\n",
                            "      <th></th>\n",
                            "      <th>1</th>\n",
                            "      <th>2</th>\n",
                            "      <th>3</th>\n",
                            "      <th>4</th>\n",
                            "    </tr>\n",
                            "  </thead>\n",
                            "  <tbody>\n",
                            "    <tr>\n",
                            "      <th>Lagos</th>\n",
                            "      <td>0</td>\n",
                            "      <td>1</td>\n",
                            "      <td>2</td>\n",
                            "      <td>3</td>\n",
                            "    </tr>\n",
                            "    <tr>\n",
                            "      <th>Abuja</th>\n",
                            "      <td>4</td>\n",
                            "      <td>5</td>\n",
                            "      <td>6</td>\n",
                            "      <td>7</td>\n",
                            "    </tr>\n",
                            "    <tr>\n",
                            "      <th>Niger</th>\n",
                            "      <td>8</td>\n",
                            "      <td>9</td>\n",
                            "      <td>10</td>\n",
                            "      <td>11</td>\n",
                            "    </tr>\n",
                            "    <tr>\n",
                            "      <th>Jigawa</th>\n",
                            "      <td>12</td>\n",
                            "      <td>13</td>\n",
                            "      <td>14</td>\n",
                            "      <td>15</td>\n",
                            "    </tr>\n",
                            "  </tbody>\n",
                            "</table>\n",
                            "</div>"
                        ],
                        "text/plain": [
                            "          1   2   3   4\n",
                            "Lagos     0   1   2   3\n",
                            " Abuja    4   5   6   7\n",
                            " Niger    8   9  10  11\n",
                            " Jigawa  12  13  14  15"
                        ]
                    },
                    "execution_count": 123,
                    "metadata": {},
                    "output_type": "execute_result"
                }
            ],
            "source": [
                "data"
            ]
        },
        {
            "cell_type": "code",
            "execution_count": 127,
            "metadata": {},
            "outputs": [
                {
                    "data": {
                        "text/html": [
                            "<div>\n",
                            "<style scoped>\n",
                            "    .dataframe tbody tr th:only-of-type {\n",
                            "        vertical-align: middle;\n",
                            "    }\n",
                            "\n",
                            "    .dataframe tbody tr th {\n",
                            "        vertical-align: top;\n",
                            "    }\n",
                            "\n",
                            "    .dataframe thead th {\n",
                            "        text-align: right;\n",
                            "    }\n",
                            "</style>\n",
                            "<table border=\"1\" class=\"dataframe\">\n",
                            "  <thead>\n",
                            "    <tr style=\"text-align: right;\">\n",
                            "      <th></th>\n",
                            "      <th>1</th>\n",
                            "      <th>3</th>\n",
                            "      <th>4</th>\n",
                            "    </tr>\n",
                            "  </thead>\n",
                            "  <tbody>\n",
                            "    <tr>\n",
                            "      <th>Lagos</th>\n",
                            "      <td>0</td>\n",
                            "      <td>2</td>\n",
                            "      <td>3</td>\n",
                            "    </tr>\n",
                            "    <tr>\n",
                            "      <th>Abuja</th>\n",
                            "      <td>4</td>\n",
                            "      <td>6</td>\n",
                            "      <td>7</td>\n",
                            "    </tr>\n",
                            "    <tr>\n",
                            "      <th>Niger</th>\n",
                            "      <td>8</td>\n",
                            "      <td>10</td>\n",
                            "      <td>11</td>\n",
                            "    </tr>\n",
                            "    <tr>\n",
                            "      <th>Jigawa</th>\n",
                            "      <td>12</td>\n",
                            "      <td>14</td>\n",
                            "      <td>15</td>\n",
                            "    </tr>\n",
                            "  </tbody>\n",
                            "</table>\n",
                            "</div>"
                        ],
                        "text/plain": [
                            "          1   3   4\n",
                            "Lagos     0   2   3\n",
                            " Abuja    4   6   7\n",
                            " Niger    8  10  11\n",
                            " Jigawa  12  14  15"
                        ]
                    },
                    "execution_count": 127,
                    "metadata": {},
                    "output_type": "execute_result"
                }
            ],
            "source": [
                "# data.drop(columns= '2')\n",
                "data.drop(['2'], axis = 1)"
            ]
        },
        {
            "cell_type": "markdown",
            "metadata": {},
            "source": [
                "Indexing, selection, and filtering"
            ]
        },
        {
            "cell_type": "code",
            "execution_count": 132,
            "metadata": {},
            "outputs": [
                {
                    "name": "stdout",
                    "output_type": "stream",
                    "text": [
                        "Lagos       1\n",
                        " Abuja      5\n",
                        " Niger      9\n",
                        " Jigawa    13\n",
                        "Name: 2, dtype: int32\n"
                    ]
                },
                {
                    "data": {
                        "text/html": [
                            "<div>\n",
                            "<style scoped>\n",
                            "    .dataframe tbody tr th:only-of-type {\n",
                            "        vertical-align: middle;\n",
                            "    }\n",
                            "\n",
                            "    .dataframe tbody tr th {\n",
                            "        vertical-align: top;\n",
                            "    }\n",
                            "\n",
                            "    .dataframe thead th {\n",
                            "        text-align: right;\n",
                            "    }\n",
                            "</style>\n",
                            "<table border=\"1\" class=\"dataframe\">\n",
                            "  <thead>\n",
                            "    <tr style=\"text-align: right;\">\n",
                            "      <th></th>\n",
                            "      <th>2</th>\n",
                            "      <th>4</th>\n",
                            "    </tr>\n",
                            "  </thead>\n",
                            "  <tbody>\n",
                            "    <tr>\n",
                            "      <th>Lagos</th>\n",
                            "      <td>1</td>\n",
                            "      <td>3</td>\n",
                            "    </tr>\n",
                            "    <tr>\n",
                            "      <th>Abuja</th>\n",
                            "      <td>5</td>\n",
                            "      <td>7</td>\n",
                            "    </tr>\n",
                            "    <tr>\n",
                            "      <th>Niger</th>\n",
                            "      <td>9</td>\n",
                            "      <td>11</td>\n",
                            "    </tr>\n",
                            "    <tr>\n",
                            "      <th>Jigawa</th>\n",
                            "      <td>13</td>\n",
                            "      <td>15</td>\n",
                            "    </tr>\n",
                            "  </tbody>\n",
                            "</table>\n",
                            "</div>"
                        ],
                        "text/plain": [
                            "          2   4\n",
                            "Lagos     1   3\n",
                            " Abuja    5   7\n",
                            " Niger    9  11\n",
                            " Jigawa  13  15"
                        ]
                    },
                    "execution_count": 132,
                    "metadata": {},
                    "output_type": "execute_result"
                }
            ],
            "source": [
                "# Indexing\n",
                "print(data['2'])\n",
                "data[['2','4']]"
            ]
        },
        {
            "cell_type": "code",
            "execution_count": 133,
            "metadata": {},
            "outputs": [
                {
                    "data": {
                        "text/html": [
                            "<div>\n",
                            "<style scoped>\n",
                            "    .dataframe tbody tr th:only-of-type {\n",
                            "        vertical-align: middle;\n",
                            "    }\n",
                            "\n",
                            "    .dataframe tbody tr th {\n",
                            "        vertical-align: top;\n",
                            "    }\n",
                            "\n",
                            "    .dataframe thead th {\n",
                            "        text-align: right;\n",
                            "    }\n",
                            "</style>\n",
                            "<table border=\"1\" class=\"dataframe\">\n",
                            "  <thead>\n",
                            "    <tr style=\"text-align: right;\">\n",
                            "      <th></th>\n",
                            "      <th>1</th>\n",
                            "      <th>2</th>\n",
                            "      <th>3</th>\n",
                            "      <th>4</th>\n",
                            "    </tr>\n",
                            "  </thead>\n",
                            "  <tbody>\n",
                            "    <tr>\n",
                            "      <th>Lagos</th>\n",
                            "      <td>0</td>\n",
                            "      <td>1</td>\n",
                            "      <td>2</td>\n",
                            "      <td>3</td>\n",
                            "    </tr>\n",
                            "    <tr>\n",
                            "      <th>Abuja</th>\n",
                            "      <td>4</td>\n",
                            "      <td>5</td>\n",
                            "      <td>6</td>\n",
                            "      <td>7</td>\n",
                            "    </tr>\n",
                            "  </tbody>\n",
                            "</table>\n",
                            "</div>"
                        ],
                        "text/plain": [
                            "        1  2  3  4\n",
                            "Lagos   0  1  2  3\n",
                            " Abuja  4  5  6  7"
                        ]
                    },
                    "execution_count": 133,
                    "metadata": {},
                    "output_type": "execute_result"
                }
            ],
            "source": [
                "data[:2]"
            ]
        },
        {
            "cell_type": "code",
            "execution_count": 135,
            "metadata": {},
            "outputs": [
                {
                    "data": {
                        "text/html": [
                            "<div>\n",
                            "<style scoped>\n",
                            "    .dataframe tbody tr th:only-of-type {\n",
                            "        vertical-align: middle;\n",
                            "    }\n",
                            "\n",
                            "    .dataframe tbody tr th {\n",
                            "        vertical-align: top;\n",
                            "    }\n",
                            "\n",
                            "    .dataframe thead th {\n",
                            "        text-align: right;\n",
                            "    }\n",
                            "</style>\n",
                            "<table border=\"1\" class=\"dataframe\">\n",
                            "  <thead>\n",
                            "    <tr style=\"text-align: right;\">\n",
                            "      <th></th>\n",
                            "      <th>1</th>\n",
                            "      <th>2</th>\n",
                            "      <th>3</th>\n",
                            "      <th>4</th>\n",
                            "    </tr>\n",
                            "  </thead>\n",
                            "  <tbody>\n",
                            "    <tr>\n",
                            "      <th>Lagos</th>\n",
                            "      <td>0</td>\n",
                            "      <td>1</td>\n",
                            "      <td>2</td>\n",
                            "      <td>3</td>\n",
                            "    </tr>\n",
                            "    <tr>\n",
                            "      <th>Abuja</th>\n",
                            "      <td>4</td>\n",
                            "      <td>5</td>\n",
                            "      <td>6</td>\n",
                            "      <td>7</td>\n",
                            "    </tr>\n",
                            "    <tr>\n",
                            "      <th>Niger</th>\n",
                            "      <td>8</td>\n",
                            "      <td>9</td>\n",
                            "      <td>10</td>\n",
                            "      <td>11</td>\n",
                            "    </tr>\n",
                            "    <tr>\n",
                            "      <th>Jigawa</th>\n",
                            "      <td>12</td>\n",
                            "      <td>13</td>\n",
                            "      <td>14</td>\n",
                            "      <td>15</td>\n",
                            "    </tr>\n",
                            "  </tbody>\n",
                            "</table>\n",
                            "</div>"
                        ],
                        "text/plain": [
                            "          1   2   3   4\n",
                            "Lagos     0   1   2   3\n",
                            " Abuja    4   5   6   7\n",
                            " Niger    8   9  10  11\n",
                            " Jigawa  12  13  14  15"
                        ]
                    },
                    "execution_count": 135,
                    "metadata": {},
                    "output_type": "execute_result"
                }
            ],
            "source": [
                "data"
            ]
        },
        {
            "cell_type": "code",
            "execution_count": 146,
            "metadata": {},
            "outputs": [
                {
                    "data": {
                        "text/html": [
                            "<div>\n",
                            "<style scoped>\n",
                            "    .dataframe tbody tr th:only-of-type {\n",
                            "        vertical-align: middle;\n",
                            "    }\n",
                            "\n",
                            "    .dataframe tbody tr th {\n",
                            "        vertical-align: top;\n",
                            "    }\n",
                            "\n",
                            "    .dataframe thead th {\n",
                            "        text-align: right;\n",
                            "    }\n",
                            "</style>\n",
                            "<table border=\"1\" class=\"dataframe\">\n",
                            "  <thead>\n",
                            "    <tr style=\"text-align: right;\">\n",
                            "      <th></th>\n",
                            "      <th>1</th>\n",
                            "      <th>2</th>\n",
                            "      <th>3</th>\n",
                            "      <th>4</th>\n",
                            "    </tr>\n",
                            "  </thead>\n",
                            "  <tbody>\n",
                            "    <tr>\n",
                            "      <th>Lagos</th>\n",
                            "      <td>0</td>\n",
                            "      <td>1</td>\n",
                            "      <td>2</td>\n",
                            "      <td>3</td>\n",
                            "    </tr>\n",
                            "    <tr>\n",
                            "      <th>Abuja</th>\n",
                            "      <td>4</td>\n",
                            "      <td>5</td>\n",
                            "      <td>0</td>\n",
                            "      <td>0</td>\n",
                            "    </tr>\n",
                            "    <tr>\n",
                            "      <th>Niger</th>\n",
                            "      <td>0</td>\n",
                            "      <td>0</td>\n",
                            "      <td>0</td>\n",
                            "      <td>0</td>\n",
                            "    </tr>\n",
                            "    <tr>\n",
                            "      <th>Jigawa</th>\n",
                            "      <td>0</td>\n",
                            "      <td>0</td>\n",
                            "      <td>0</td>\n",
                            "      <td>0</td>\n",
                            "    </tr>\n",
                            "  </tbody>\n",
                            "</table>\n",
                            "</div>"
                        ],
                        "text/plain": [
                            "         1  2  3  4\n",
                            "Lagos    0  1  2  3\n",
                            " Abuja   4  5  0  0\n",
                            " Niger   0  0  0  0\n",
                            " Jigawa  0  0  0  0"
                        ]
                    },
                    "execution_count": 146,
                    "metadata": {},
                    "output_type": "execute_result"
                }
            ],
            "source": [
                "data[data > 5] = 0\n",
                "data"
            ]
        },
        {
            "cell_type": "code",
            "execution_count": 144,
            "metadata": {},
            "outputs": [
                {
                    "data": {
                        "text/html": [
                            "<div>\n",
                            "<style scoped>\n",
                            "    .dataframe tbody tr th:only-of-type {\n",
                            "        vertical-align: middle;\n",
                            "    }\n",
                            "\n",
                            "    .dataframe tbody tr th {\n",
                            "        vertical-align: top;\n",
                            "    }\n",
                            "\n",
                            "    .dataframe thead th {\n",
                            "        text-align: right;\n",
                            "    }\n",
                            "</style>\n",
                            "<table border=\"1\" class=\"dataframe\">\n",
                            "  <thead>\n",
                            "    <tr style=\"text-align: right;\">\n",
                            "      <th></th>\n",
                            "      <th>1</th>\n",
                            "      <th>2</th>\n",
                            "      <th>3</th>\n",
                            "      <th>4</th>\n",
                            "    </tr>\n",
                            "  </thead>\n",
                            "  <tbody>\n",
                            "    <tr>\n",
                            "      <th>Abuja</th>\n",
                            "      <td>4</td>\n",
                            "      <td>5</td>\n",
                            "      <td>6</td>\n",
                            "      <td>7</td>\n",
                            "    </tr>\n",
                            "    <tr>\n",
                            "      <th>Niger</th>\n",
                            "      <td>8</td>\n",
                            "      <td>9</td>\n",
                            "      <td>10</td>\n",
                            "      <td>11</td>\n",
                            "    </tr>\n",
                            "    <tr>\n",
                            "      <th>Jigawa</th>\n",
                            "      <td>12</td>\n",
                            "      <td>13</td>\n",
                            "      <td>14</td>\n",
                            "      <td>15</td>\n",
                            "    </tr>\n",
                            "  </tbody>\n",
                            "</table>\n",
                            "</div>"
                        ],
                        "text/plain": [
                            "          1   2   3   4\n",
                            " Abuja    4   5   6   7\n",
                            " Niger    8   9  10  11\n",
                            " Jigawa  12  13  14  15"
                        ]
                    },
                    "execution_count": 144,
                    "metadata": {},
                    "output_type": "execute_result"
                }
            ],
            "source": [
                "data[data['2'] >= 5]"
            ]
        },
        {
            "cell_type": "code",
            "execution_count": 7,
            "metadata": {},
            "outputs": [
                {
                    "data": {
                        "text/html": [
                            "<div>\n",
                            "<style scoped>\n",
                            "    .dataframe tbody tr th:only-of-type {\n",
                            "        vertical-align: middle;\n",
                            "    }\n",
                            "\n",
                            "    .dataframe tbody tr th {\n",
                            "        vertical-align: top;\n",
                            "    }\n",
                            "\n",
                            "    .dataframe thead th {\n",
                            "        text-align: right;\n",
                            "    }\n",
                            "</style>\n",
                            "<table border=\"1\" class=\"dataframe\">\n",
                            "  <thead>\n",
                            "    <tr style=\"text-align: right;\">\n",
                            "      <th></th>\n",
                            "      <th>Year</th>\n",
                            "      <th>Industry_aggregation_NZSIOC</th>\n",
                            "      <th>Industry_code_NZSIOC</th>\n",
                            "      <th>Industry_name_NZSIOC</th>\n",
                            "      <th>Units</th>\n",
                            "      <th>Variable_code</th>\n",
                            "      <th>Variable_name</th>\n",
                            "      <th>Variable_category</th>\n",
                            "      <th>Value</th>\n",
                            "      <th>Industry_code_ANZSIC06</th>\n",
                            "    </tr>\n",
                            "  </thead>\n",
                            "  <tbody>\n",
                            "    <tr>\n",
                            "      <th>0</th>\n",
                            "      <td>2020</td>\n",
                            "      <td>Level 1</td>\n",
                            "      <td>99999</td>\n",
                            "      <td>All industries</td>\n",
                            "      <td>Dollars (millions)</td>\n",
                            "      <td>H01</td>\n",
                            "      <td>Total income</td>\n",
                            "      <td>Financial performance</td>\n",
                            "      <td>733,258</td>\n",
                            "      <td>ANZSIC06 divisions A-S (excluding classes K633...</td>\n",
                            "    </tr>\n",
                            "    <tr>\n",
                            "      <th>1</th>\n",
                            "      <td>2020</td>\n",
                            "      <td>Level 1</td>\n",
                            "      <td>99999</td>\n",
                            "      <td>All industries</td>\n",
                            "      <td>Dollars (millions)</td>\n",
                            "      <td>H04</td>\n",
                            "      <td>Sales, government funding, grants and subsidies</td>\n",
                            "      <td>Financial performance</td>\n",
                            "      <td>660,630</td>\n",
                            "      <td>ANZSIC06 divisions A-S (excluding classes K633...</td>\n",
                            "    </tr>\n",
                            "    <tr>\n",
                            "      <th>2</th>\n",
                            "      <td>2020</td>\n",
                            "      <td>Level 1</td>\n",
                            "      <td>99999</td>\n",
                            "      <td>All industries</td>\n",
                            "      <td>Dollars (millions)</td>\n",
                            "      <td>H05</td>\n",
                            "      <td>Interest, dividends and donations</td>\n",
                            "      <td>Financial performance</td>\n",
                            "      <td>54,342</td>\n",
                            "      <td>ANZSIC06 divisions A-S (excluding classes K633...</td>\n",
                            "    </tr>\n",
                            "    <tr>\n",
                            "      <th>3</th>\n",
                            "      <td>2020</td>\n",
                            "      <td>Level 1</td>\n",
                            "      <td>99999</td>\n",
                            "      <td>All industries</td>\n",
                            "      <td>Dollars (millions)</td>\n",
                            "      <td>H07</td>\n",
                            "      <td>Non-operating income</td>\n",
                            "      <td>Financial performance</td>\n",
                            "      <td>18,285</td>\n",
                            "      <td>ANZSIC06 divisions A-S (excluding classes K633...</td>\n",
                            "    </tr>\n",
                            "    <tr>\n",
                            "      <th>4</th>\n",
                            "      <td>2020</td>\n",
                            "      <td>Level 1</td>\n",
                            "      <td>99999</td>\n",
                            "      <td>All industries</td>\n",
                            "      <td>Dollars (millions)</td>\n",
                            "      <td>H08</td>\n",
                            "      <td>Total expenditure</td>\n",
                            "      <td>Financial performance</td>\n",
                            "      <td>654,872</td>\n",
                            "      <td>ANZSIC06 divisions A-S (excluding classes K633...</td>\n",
                            "    </tr>\n",
                            "    <tr>\n",
                            "      <th>5</th>\n",
                            "      <td>2020</td>\n",
                            "      <td>Level 1</td>\n",
                            "      <td>99999</td>\n",
                            "      <td>All industries</td>\n",
                            "      <td>Dollars (millions)</td>\n",
                            "      <td>H09</td>\n",
                            "      <td>Interest and donations</td>\n",
                            "      <td>Financial performance</td>\n",
                            "      <td>32,730</td>\n",
                            "      <td>ANZSIC06 divisions A-S (excluding classes K633...</td>\n",
                            "    </tr>\n",
                            "    <tr>\n",
                            "      <th>6</th>\n",
                            "      <td>2020</td>\n",
                            "      <td>Level 1</td>\n",
                            "      <td>99999</td>\n",
                            "      <td>All industries</td>\n",
                            "      <td>Dollars (millions)</td>\n",
                            "      <td>H10</td>\n",
                            "      <td>Indirect taxes</td>\n",
                            "      <td>Financial performance</td>\n",
                            "      <td>7,509</td>\n",
                            "      <td>ANZSIC06 divisions A-S (excluding classes K633...</td>\n",
                            "    </tr>\n",
                            "    <tr>\n",
                            "      <th>7</th>\n",
                            "      <td>2020</td>\n",
                            "      <td>Level 1</td>\n",
                            "      <td>99999</td>\n",
                            "      <td>All industries</td>\n",
                            "      <td>Dollars (millions)</td>\n",
                            "      <td>H11</td>\n",
                            "      <td>Depreciation</td>\n",
                            "      <td>Financial performance</td>\n",
                            "      <td>26,821</td>\n",
                            "      <td>ANZSIC06 divisions A-S (excluding classes K633...</td>\n",
                            "    </tr>\n",
                            "    <tr>\n",
                            "      <th>8</th>\n",
                            "      <td>2020</td>\n",
                            "      <td>Level 1</td>\n",
                            "      <td>99999</td>\n",
                            "      <td>All industries</td>\n",
                            "      <td>Dollars (millions)</td>\n",
                            "      <td>H12</td>\n",
                            "      <td>Salaries and wages paid</td>\n",
                            "      <td>Financial performance</td>\n",
                            "      <td>119,387</td>\n",
                            "      <td>ANZSIC06 divisions A-S (excluding classes K633...</td>\n",
                            "    </tr>\n",
                            "    <tr>\n",
                            "      <th>9</th>\n",
                            "      <td>2020</td>\n",
                            "      <td>Level 1</td>\n",
                            "      <td>99999</td>\n",
                            "      <td>All industries</td>\n",
                            "      <td>Dollars (millions)</td>\n",
                            "      <td>H13</td>\n",
                            "      <td>Redundancy and severance</td>\n",
                            "      <td>Financial performance</td>\n",
                            "      <td>305</td>\n",
                            "      <td>ANZSIC06 divisions A-S (excluding classes K633...</td>\n",
                            "    </tr>\n",
                            "  </tbody>\n",
                            "</table>\n",
                            "</div>"
                        ],
                        "text/plain": [
                            "   Year Industry_aggregation_NZSIOC Industry_code_NZSIOC Industry_name_NZSIOC  \\\n",
                            "0  2020                     Level 1                99999       All industries   \n",
                            "1  2020                     Level 1                99999       All industries   \n",
                            "2  2020                     Level 1                99999       All industries   \n",
                            "3  2020                     Level 1                99999       All industries   \n",
                            "4  2020                     Level 1                99999       All industries   \n",
                            "5  2020                     Level 1                99999       All industries   \n",
                            "6  2020                     Level 1                99999       All industries   \n",
                            "7  2020                     Level 1                99999       All industries   \n",
                            "8  2020                     Level 1                99999       All industries   \n",
                            "9  2020                     Level 1                99999       All industries   \n",
                            "\n",
                            "                Units Variable_code  \\\n",
                            "0  Dollars (millions)           H01   \n",
                            "1  Dollars (millions)           H04   \n",
                            "2  Dollars (millions)           H05   \n",
                            "3  Dollars (millions)           H07   \n",
                            "4  Dollars (millions)           H08   \n",
                            "5  Dollars (millions)           H09   \n",
                            "6  Dollars (millions)           H10   \n",
                            "7  Dollars (millions)           H11   \n",
                            "8  Dollars (millions)           H12   \n",
                            "9  Dollars (millions)           H13   \n",
                            "\n",
                            "                                     Variable_name      Variable_category  \\\n",
                            "0                                     Total income  Financial performance   \n",
                            "1  Sales, government funding, grants and subsidies  Financial performance   \n",
                            "2                Interest, dividends and donations  Financial performance   \n",
                            "3                             Non-operating income  Financial performance   \n",
                            "4                                Total expenditure  Financial performance   \n",
                            "5                           Interest and donations  Financial performance   \n",
                            "6                                   Indirect taxes  Financial performance   \n",
                            "7                                     Depreciation  Financial performance   \n",
                            "8                          Salaries and wages paid  Financial performance   \n",
                            "9                         Redundancy and severance  Financial performance   \n",
                            "\n",
                            "     Value                             Industry_code_ANZSIC06  \n",
                            "0  733,258  ANZSIC06 divisions A-S (excluding classes K633...  \n",
                            "1  660,630  ANZSIC06 divisions A-S (excluding classes K633...  \n",
                            "2   54,342  ANZSIC06 divisions A-S (excluding classes K633...  \n",
                            "3   18,285  ANZSIC06 divisions A-S (excluding classes K633...  \n",
                            "4  654,872  ANZSIC06 divisions A-S (excluding classes K633...  \n",
                            "5   32,730  ANZSIC06 divisions A-S (excluding classes K633...  \n",
                            "6    7,509  ANZSIC06 divisions A-S (excluding classes K633...  \n",
                            "7   26,821  ANZSIC06 divisions A-S (excluding classes K633...  \n",
                            "8  119,387  ANZSIC06 divisions A-S (excluding classes K633...  \n",
                            "9      305  ANZSIC06 divisions A-S (excluding classes K633...  "
                        ]
                    },
                    "execution_count": 7,
                    "metadata": {},
                    "output_type": "execute_result"
                }
            ],
            "source": [
                "import pandas as pd\n",
                "survey = pd.read_csv('survey.csv')\n",
                "survey.head(10)\n",
                "\n"
            ]
        },
        {
            "cell_type": "code",
            "execution_count": 9,
            "metadata": {},
            "outputs": [
                {
                    "data": {
                        "text/plain": [
                            "(37080, 10)"
                        ]
                    },
                    "execution_count": 9,
                    "metadata": {},
                    "output_type": "execute_result"
                }
            ],
            "source": [
                "survey.shape"
            ]
        },
        {
            "cell_type": "code",
            "execution_count": 10,
            "metadata": {},
            "outputs": [
                {
                    "data": {
                        "text/plain": [
                            "Year                            int64\n",
                            "Industry_aggregation_NZSIOC    object\n",
                            "Industry_code_NZSIOC           object\n",
                            "Industry_name_NZSIOC           object\n",
                            "Units                          object\n",
                            "Variable_code                  object\n",
                            "Variable_name                  object\n",
                            "Variable_category              object\n",
                            "Value                          object\n",
                            "Industry_code_ANZSIC06         object\n",
                            "dtype: object"
                        ]
                    },
                    "execution_count": 10,
                    "metadata": {},
                    "output_type": "execute_result"
                }
            ],
            "source": [
                "survey.dtypes"
            ]
        },
        {
            "cell_type": "code",
            "execution_count": 11,
            "metadata": {},
            "outputs": [
                {
                    "data": {
                        "text/html": [
                            "<div>\n",
                            "<style scoped>\n",
                            "    .dataframe tbody tr th:only-of-type {\n",
                            "        vertical-align: middle;\n",
                            "    }\n",
                            "\n",
                            "    .dataframe tbody tr th {\n",
                            "        vertical-align: top;\n",
                            "    }\n",
                            "\n",
                            "    .dataframe thead th {\n",
                            "        text-align: right;\n",
                            "    }\n",
                            "</style>\n",
                            "<table border=\"1\" class=\"dataframe\">\n",
                            "  <thead>\n",
                            "    <tr style=\"text-align: right;\">\n",
                            "      <th></th>\n",
                            "      <th>Year</th>\n",
                            "      <th>Industry_aggregation_NZSIOC</th>\n",
                            "      <th>Industry_code_NZSIOC</th>\n",
                            "      <th>Industry_name_NZSIOC</th>\n",
                            "      <th>Units</th>\n",
                            "      <th>Variable_code</th>\n",
                            "      <th>Variable_name</th>\n",
                            "      <th>Variable_category</th>\n",
                            "      <th>Value</th>\n",
                            "      <th>Industry_code_ANZSIC06</th>\n",
                            "    </tr>\n",
                            "  </thead>\n",
                            "  <tbody>\n",
                            "    <tr>\n",
                            "      <th>37077</th>\n",
                            "      <td>2013</td>\n",
                            "      <td>Level 3</td>\n",
                            "      <td>ZZ11</td>\n",
                            "      <td>Food product manufacturing</td>\n",
                            "      <td>Percentage</td>\n",
                            "      <td>H39</td>\n",
                            "      <td>Return on equity</td>\n",
                            "      <td>Financial ratios</td>\n",
                            "      <td>12</td>\n",
                            "      <td>ANZSIC06 groups C111, C112, C113, C114, C115, ...</td>\n",
                            "    </tr>\n",
                            "    <tr>\n",
                            "      <th>37078</th>\n",
                            "      <td>2013</td>\n",
                            "      <td>Level 3</td>\n",
                            "      <td>ZZ11</td>\n",
                            "      <td>Food product manufacturing</td>\n",
                            "      <td>Percentage</td>\n",
                            "      <td>H40</td>\n",
                            "      <td>Return on total assets</td>\n",
                            "      <td>Financial ratios</td>\n",
                            "      <td>5</td>\n",
                            "      <td>ANZSIC06 groups C111, C112, C113, C114, C115, ...</td>\n",
                            "    </tr>\n",
                            "    <tr>\n",
                            "      <th>37079</th>\n",
                            "      <td>2013</td>\n",
                            "      <td>Level 3</td>\n",
                            "      <td>ZZ11</td>\n",
                            "      <td>Food product manufacturing</td>\n",
                            "      <td>Percentage</td>\n",
                            "      <td>H41</td>\n",
                            "      <td>Liabilities structure</td>\n",
                            "      <td>Financial ratios</td>\n",
                            "      <td>46</td>\n",
                            "      <td>ANZSIC06 groups C111, C112, C113, C114, C115, ...</td>\n",
                            "    </tr>\n",
                            "  </tbody>\n",
                            "</table>\n",
                            "</div>"
                        ],
                        "text/plain": [
                            "       Year Industry_aggregation_NZSIOC Industry_code_NZSIOC  \\\n",
                            "37077  2013                     Level 3                 ZZ11   \n",
                            "37078  2013                     Level 3                 ZZ11   \n",
                            "37079  2013                     Level 3                 ZZ11   \n",
                            "\n",
                            "             Industry_name_NZSIOC       Units Variable_code  \\\n",
                            "37077  Food product manufacturing  Percentage           H39   \n",
                            "37078  Food product manufacturing  Percentage           H40   \n",
                            "37079  Food product manufacturing  Percentage           H41   \n",
                            "\n",
                            "                Variable_name Variable_category Value  \\\n",
                            "37077        Return on equity  Financial ratios    12   \n",
                            "37078  Return on total assets  Financial ratios     5   \n",
                            "37079   Liabilities structure  Financial ratios    46   \n",
                            "\n",
                            "                                  Industry_code_ANZSIC06  \n",
                            "37077  ANZSIC06 groups C111, C112, C113, C114, C115, ...  \n",
                            "37078  ANZSIC06 groups C111, C112, C113, C114, C115, ...  \n",
                            "37079  ANZSIC06 groups C111, C112, C113, C114, C115, ...  "
                        ]
                    },
                    "execution_count": 11,
                    "metadata": {},
                    "output_type": "execute_result"
                }
            ],
            "source": [
                "survey.tail(3)"
            ]
        },
        {
            "cell_type": "code",
            "execution_count": null,
            "metadata": {},
            "outputs": [],
            "source": []
        },
        {
            "cell_type": "code",
            "execution_count": 14,
            "metadata": {},
            "outputs": [],
            "source": [
                "ff = pd.read_csv('https://raw.githubusercontent.com/dphi-official/Datasets/master/exam_scores.csv')\n"
            ]
        },
        {
            "cell_type": "code",
            "execution_count": 15,
            "metadata": {},
            "outputs": [],
            "source": [
                "ff.to_csv('exams_score.csv')"
            ]
        },
        {
            "cell_type": "code",
            "execution_count": 17,
            "metadata": {},
            "outputs": [
                {
                    "ename": "NameError",
                    "evalue": "name 'exams_score' is not defined",
                    "output_type": "error",
                    "traceback": [
                        "\u001b[1;31m---------------------------------------------------------------------------\u001b[0m",
                        "\u001b[1;31mNameError\u001b[0m                                 Traceback (most recent call last)",
                        "\u001b[1;32mc:\\Users\\Magic\\OneDrive\\Documents\\all vscode\\Data_Science_Bootcamp\\test\\first_pandas.ipynb Cell 63\u001b[0m in \u001b[0;36m<cell line: 1>\u001b[1;34m()\u001b[0m\n\u001b[1;32m----> <a href='vscode-notebook-cell:/c%3A/Users/Magic/OneDrive/Documents/all%20vscode/Data_Science_Bootcamp/test/first_pandas.ipynb#Y112sZmlsZQ%3D%3D?line=0'>1</a>\u001b[0m exams_score\n",
                        "\u001b[1;31mNameError\u001b[0m: name 'exams_score' is not defined"
                    ]
                }
            ],
            "source": [
                "exams_score"
            ]
        },
        {
            "cell_type": "code",
            "execution_count": null,
            "metadata": {},
            "outputs": [],
            "source": []
        }
    ],
    "metadata": {
        "kernelspec": {
            "display_name": "Python 3.10.2 ('.venv')",
            "language": "python",
            "name": "python3"
        },
        "language_info": {
            "codemirror_mode": {
                "name": "ipython",
                "version": 3
            },
            "file_extension": ".py",
            "mimetype": "text/x-python",
            "name": "python",
            "nbconvert_exporter": "python",
            "pygments_lexer": "ipython3",
            "version": "3.10.2"
        },
        "orig_nbformat": 4,
        "vscode": {
            "interpreter": {
                "hash": "cc70e69b2eb01b3619eb73a67fad1bc02665fec0193be6ce22ae2979f64c8272"
            }
        }
    },
    "nbformat": 4,
    "nbformat_minor": 2
}
